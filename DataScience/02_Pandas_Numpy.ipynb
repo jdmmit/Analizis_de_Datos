{
 "cells": [
  {
   "cell_type": "markdown",
   "id": "main-title",
   "metadata": {},
   "source": [
    "# 🐼📊 Guía Completa de Pandas y NumPy\n",
    "### *Manipulación y Análisis de Datos con Python*\n",
    "\n",
    "---\n",
    "\n",
    "¡Bienvenido a esta guía interactiva donde aprenderás a dominar las librerías más importantes para ciencia de datos en Python! 🚀\n",
    "\n",
    "**Autor:** Tu Nombre  \n",
    "**Fecha:** 2024  \n",
    "**Nivel:** Principiante - Intermedio  "
   ]
  },
  {
   "cell_type": "markdown",
   "id": "table-of-contents",
   "metadata": {},
   "source": [
    "## 📋 Índice de Contenidos\n",
    "\n",
    "### 🔧 [1. Configuración Inicial](#1-configuracion-inicial)\n",
    "- Instalación de librerías\n",
    "- Importación de módulos\n",
    "\n",
    "### 🏗️ [2. Creación de DataFrames](#2-creacion-de-dataframes)\n",
    "- **2.1** [📊 Usando Arrays de NumPy](#21-usando-arrays-de-numpy)\n",
    "  - Opción 1: Arrays NumPy\n",
    "  - Opción 2: Listas Python\n",
    "- **2.2** [📚 Usando Diccionarios](#22-usando-diccionarios)\n",
    "- **2.3** [📁 Desde Archivos CSV](#23-desde-archivos-csv)\n",
    "\n",
    "### 🔍 [3. Exploración de Datos](#3-exploracion-de-datos)\n",
    "- Información básica del DataFrame\n",
    "- Estadísticas descriptivas\n",
    "- Primeras y últimas filas\n",
    "\n",
    "### 🛠️ [4. Operaciones Básicas](#4-operaciones-basicas)\n",
    "- Selección de columnas\n",
    "- Filtrado de datos\n",
    "- Operaciones matemáticas\n",
    "\n",
    "### 📈 [5. Análisis Avanzado](#5-analisis-avanzado)\n",
    "- Agrupaciones\n",
    "- Correlaciones\n",
    "- Visualizaciones básicas\n",
    "\n",
    "---"
   ]
  },
  {
   "cell_type": "markdown",
   "id": "1-configuracion-inicial",
   "metadata": {},
   "source": [
    "## 1. 🔧 Configuración Inicial\n",
    "\n",
    "Antes de comenzar, necesitamos instalar e importar las librerías necesarias."
   ]
  },
  {
   "cell_type": "code",
   "execution_count": null,
   "id": "install-packages",
   "metadata": {},
   "outputs": [],
   "source": [
    "# 📦 Instalación de paquetes (descomenta si es necesario)\n",
    "# !pip install pandas\n",
    "# !pip install numpy\n",
    "# !pip install matplotlib\n",
    "# !pip install seaborn"
   ]
  },
  {
   "cell_type": "code",
   "execution_count": null,
   "id": "import-libraries",
   "metadata": {},
   "outputs": [],
   "source": [
    "# 📚 Importación de librerías esenciales\n",
    "import pandas as pd\n",
    "import numpy as np\n",
    "import matplotlib.pyplot as plt\n",
    "import seaborn as sns\n",
    "\n",
    "# 🎨 Configuración para gráficos más atractivos\n",
    "plt.style.use('seaborn-v0_8')\n",
    "sns.set_palette(\"husl\")\n",
    "\n",
    "print(\"✅ ¡Librerías importadas exitosamente!\")\n",
    "print(f\"🐼 Pandas versión: {pd.__version__}\")\n",
    "print(f\"🔢 NumPy versión: {np.__version__}\")"
   ]
  },
  {
   "cell_type": "markdown",
   "id": "2-creacion-de-dataframes",
   "metadata": {},
   "source": [
    "## 2. 🏗️ Creación de DataFrames\n",
    "\n",
    "Los DataFrames son la estructura de datos fundamental en Pandas. Aprenderemos diferentes formas de crearlos."
   ]
  },
  {
   "cell_type": "markdown",
   "id": "21-usando-arrays-de-numpy",
   "metadata": {},
   "source": [
    "### 2.1 📊 Usando Arrays de NumPy\n",
    "\n",
    "NumPy nos proporciona arrays eficientes que podemos convertir fácilmente en DataFrames."
   ]
  },
  {
   "cell_type": "markdown",
   "id": "opcion-1-numpy",
   "metadata": {},
   "source": [
    "#### 🔸 Opción 1: Arrays NumPy Puros"
   ]
  },
  {
   "cell_type": "code",
   "execution_count": null,
   "id": "create-numpy-array",
   "metadata": {},
   "outputs": [],
   "source": [
    "# 🔢 Creando un array de datos con NumPy\n",
    "data = np.array([[1, 4], [2, 5], [3, 4]])\n",
    "\n",
    "print(\"📊 Array NumPy creado:\")\n",
    "print(data)\n",
    "print(f\"📏 Forma del array: {data.shape}\")\n",
    "print(f\"🔍 Tipo de datos: {data.dtype}\")"
   ]
  },
  {
   "cell_type": "code",
   "execution_count": null,
   "id": "create-dataframe-numpy",
   "metadata": {},
   "outputs": [],
   "source": [
    "# 🐼 Creando un DataFrame desde el array NumPy\n",
    "df_numpy = pd.DataFrame(\n",
    "    data, \n",
    "    index=[\"fila_1\", \"fila_2\", \"fila_3\"], \n",
    "    columns=[\"columna_A\", \"columna_B\"]\n",
    ")\n",
    "\n",
    "print(\"🎉 ¡DataFrame creado exitosamente!\")\n",
    "df_numpy"
   ]
  },
  {
   "cell_type": "markdown",
   "id": "opcion-2-listas",
   "metadata": {},
   "source": [
    "#### 🔸 Opción 2: Listas Python"
   ]
  },
  {
   "cell_type": "code",
   "execution_count": null,
   "id": "create-list-data",
   "metadata": {},
   "outputs": [],
   "source": [
    "# 📝 Creando datos usando listas de Python\n",
    "data_list = [[1, 4], [2, 5], [3, 4]]\n",
    "\n",
    "print(\"📋 Lista de datos creada:\")\n",
    "print(data_list)"
   ]
  },
  {
   "cell_type": "code",
   "execution_count": null,
   "id": "create-dataframe-list",
   "metadata": {},
   "outputs": [],
   "source": [
    "# 🐼 Creando DataFrame desde listas\n",
    "df_list = pd.DataFrame(\n",
    "    data_list, \n",
    "    index=[\"fila_1\", \"fila_2\", \"fila_3\"], \n",
    "    columns=[\"columna_A\", \"columna_B\"]\n",
    ")\n",
    "\n",
    "print(\"✨ DataFrame desde listas:\")\n",
    "df_list"
   ]
  },
  {
   "cell_type": "markdown",
   "id": "22-usando-diccionarios",
   "metadata": {},
   "source": [
    "### 2.2 📚 Usando Diccionarios\n",
    "\n",
    "Los diccionarios son una forma muy intuitiva de crear DataFrames, especialmente cuando tenemos datos etiquetados."
   ]
  },
  {
   "cell_type": "code",
   "execution_count": null,
   "id": "create-state-data",
   "metadata": {},
   "outputs": [],
   "source": [
    "# 🗺️ Datos de estados estadounidenses\n",
    "states = [\"California\", \"Texas\", \"Florida\", \"New York\"]\n",
    "population = [39538223, 29145505, 21538187, 20201249]\n",
    "area_km2 = [423970, 695662, 170312, 141297]  # Área en km²\n",
    "\n",
    "print(\"🏛️ Estados:\", states)\n",
    "print(\"👥 Población:\", population)\n",
    "print(\"📐 Área (km²):\", area_km2)"
   ]
  },
  {
   "cell_type": "code",
   "execution_count": null,
   "id": "create-dictionary",
   "metadata": {},
   "outputs": [],
   "source": [
    "# 📖 Creando diccionario con los datos\n",
    "dict_states = {\n",
    "    \"Estado\": states,\n",
    "    \"Población\": population,\n",
    "    \"Área_km2\": area_km2\n",
    "}\n",
    "\n",
    "print(\"📚 Diccionario creado:\")\n",
    "for key, value in dict_states.items():\n",
    "    print(f\"  {key}: {value}\")"
   ]
  },
  {
   "cell_type": "code",
   "execution_count": null,
   "id": "create-dataframe-dict",
   "metadata": {},
   "outputs": [],
   "source": [
    "# 🐼 Creando DataFrame desde diccionario\n",
    "df_population = pd.DataFrame(dict_states)\n",
    "\n",
    "# 🧮 Calculando densidad poblacional\n",
    "df_population['Densidad_hab_km2'] = df_population['Población'] / df_population['Área_km2']\n",
    "df_population['Densidad_hab_km2'] = df_population['Densidad_hab_km2'].round(2)\n",
    "\n",
    "print(\"🌟 DataFrame de estados con densidad poblacional:\")\n",
    "df_population"
   ]
  },
  {
   "cell_type": "markdown",
   "id": "23-desde-archivos-csv",
   "metadata": {},
   "source": [
    "### 2.3 📁 Desde Archivos CSV\n",
    "\n",
    "La forma más común de trabajar con datos reales es cargándolos desde archivos CSV."
   ]
  },
  {
   "cell_type": "code",
   "execution_count": null,
   "id": "load-csv-data",
   "metadata": {},
   "outputs": [],
   "source": [
    "# 📂 Cargando datos desde archivo CSV\n",
    "try:\n",
    "    df_exams = pd.read_csv(\"StudentsPerformance.csv\")\n",
    "    print(\"✅ ¡Archivo CSV cargado exitosamente!\")\n",
    "    print(f\"📊 Dimensiones del dataset: {df_exams.shape}\")\n",
    "    print(f\"📋 Columnas: {list(df_exams.columns)}\")\nexcept FileNotFoundError:\n",
    "    print(\"❌ Error: No se encontró el archivo 'StudentsPerformance.csv'\")\n",
    "    print(\"💡 Asegúrate de que el archivo esté en el directorio correcto\")"
   ]
  },
  {
   "cell_type": "code",
   "execution_count": null,
   "id": "display-csv-data",
   "metadata": {},
   "outputs": [],
   "source": [
    "# 👀 Visualizando el DataFrame completo\n",
    "if 'df_exams' in locals():\n",
    "    print(\"📚 Dataset de Rendimiento Estudiantil:\")\n",
    "    df_exams\nelse:\n",
    "    print(\"⚠️ El DataFrame no está disponible\")"
   ]
  },
  {
   "cell_type": "markdown",
   "id": "3-exploracion-de-datos",
   "metadata": {},
   "source": [
    "## 3. 🔍 Exploración de Datos\n",
    "\n",
    "Una vez que tenemos nuestros datos cargados, es fundamental explorarlos para entender su estructura y contenido."
   ]
  },
  {
   "cell_type": "code",
   "execution_count": null,
   "id": "basic-info",
   "metadata": {},
   "outputs": [],
   "source": [
    "# 📊 Información básica del DataFrame\n",
    "if 'df_exams' in locals():\n",
    "    print(\"🔍 INFORMACIÓN GENERAL DEL DATASET\")\n",
    "    print(\"=\" * 40)\n",
    "    print(f\"📏 Forma (filas, columnas): {df_exams.shape}\")\n",
    "    print(f\"📋 Número de columnas: {len(df_exams.columns)}\")\n",
    "    print(f\"📊 Número de filas: {len(df_exams)}\")\n",
    "    print(f\"💾 Memoria utilizada: {df_exams.memory_usage(deep=True).sum() / 1024:.2f} KB\")\n",
    "    \n",
    "    print(\"\\n📝 INFORMACIÓN DETALLADA:\")\n",
    "    df_exams.info()"
   ]
  },
  {
   "cell_type": "code",
   "execution_count": null,
   "id": "first-last-rows",
   "metadata": {},
   "outputs": [],
   "source": [
    "# 👀 Primeras y últimas filas\n",
    "if 'df_exams' in locals():\n",
    "    print(\"🔝 PRIMERAS 5 FILAS:\")\n",
    "    display(df_exams.head())\n",
    "    \n",
    "    print(\"\\n🔚 ÚLTIMAS 5 FILAS:\")\n",
    "    display(df_exams.tail())"
   ]
  },
  {
   "cell_type": "code",
   "execution_count": null,
   "id": "descriptive-stats",
   "metadata": {},
   "outputs": [],
   "source": [
    "# 📈 Estadísticas descriptivas\n",
    "if 'df_exams' in locals():\n",
    "    print(\"📊 ESTADÍSTICAS DESCRIPTIVAS:\")\n",
    "    display(df_exams.describe())\n",
    "    \n",
    "    print(\"\\n🔢 ESTADÍSTICAS DE COLUMNAS CATEGÓRICAS:\")\n",
    "    categorical_cols = df_exams.select_dtypes(include=['object']).columns\n",
    "    for col in categorical_cols:\n",
    "        print(f\"\\n📋 {col}:\")\n",
    "        print(df_exams[col].value_counts())"
   ]
  },
  {
   "cell_type": "markdown",
   "id": "4-operaciones-basicas",
   "metadata": {},
   "source": [
    "## 4. 🛠️ Operaciones Básicas\n",
    "\n",
    "Aprendamos las operaciones fundamentales para manipular y analizar nuestros datos."
   ]
  },
  {
   "cell_type": "code",
   "execution_count": null,
   "id": "column-selection",
   "metadata": {},
   "outputs": [],
   "source": [
    "# 🎯 Selección de columnas específicas\n",
    "if 'df_exams' in locals():\n",
    "    print(\"🎯 SELECCIÓN DE COLUMNAS DE PUNTUACIONES:\")\n",
    "    scores_df = df_exams[['math score', 'reading score', 'writing score']]\n",
    "    display(scores_df.head())\n",
    "    \n",
    "    print(\"\\n📊 ESTADÍSTICAS DE PUNTUACIONES:\")\n",
    "    display(scores_df.describe())"
   ]
  },
  {
   "cell_type": "code",
   "execution_count": null,
   "id": "data-filtering",
   "metadata": {},
   "outputs": [],
   "source": [
    "# 🔍 Filtrado de datos\n",
    "if 'df_exams' in locals():\n",
    "    print(\"🏆 ESTUDIANTES CON PUNTUACIÓN ALTA EN MATEMÁTICAS (>= 80):\")\n",
    "    high_math = df_exams[df_exams['math score'] >= 80]\n",
    "    print(f\"📊 Número de estudiantes: {len(high_math)}\")\n",
    "    display(high_math.head())\n",
    "    \n",
    "    print(\"\\n👩‍🎓 ESTUDIANTES FEMENINAS CON PREPARACIÓN COMPLETA:\")\n",
    "    female_prepared = df_exams[\n",
    "        (df_exams['gender'] == 'female') & \n",
    "        (df_exams['test preparation course'] == 'completed')\n",
    "    ]\n",
    "    print(f\"📊 Número de estudiantes: {len(female_prepared)}\")\n",
    "    display(female_prepared.head())"
   ]
  },
  {
   "cell_type": "code",
   "execution_count": null,
   "id": "mathematical-operations",
   "metadata": {},
   "outputs": [],
   "source": [
    "# 🧮 Operaciones matemáticas\n",
    "if 'df_exams' in locals():\n",
    "    print(\"🧮 CREANDO NUEVAS COLUMNAS CON OPERACIONES:\")\n",
    "    \n",
    "    # Promedio de puntuaciones\n",
    "    df_exams['average_score'] = (\n",
    "        df_exams['math score'] + \n",
    "        df_exams['reading score'] + \n",
    "        df_exams['writing score']\n",
    "    ) / 3\n",
    "    \n",
    "    # Puntuación total\n",
    "    df_exams['total_score'] = (\n",
    "        df_exams['math score'] + \n",
    "        df_exams['reading score'] + \n",
    "        df_exams['writing score']\n",
    "    )\n",
    "    \n",
    "    # Clasificación de rendimiento\n",
    "    df_exams['performance_level'] = pd.cut(\n",
    "        df_exams['average_score'],\n",
    "        bins=[0, 60, 75, 85, 100],\n",
    "        labels=['Bajo', 'Medio', 'Alto', 'Excelente']\n",
    "    )\n",
    "    \n",
    "    print(\"✅ Nuevas columnas creadas:\")\n",
    "    print(\"  • average_score: Promedio de las tres puntuaciones\")\n",
    "    print(\"  • total_score: Suma total de puntuaciones\")\n",
    "    print(\"  • performance_level: Clasificación de rendimiento\")\n",
    "    \n",
    "    display(df_exams[['math score', 'reading score', 'writing score', \n",
    "                     'average_score', 'total_score', 'performance_level']].head())"
   ]
  },
  {
   "cell_type": "markdown",
   "id": "5-analisis-avanzado",
   "metadata": {},
   "source": [
    "## 5. 📈 Análisis Avanzado\n",
    "\n",
    "Profundicemos en análisis más sofisticados para extraer insights valiosos de nuestros datos."
   ]
  },
  {
   "cell_type": "code",
   "execution_count": null,
   "id": "groupby-analysis",
   "metadata": {},
   "outputs": [],
   "source": [
    "# 👥 Análisis por grupos\n",
    "if 'df_exams' in locals():\n",
    "    print(\"👥 ANÁLISIS POR GÉNERO:\")\n",
    "    gender_analysis = df_exams.groupby('gender')[['math score', 'reading score', 'writing score']].agg({\n",
    "        'math score': ['mean', 'std', 'min', 'max'],\n",
    "        'reading score': ['mean', 'std', 'min', 'max'],\n",
    "        'writing score': ['mean', 'std', 'min', 'max']\n",
    "    }).round(2)\n",
    "    \n",
    "    display(gender_analysis)\n",
    "    \n",
    "    print(\"\\n🎓 ANÁLISIS POR NIVEL DE PREPARACIÓN:\")\n",
    "    prep_analysis = df_exams.groupby('test preparation course')['average_score'].agg([\n",
    "        'count', 'mean', 'std', 'min', 'max'\n",
    "    ]).round(2)\n",
    "    \n",
    "    display(prep_analysis)"
   ]
  },
  {
   "cell_type": "code",
   "execution_count": null,
   "id": "correlation-analysis",
   "metadata": {},
   "outputs": [],
   "source": [
    "# 🔗 Análisis de correlaciones\n",
    "if 'df_exams' in locals():\n",
    "    print(\"🔗 MATRIZ DE CORRELACIÓN ENTRE PUNTUACIONES:\")\n",
    "    \n",
    "    correlation_matrix = df_exams[['math score', 'reading score', 'writing score', 'average_score']].corr()\n",
    "    \n",
    "    # Crear visualización de la matriz de correlación\n",
    "    plt.figure(figsize=(10, 8))\n",
    "    sns.heatmap(correlation_matrix, \n",
    "                annot=True, \n",
    "                cmap='coolwarm', \n",
    "                center=0,\n",
    "                square=True,\n",
    "                fmt='.3f')\n",
    "    plt.title('🔗 Matriz de Correlación - Puntuaciones de Estudiantes', fontsize=16, pad=20)\n",
    "    plt.tight_layout()\n",
    "    plt.show()\n",
    "    \n",
    "    print(\"\\n📊 CORRELACIONES MÁS FUERTES:\")\n",
    "    # Encontrar las correlaciones más altas (excluyendo la diagonal)\n",
    "    corr_pairs = []\n",
    "    for i in range(len(correlation_matrix.columns)):\n",
    "        for j in range(i+1, len(correlation_matrix.columns)):\n",
    "            corr_pairs.append((\n",
    "                correlation_matrix.columns[i],\n",
    "                correlation_matrix.columns[j],\n",
    "                correlation_matrix.iloc[i, j]\n",
    "            ))\n",
    "    \n",
    "    corr_pairs.sort(key=lambda x: abs(x[2]), reverse=True)\n",
    "    \n",
    "    for var1, var2, corr in corr_pairs[:3]:\n",
    "        print(f\"  • {var1} ↔ {var2}: {corr:.3f}\")"
   ]
  },
  {
   "cell_type": "code",
   "execution_count": null,
   "id": "performance-distribution",
   "metadata": {},
   "outputs": [],
   "source": [
    "# 📊 Distribución de rendimiento\n",
    "if 'df_exams' in locals():\n",
    "    print(\"📊 DISTRIBUCIÓN DE NIVELES DE RENDIMIENTO:\")\n",
    "    \n",
    "    performance_counts = df_exams['performance_level'].value_counts()\n",
    "    performance_pct = df_exams['performance_level'].value_counts(normalize=True) * 100\n",
    "    \n",
    "    # Crear gráfico de barras\n",
    "    fig, (ax1, ax2) = plt.subplots(1, 2, figsize=(15, 6))\n",
    "    \n",
    "    # Gráfico de conteo\n",
    "    performance_counts.plot(kind='bar', ax=ax1, color=['#ff6b6b', '#4ecdc4', '#45b7d1', '#96ceb4'])\n",
    "    ax1.set_title('📊 Distribución de Niveles de Rendimiento (Conteo)', fontsize=14)\n",
    "    ax1.set_xlabel('Nivel de Rendimiento')\n",
    "    ax1.set_ylabel('Número de Estudiantes')\n",
    "    ax1.tick_params(axis='x', rotation=45)\n",
    "    \n",
    "    # Gráfico circular\n",
    "    performance_pct.plot(kind='pie', ax=ax2, autopct='%1.1f%%', \n",
    "                        colors=['#ff6b6b', '#4ecdc4', '#45b7d1', '#96ceb4'])\n",
    "    ax2.set_title('🥧 Distribución de Niveles de Rendimiento (%)', fontsize=14)\n",
    "    ax2.set_ylabel('')\n",
    "    \n",
    "    plt.tight_layout()\n",
    "    plt.show()\n",
    "    \n",
    "    print(\"\\n📈 RESUMEN DE RENDIMIENTO:\")\n",
    "    for level in performance_counts.index:\n",
    "        count = performance_counts[level]\n",
    "        pct = performance_pct[level]\n",
    "        print(f\"  • {level}: {count} estudiantes ({pct:.1f}%)\")"
   ]
  },
  {
   "cell_type": "code",
   "execution_count": null,
   "id": "score-comparison",
   "metadata": {},
   "outputs": [],
   "source": [
    "# 📊 Comparación de puntuaciones por género\n",
    "if 'df_exams' in locals():\n",
    "    print(\"👫 COMPARACIÓN DE PUNTUACIONES POR GÉNERO:\")\n",
    "    \n",
    "    fig, axes = plt.subplots(2, 2, figsize=(15, 12))\n",
    "    \n",
    "    # Boxplot para cada materia\n",
    "    subjects = ['math score', 'reading score', 'writing score']\n",
    "    colors = ['#ff6b6b', '#4ecdc4', '#45b7d1']\n",
    "    \n",
    "    for i, (subject, color) in enumerate(zip(subjects, colors)):\n",
    "        row = i // 2\n",
    "        col = i % 2\n",
    "        \n",
    "        sns.boxplot(data=df_exams, x='gender', y=subject, ax=axes[row, col], palette=[color, color])\n",
    "        axes[row, col].set_title(f'📊 {subject.title()} por Género', fontsize=12)\n",
    "        axes[row, col].set_xlabel('Género')\n",
    "        axes[row, col].set_ylabel('Puntuación')\n",
    "    \n",
    "    # Gráfico de promedio general\n",
    "    sns.boxplot(data=df_exams, x='gender', y='average_score', ax=axes[1, 1], palette=['#96ceb4', '#96ceb4'])\n",
    "    axes[1, 1].set_title('📊 Promedio General por Género', fontsize=12)\n",
    "    axes[1, 1].set_xlabel('Género')\n",
    "    axes[1, 1].set_ylabel('Puntuación Promedio')\n",
    "    \n",
    "    plt.tight_layout()\n",
    "    plt.show()"
   ]
  },
  {
   "cell_type": "markdown",
   "id": "conclusion",
   "metadata": {},
   "source": [
    "## 🎯 Conclusiones y Próximos Pasos\n",
    "\n",
    "### 🏆 Lo que hemos aprendido:\n",
    "\n",
    "1. **🔧 Configuración**: Cómo instalar e importar las librerías esenciales\n",
    "2. **🏗️ Creación de DataFrames**: Múltiples métodos para crear estructuras de datos\n",
    "3. **🔍 Exploración**: Técnicas para entender nuestros datos\n",
    "4. **🛠️ Manipulación**: Operaciones básicas y filtrado de datos\n",
    "5. **📈 Análisis**: Técnicas avanzadas de análisis y visualización\n",
    "\n",
    "### 🚀 Próximos pasos recomendados:\n",
    "\n",
    "- 📚 **Profundizar en visualizaciones** con Matplotlib y Seaborn\n",
    "- 🤖 **Explorar machine learning** con Scikit-learn\n",
    "- 🌐 **Trabajar con APIs** para obtener datos en tiempo real\n",
    "- 📊 **Crear dashboards interactivos** con Plotly y Dash\n",
    "- 🗄️ **Conectar con bases de datos** SQL\n",
    "\n",
    "### 💡 Recursos adicionales:\n",
    "\n",
    "- [📖 Documentación oficial de Pandas](https://pandas.pydata.org/docs/)\n",
    "- [🔢 Documentación oficial de NumPy](https://numpy.org/doc/)\n",
    "- [📊 Galería de Seaborn](https://seaborn.pydata.org/examples/index.html)\n",
    "- [🎨 Matplotlib Tutorials](https://matplotlib.org/stable/tutorials/index.html)\n",
    "\n",
    "---\n",
    "\n",
    "### 🙏 ¡Gracias por seguir esta guía!\n",
    "\n",
    "¿Tienes preguntas o sugerencias? ¡No dudes en experimentar con el código y crear tus propios análisis! 🚀✨"
   ]
  }
 ],
 "metadata": {
  "kernelspec": {
   "display_name": "venv",
   "language": "python",
   "name": "python3"
  },
  "language_info": {
   "codemirror_mode": {
    "name": "ipython",
    "version": 3
   },
   "file_extension": ".py",
   "mimetype": "text/x-python",
   "name": "python",
   "nbconvert_exporter": "python",
   "pygments_lexer": "ipython3",
   "version": "3.12.3"
  }
 },
 "nbformat": 4,
 "nbformat_minor": 5
}