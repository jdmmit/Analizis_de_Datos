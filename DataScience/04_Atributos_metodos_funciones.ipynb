{
 "cells": [
  {
   "cell_type": "markdown",
   "id": "title-header",
   "metadata": {},
   "source": [
    "# 📊 Atributos, Métodos y Funciones en Pandas\n",
    "\n",
    "---\n",
    "\n",
    "## 🎯 Objetivo del Notebook\n",
    "En este notebook aprenderemos a trabajar con **atributos**, **métodos** y **funciones** en Pandas usando un dataset real de rendimiento estudiantil. Exploraremos las diferencias entre estos conceptos fundamentales y cómo aplicarlos en el análisis de datos.\n",
    "\n",
    "---\n",
    "\n",
    "## 📚 Índice de Contenidos\n",
    "\n",
    "### [🔧 1. Configuración Inicial](#configuracion)\n",
    "- Importación de librerías\n",
    "- Carga del dataset\n",
    "- Vista previa de los datos\n",
    "\n",
    "### [🏷️ 2. Atributos de DataFrame](#atributos)\n",
    "- `shape` - Dimensiones del DataFrame\n",
    "- `index` - Índices de las filas\n",
    "- `columns` - Nombres de las columnas\n",
    "- `dtypes` - Tipos de datos\n",
    "- `size` - Número total de elementos\n",
    "- `ndim` - Número de dimensiones\n",
    "\n",
    "### [⚙️ 3. Métodos de DataFrame](#metodos)\n",
    "- `head()` - Primeras filas\n",
    "- `tail()` - Últimas filas\n",
    "- `info()` - Información general\n",
    "- `describe()` - Estadísticas descriptivas\n",
    "- `sample()` - Muestra aleatoria\n",
    "- `copy()` - Copia del DataFrame\n",
    "\n",
    "### [🔧 4. Funciones de Python](#funciones)\n",
    "- `len()` - Longitud del DataFrame\n",
    "- `max()` - Valor máximo\n",
    "- `min()` - Valor mínimo\n",
    "- `type()` - Tipo de objeto\n",
    "- `sum()` - Suma de valores\n",
    "\n",
    "### [🎓 5. Conceptos Clave y Diferencias](#conceptos)\n",
    "- ¿Qué son los atributos?\n",
    "- ¿Qué son los métodos?\n",
    "- ¿Qué son las funciones?\n",
    "- Cuándo usar cada uno\n",
    "\n",
    "### [🚀 6. Ejercicios Prácticos](#ejercicios)\n",
    "- Análisis exploratorio completo\n",
    "- Casos de uso avanzados\n",
    "\n",
    "---"
   ]
  },
  {
   "cell_type": "markdown",
   "id": "configuracion",
   "metadata": {},
   "source": [
    "## 🔧 1. Configuración Inicial\n",
    "\n",
    "### 📦 Importación de Librerías"
   ]
  },
  {
   "cell_type": "code",
   "execution_count": null,
   "id": "imports",
   "metadata": {},
   "outputs": [],
   "source": [
    "# Importamos las librerías necesarias\n",
    "import pandas as pd\n",
    "import numpy as np\n",
    "\n",
    "# Configuración para mostrar más columnas y filas\n",
    "pd.set_option('display.max_columns', None)\n",
    "pd.set_option('display.width', None)\n",
    "\n",
    "print(\"✅ Librerías importadas correctamente\")\n",
    "print(f\"📊 Versión de Pandas: {pd.__version__}\")\n",
    "print(f\"🔢 Versión de NumPy: {np.__version__}\")"
   ]
  },
  {
   "cell_type": "markdown",
   "id": "data-loading",
   "metadata": {},
   "source": [
    "### 📁 Carga del Dataset\n",
    "\n",
    "Trabajaremos con un dataset de **rendimiento estudiantil** que contiene información sobre:\n",
    "- 👥 Género de los estudiantes\n",
    "- 🌍 Grupo étnico/racial\n",
    "- 🎓 Nivel educativo de los padres\n",
    "- 🍽️ Tipo de almuerzo\n",
    "- 📚 Curso de preparación para exámenes\n",
    "- 📊 Puntuaciones en matemáticas, lectura y escritura"
   ]
  },
  {
   "cell_type": "code",
   "execution_count": null,
   "id": "data-load",
   "metadata": {},
   "outputs": [],
   "source": [
    "# 📂 Cargamos el dataset de rendimiento estudiantil\n",
    "df_exams = pd.read_csv(\"StudentsPerformance.csv\")\n",
    "\n",
    "print(\"✅ Dataset cargado exitosamente\")\n",
    "print(f\"📏 Dimensiones del dataset: {df_exams.shape[0]} filas x {df_exams.shape[1]} columnas\")"
   ]
  },
  {
   "cell_type": "markdown",
   "id": "data-preview",
   "metadata": {},
   "source": [
    "### 👀 Vista Previa de los Datos"
   ]
  },
  {
   "cell_type": "code",
   "execution_count": null,
   "id": "data-display",
   "metadata": {},
   "outputs": [],
   "source": [
    "# 🔍 Mostramos una vista completa del DataFrame\n",
    "print(\"📋 VISTA COMPLETA DEL DATASET:\")\n",
    "print(\"=\" * 80)\n",
    "display(df_exams)"
   ]
  },
  {
   "cell_type": "markdown",
   "id": "atributos",
   "metadata": {},
   "source": [
    "---\n",
    "\n",
    "## 🏷️ 2. Atributos de DataFrame\n",
    "\n",
    "Los **atributos** son propiedades del objeto DataFrame que nos dan información sobre su estructura y características. Se acceden **sin paréntesis** porque son propiedades, no funciones.\n",
    "\n",
    "### 📐 Dimensiones del DataFrame (`shape`)"
   ]
  },
  {
   "cell_type": "code",
   "execution_count": null,
   "id": "attr-shape",
   "metadata": {},
   "outputs": [],
   "source": [
    "# 📏 Obtenemos las dimensiones del DataFrame (filas, columnas)\n",
    "dimensiones = df_exams.shape\n",
    "\n",
    "print(f\"📊 Dimensiones del DataFrame: {dimensiones}\")\n",
    "print(f\"📈 Número de filas (estudiantes): {dimensiones[0]}\")\n",
    "print(f\"📋 Número de columnas (variables): {dimensiones[1]}\")\n",
    "print(f\"🔢 Total de celdas: {dimensiones[0] * dimensiones[1]}\")"
   ]
  },
  {
   "cell_type": "markdown",
   "id": "attr-index-section",
   "metadata": {},
   "source": [
    "### 🔢 Índices de las Filas (`index`)"
   ]
  },
  {
   "cell_type": "code",
   "execution_count": null,
   "id": "attr-index",
   "metadata": {},
   "outputs": [],
   "source": [
    "# 🏷️ Accedemos al índice del DataFrame\n",
    "indice = df_exams.index\n",
    "\n",
    "print(f\"🔍 Tipo de índice: {type(indice)}\")\n",
    "print(f\"📊 Información del índice: {indice}\")\n",
    "print(f\"🎯 Primer índice: {indice[0]}\")\n",
    "print(f\"🎯 Último índice: {indice[-1]}\")\n",
    "print(f\"📏 Longitud del índice: {len(indice)}\")"
   ]
  },
  {
   "cell_type": "markdown",
   "id": "attr-columns-section",
   "metadata": {},
   "source": [
    "### 📋 Nombres de las Columnas (`columns`)"
   ]
  },
  {
   "cell_type": "code",
   "execution_count": null,
   "id": "attr-columns",
   "metadata": {},
   "outputs": [],
   "source": [
    "# 📝 Obtenemos los nombres de las columnas\n",
    "columnas = df_exams.columns\n",
    "\n",
    "print(f\"📋 Columnas del DataFrame:\")\n",
    "print(f\"📊 {columnas}\")\n",
    "print(\"\\n🏷️ Lista de columnas:\")\n",
    "for i, col in enumerate(columnas, 1):\n",
    "    print(f\"  {i}. {col}\")\n",
    "\n",
    "print(f\"\\n📏 Total de columnas: {len(columnas)}\")"
   ]
  },
  {
   "cell_type": "markdown",
   "id": "attr-dtypes-section",
   "metadata": {},
   "source": [
    "### 🔤 Tipos de Datos (`dtypes`)"
   ]
  },
  {
   "cell_type": "code",
   "execution_count": null,
   "id": "attr-dtypes",
   "metadata": {},
   "outputs": [],
   "source": [
    "# 🔍 Analizamos los tipos de datos de cada columna\n",
    "tipos_datos = df_exams.dtypes\n",
    "\n",
    "print(\"🔤 TIPOS DE DATOS POR COLUMNA:\")\n",
    "print(\"=\" * 50)\n",
    "print(tipos_datos)\n",
    "\n",
    "print(\"\\n📊 RESUMEN DE TIPOS:\")\n",
    "print(\"=\" * 30)\n",
    "conteo_tipos = tipos_datos.value_counts()\n",
    "for tipo, cantidad in conteo_tipos.items():\n",
    "    emoji = \"🔤\" if tipo == 'object' else \"🔢\"\n",
    "    print(f\"{emoji} {tipo}: {cantidad} columnas\")"
   ]
  },
  {
   "cell_type": "markdown",
   "id": "attr-additional",
   "metadata": {},
   "source": [
    "### 🔢 Atributos Adicionales Útiles"
   ]
  },
  {
   "cell_type": "code",
   "execution_count": null,
   "id": "attr-extra",
   "metadata": {},
   "outputs": [],
   "source": [
    "# 📊 Exploramos otros atributos importantes\n",
    "print(\"🔢 ATRIBUTOS ADICIONALES:\")\n",
    "print(\"=\" * 40)\n",
    "print(f\"📦 Tamaño total (size): {df_exams.size} elementos\")\n",
    "print(f\"📐 Número de dimensiones (ndim): {df_exams.ndim}\")\n",
    "print(f\"💾 Memoria utilizada: {df_exams.memory_usage(deep=True).sum()} bytes\")\n",
    "print(f\"🔍 Está vacío (empty): {df_exams.empty}\")\n",
    "\n",
    "# Información sobre valores nulos\n",
    "print(\"\\n❓ INFORMACIÓN SOBRE VALORES NULOS:\")\n",
    "print(\"=\" * 40)\n",
    "valores_nulos = df_exams.isnull().sum()\n",
    "if valores_nulos.sum() == 0:\n",
    "    print(\"✅ No hay valores nulos en el dataset\")\n",
    "else:\n",
    "    print(valores_nulos[valores_nulos > 0])"
   ]
  },
  {
   "cell_type": "markdown",
   "id": "metodos",
   "metadata": {},
   "source": [
    "---\n",
    "\n",
    "## ⚙️ 3. Métodos de DataFrame\n",
    "\n",
    "Los **métodos** son funciones que pertenecen al objeto DataFrame y realizan operaciones específicas. Se llaman **con paréntesis** y pueden recibir parámetros.\n",
    "\n",
    "### 👀 Visualización de Datos"
   ]
  },
  {
   "cell_type": "code",
   "execution_count": null,
   "id": "method-head",
   "metadata": {},
   "outputs": [],
   "source": [
    "# 🔝 Mostramos las primeras filas del DataFrame\n",
    "print(\"🔝 PRIMERAS 5 FILAS DEL DATASET:\")\n",
    "print(\"=\" * 50)\n",
    "display(df_exams.head())\n",
    "\n",
    "print(\"\\n🔝 PRIMERAS 3 FILAS (personalizado):\")\n",
    "print(\"=\" * 40)\n",
    "display(df_exams.head(3))"
   ]
  },
  {
   "cell_type": "code",
   "execution_count": null,
   "id": "method-tail",
   "metadata": {},
   "outputs": [],
   "source": [
    "# 🔚 Mostramos las últimas filas del DataFrame\n",
    "print(\"🔚 ÚLTIMAS 5 FILAS DEL DATASET:\")\n",
    "print(\"=\" * 50)\n",
    "display(df_exams.tail())\n",
    "\n",
    "print(\"\\n🔚 ÚLTIMAS 3 FILAS (personalizado):\")\n",
    "print(\"=\" * 40)\n",
    "display(df_exams.tail(3))"
   ]
  },
  {
   "cell_type": "code",
   "execution_count": null,
   "id": "method-sample",
   "metadata": {},
   "outputs": [],
   "source": [
    "# 🎲 Mostramos una muestra aleatoria del DataFrame\n",
    "print(\"🎲 MUESTRA ALEATORIA DE 5 ESTUDIANTES:\")\n",
    "print(\"=\" * 50)\n",
    "display(df_exams.sample(5, random_state=42))\n",
    "\n",
    "print(\"\\n🎯 MUESTRA ALEATORIA DEL 1% DEL DATASET:\")\n",
    "print(\"=\" * 45)\n",
    "muestra_porcentual = df_exams.sample(frac=0.01, random_state=42)\n",
    "display(muestra_porcentual)\n",
    "print(f\"📊 Tamaño de la muestra: {len(muestra_porcentual)} estudiantes\")"
   ]
  },
  {
   "cell_type": "markdown",
   "id": "method-info-section",
   "metadata": {},
   "source": [
    "### 📊 Información General del Dataset"
   ]
  },
  {
   "cell_type": "code",
   "execution_count": null,
   "id": "method-info",
   "metadata": {},
   "outputs": [],
   "source": [
    "# ℹ️ Información general del DataFrame\n",
    "print(\"ℹ️ INFORMACIÓN GENERAL DEL DATASET:\")\n",
    "print(\"=\" * 50)\n",
    "df_exams.info()\n",
    "\n",
    "print(\"\\n💾 INFORMACIÓN DE MEMORIA:\")\n",
    "print(\"=\" * 30)\n",
    "memoria = df_exams.memory_usage(deep=True)\n",
    "print(memoria)\n",
    "print(f\"\\n📊 Memoria total utilizada: {memoria.sum() / 1024:.2f} KB\")"
   ]
  },
  {
   "cell_type": "markdown",
   "id": "method-describe-section",
   "metadata": {},
   "source": [
    "### 📈 Estadísticas Descriptivas"
   ]
  },
  {
   "cell_type": "code",
   "execution_count": null,
   "id": "method-describe",
   "metadata": {},
   "outputs": [],
   "source": [
    "# 📊 Estadísticas descriptivas de las columnas numéricas\n",
    "print(\"📈 ESTADÍSTICAS DESCRIPTIVAS (COLUMNAS NUMÉRICAS):\")\n",
    "print(\"=\" * 60)\n",
    "estadisticas = df_exams.describe()\n",
    "display(estadisticas)\n",
    "\n",
    "print(\"\\n📝 ESTADÍSTICAS DESCRIPTIVAS (TODAS LAS COLUMNAS):\")\n",
    "print(\"=\" * 55)\n",
    "estadisticas_todas = df_exams.describe(include='all')\n",
    "display(estadisticas_todas)"
   ]
  },
  {
   "cell_type": "markdown",
   "id": "method-additional",
   "metadata": {},
   "source": [
    "### 🔧 Métodos Adicionales Útiles"
   ]
  },
  {
   "cell_type": "code",
   "execution_count": null,
   "id": "method-extra",
   "metadata": {},
   "outputs": [],
   "source": [
    "# 🔄 Creamos una copia del DataFrame\n",
    "df_copia = df_exams.copy()\n",
    "print(f\"📋 Copia creada exitosamente. Tamaño: {df_copia.shape}\")\n",
    "\n",
    "# 🔍 Contamos valores únicos en columnas categóricas\n",
    "print(\"\\n🔍 VALORES ÚNICOS POR COLUMNA CATEGÓRICA:\")\n",
    "print(\"=\" * 50)\n",
    "columnas_categoricas = ['gender', 'race/ethnicity', 'parental level of education', \n",
    "                       'lunch', 'test preparation course']\n",
    "\n",
    "for col in columnas_categoricas:\n",
    "    valores_unicos = df_exams[col].nunique()\n",
    "    print(f\"📊 {col}: {valores_unicos} valores únicos\")\n",
    "    print(f\"   Valores: {list(df_exams[col].unique())}\")\n",
    "    print()"
   ]
  },
  {
   "cell_type": "code",
   "execution_count": null,
   "id": "method-value-counts",
   "metadata": {},
   "outputs": [],
   "source": [
    "# 📊 Análisis de frecuencias para variables categóricas\n",
    "print(\"📊 ANÁLISIS DE FRECUENCIAS:\")\n",
    "print(\"=\" * 40)\n",
    "\n",
    "# Distribución por género\n",
    "print(\"👥 DISTRIBUCIÓN POR GÉNERO:\")\n",
    "genero_freq = df_exams['gender'].value_counts()\n",
    "print(genero_freq)\n",
    "print(f\"📊 Porcentajes:\")\n",
    "print(df_exams['gender'].value_counts(normalize=True) * 100)\n",
    "\n",
    "print(\"\\n🎓 DISTRIBUCIÓN POR NIVEL EDUCATIVO DE PADRES:\")\n",
    "educacion_freq = df_exams['parental level of education'].value_counts()\n",
    "print(educacion_freq)\n",
    "\n",
    "print(\"\\n📚 DISTRIBUCIÓN POR CURSO DE PREPARACIÓN:\")\n",
    "curso_freq = df_exams['test preparation course'].value_counts()\n",
    "print(curso_freq)"
   ]
  },
  {
   "cell_type": "markdown",
   "id": "funciones",
   "metadata": {},
   "source": [
    "---\n",
    "\n",
    "## 🔧 4. Funciones de Python\n",
    "\n",
    "Las **funciones** son operaciones independientes de Python que pueden aplicarse a diferentes tipos de objetos, incluyendo DataFrames. No pertenecen específicamente a Pandas.\n",
    "\n",
    "### 📏 Función `len()` - Longitud"
   ]
  },
  {
   "cell_type": "code",
   "execution_count": null,
   "id": "func-len",
   "metadata": {},
   "outputs": [],
   "source": [
    "# 📏 Obtenemos la longitud (número de filas) del DataFrame\n",
    "longitud = len(df_exams)\n",
    "\n",
    "print(f\"📊 Número total de estudiantes: {longitud}\")\n",
    "print(f\"📈 Número de filas en el DataFrame: {longitud}\")\n",
    "\n",
    "# Comparamos con el atributo shape\n",
    "print(f\"\\n🔍 Comparación:\")\n",
    "print(f\"   len(df_exams): {len(df_exams)}\")\n",
    "print(f\"   df_exams.shape[0]: {df_exams.shape[0]}\")\n",
    "print(f\"   ¿Son iguales? {len(df_exams) == df_exams.shape[0]}\")"
   ]
  },
  {
   "cell_type": "markdown",
   "id": "func-max-min-section",
   "metadata": {},
   "source": [
    "### 🔢 Funciones `max()` y `min()` - Valores Extremos"
   ]
  },
  {
   "cell_type": "code",
   "execution_count": null,
   "id": "func-max-min",
   "metadata": {},
   "outputs": [],
   "source": [
    "# 🔝 Valores máximos y mínimos del índice\n",
    "indice_max = max(df_exams.index)\n",
    "indice_min = min(df_exams.index)\n",
    "\n",
    "print(f\"🔢 ANÁLISIS DEL ÍNDICE:\")\n",
    "print(f\"   📈 Índice máximo: {indice_max}\")\n",
    "print(f\"   📉 Índice mínimo: {indice_min}\")\n",
    "print(f\"   📊 Rango del índice: {indice_max - indice_min + 1}\")\n",
    "\n",
    "# Análisis de puntuaciones\n",
    "print(f\"\\n📊 ANÁLISIS DE PUNTUACIONES:\")\n",
    "materias = ['math score', 'reading score', 'writing score']\n",
    "\n",
    "for materia in materias:\n",
    "    puntuacion_max = max(df_exams[materia])\n",
    "    puntuacion_min = min(df_exams[materia])\n",
    "    rango = puntuacion_max - puntuacion_min\n",
    "    \n",
    "    emoji = \"🧮\" if 'math' in materia else \"📖\" if 'reading' in materia else \"✍️\"\n",
    "    print(f\"   {emoji} {materia.title()}:\")\n",
    "    print(f\"      📈 Máximo: {puntuacion_max}\")\n",
    "    print(f\"      📉 Mínimo: {puntuacion_min}\")\n",
    "    print(f\"      📊 Rango: {rango}\")\n",
    "    print()"
   ]
  },
  {
   "cell_type": "markdown",
   "id": "func-type-section",
   "metadata": {},
   "source": [
    "### 🏷️ Función `type()` - Tipo de Objeto"
   ]
  },
  {
   "cell_type": "code",
   "execution_count": null,
   "id": "func-type",
   "metadata": {},
   "outputs": [],
   "source": [
    "# 🔍 Analizamos los tipos de diferentes objetos\n",
    "print(\"🏷️ ANÁLISIS DE TIPOS DE OBJETOS:\")\n",
    "print(\"=\" * 40)\n",
    "\n",
    "objetos_analizar = {\n",
    "    'DataFrame completo': df_exams,\n",
    "    'Una columna (Serie)': df_exams['gender'],\n",
    "    'Índice': df_exams.index,\n",
    "    'Columnas': df_exams.columns,\n",
    "    'Un valor específico': df_exams.loc[0, 'math score'],\n",
    "    'Atributo shape': df_exams.shape\n",
    "}\n",
    "\n",
    "for nombre, objeto in objetos_analizar.items():\n",
    "    tipo = type(objeto)\n",
    "    print(f\"📊 {nombre}:\")\n",
    "    print(f\"   🏷️ Tipo: {tipo}\")\n",
    "    print(f\"   📝 Nombre corto: {tipo.__name__}\")\n",
    "    print()"
   ]
  },
  {
   "cell_type": "markdown",
   "id": "func-sum-section",
   "metadata": {},
   "source": [
    "### ➕ Función `sum()` - Suma de Valores"
   ]
  },
  {
   "cell_type": "code",
   "execution_count": null,
   "id": "func-sum",
   "metadata": {},
   "outputs": [],
   "source": [
    "# ➕ Calculamos sumas usando la función sum() de Python\n",
    "print(\"➕ ANÁLISIS DE SUMAS:\")\n",
    "print(\"=\" * 30)\n",
    "\n",
    "# Suma de todas las puntuaciones de matemáticas\n",
    "suma_math = sum(df_exams['math score'])\n",
    "print(f\"🧮 Suma total de puntuaciones de matemáticas: {suma_math}\")\n",
    "\n",
    "# Suma de todas las puntuaciones de lectura\n",
    "suma_reading = sum(df_exams['reading score'])\n",
    "print(f\"📖 Suma total de puntuaciones de lectura: {suma_reading}\")\n",
    "\n",
    "# Suma de todas las puntuaciones de escritura\n",
    "suma_writing = sum(df_exams['writing score'])\n",
    "print(f\"✍️ Suma total de puntuaciones de escritura: {suma_writing}\")\n",
    "\n",
    "# Suma total de todas las puntuaciones\n",
    "suma_total = suma_math + suma_reading + suma_writing\n",
    "print(f\"\\n📊 RESUMEN:\")\n",
    "print(f\"   🎯 Suma total de todas las puntuaciones: {suma_total}\")\n",
    "print(f\"   📈 Promedio general: {suma_total / (len(df_exams) * 3):.2f}\")\n",
    "\n",
    "# Comparación con métodos de Pandas\n",
    "print(f\"\\n🔍 COMPARACIÓN CON MÉTODOS DE PANDAS:\")\n",
    "print(f\"   sum() de Python: {sum(df_exams['math score'])}\")\n",
    "print(f\"   .sum() de Pandas: {df_exams['math score'].sum()}\")\n",
    "print(f\"   ¿Son iguales? {sum(df_exams['math score']) == df_exams['math score'].sum()}\")"
   ]
  },
  {
   "cell_type": "markdown",
   "id": "func-additional",
   "metadata": {},
   "source": [
    "### 🔧 Funciones Adicionales Útiles"
   ]
  },
  {
   "cell_type": "code",
   "execution_count": null,
   "id": "func-extra",
   "metadata": {},
   "outputs": [],
   "source": [
    "# 🔧 Otras funciones útiles de Python\n",
    "print(\"🔧 FUNCIONES ADICIONALES DE PYTHON:\")\n",
    "print(\"=\" * 45)\n",
    "\n",
    "# Función sorted() para ordenar\n",
    "puntuaciones_math = df_exams['math score'].tolist()\n",
    "puntuaciones_ordenadas = sorted(puntuaciones_math)\n",
    "print(f\"📊 Primeras 10 puntuaciones de matemáticas (ordenadas): {puntuaciones_ordenadas[:10]}\")\n",
    "print(f\"📊 Últimas 10 puntuaciones de matemáticas (ordenadas): {puntuaciones_ordenadas[-10:]}\")\n",
    "\n",
    "# Función enumerate() para enumerar\n",
    "print(f\"\\n🔢 PRIMERAS 5 COLUMNAS CON ENUMERATE:\")\n",
    "for i, columna in enumerate(df_exams.columns[:5]):\n",
    "    print(f\"   {i+1}. {columna}\")\n",
    "\n",
    "# Función zip() para combinar\n",
    "print(f\"\\n🔗 COMBINANDO COLUMNAS CON ZIP:\")\n",
    "materias = ['Matemáticas', 'Lectura', 'Escritura']\n",
    "columnas_scores = ['math score', 'reading score', 'writing score']\n",
    "\n",
    "for materia, columna in zip(materias, columnas_scores):\n",
    "    promedio = df_exams[columna].mean()\n",
    "    print(f\"   📊 {materia}: {promedio:.2f} puntos promedio\")"
   ]
  },
  {
   "cell_type": "markdown",
   "id": "conceptos",
   "metadata": {},
   "source": [
    "---\n",
    "\n",
    "## 🎓 5. Conceptos Clave y Diferencias\n",
    "\n",
    "### 🏷️ ¿Qué son los Atributos?\n",
    "\n",
    "Los **atributos** son **propiedades** del objeto DataFrame que almacenan información sobre su estructura:\n",
    "\n",
    "- ✅ Se acceden **sin paréntesis**: `df.shape`\n",
    "- ✅ Son **propiedades**, no funciones\n",
    "- ✅ Proporcionan **información estructural**\n",
    "- ✅ Ejemplos: `shape`, `index`, `columns`, `dtypes`\n",
    "\n",
    "### ⚙️ ¿Qué son los Métodos?\n",
    "\n",
    "Los **métodos** son **funciones** que pertenecen al objeto DataFrame:\n",
    "\n",
    "- ✅ Se llaman **con paréntesis**: `df.head()`\n",
    "- ✅ Pueden recibir **parámetros**: `df.head(10)`\n",
    "- ✅ Realizan **operaciones** sobre los datos\n",
    "- ✅ Ejemplos: `head()`, `info()`, `describe()`, `sample()`\n",
    "\n",
    "### 🔧 ¿Qué son las Funciones?\n",
    "\n",
    "Las **funciones** son operaciones **independientes** de Python:\n",
    "\n",
    "- ✅ Son **independientes** del objeto: `len(df)`\n",
    "- ✅ Funcionan con **múltiples tipos** de datos\n",
    "- ✅ Son parte del **lenguaje Python**\n",
    "- ✅ Ejemplos: `len()`, `max()`, `min()`, `type()`, `sum()`"
   ]
  },
  {
   "cell_type": "code",
   "execution_count": null,
   "id": "conceptos-ejemplo",
   "metadata": {},
   "outputs": [],
   "source": [
    "# 🎯 EJEMPLOS COMPARATIVOS\n",
    "print(\"🎯 EJEMPLOS COMPARATIVOS:\")\n",
    "print(\"=\" * 40)\n",
    "\n",
    "print(\"🏷️ ATRIBUTOS (sin paréntesis):\")\n",
    "print(f\"   📊 df_exams.shape = {df_exams.shape}\")\n",
    "print(f\"   🔢 df_exams.size = {df_exams.size}\")\n",
    "print(f\"   📋 df_exams.columns = {list(df_exams.columns[:3])}...\")\n",
    "\n",
    "print(\"\\n⚙️ MÉTODOS (con paréntesis):\")\n",
    "print(f\"   👀 df_exams.head() muestra las primeras filas\")\n",
    "print(f\"   ℹ️ df_exams.info() muestra información general\")\n",
    "print(f\"   📊 df_exams.describe() calcula estadísticas\")\n",
    "\n",
    "print(\"\\n🔧 FUNCIONES (independientes):\")\n",
    "print(f\"   📏 len(df_exams) = {len(df_exams)}\")\n",
    "print(f\"   🏷️ type(df_exams) = {type(df_exams).__name__}\")\n",
    "print(f\"   🔝 max(df_exams.index) = {max(df_exams.index)}\")\n",
    "\n",
    "print(\"\\n💡 CUÁNDO USAR CADA UNO:\")\n",
    "print(\"   🏷️ Atributos: Para obtener información estructural\")\n",
    "print(\"   ⚙️ Métodos: Para realizar operaciones sobre los datos\")\n",
    "print(\"   🔧 Funciones: Para operaciones generales de Python\")"
   ]
  },
  {
   "cell_type": "markdown",
   "id": "ejercicios",
   "metadata": {},
   "source": [
    "---\n",
    "\n",
    "## 🚀 6. Ejercicios Prácticos\n",
    "\n",
    "### 🔍 Análisis Exploratorio Completo"
   ]
  },
  {
   "cell_type": "code",
   "execution_count": null,
   "id": "ejercicio-exploratorio",
   "metadata": {},
   "outputs": [],
   "source": [
    "# 🔍 ANÁLISIS EXPLORATORIO COMPLETO\n",
    "print(\"🔍 ANÁLISIS EXPLORATORIO COMPLETO DEL DATASET\")\n",
    "print(\"=\" * 60)\n",
    "\n",
    "# 1. Información básica usando atributos\n",
    "print(\"📊 1. INFORMACIÓN BÁSICA (ATRIBUTOS):\")\n",
    "print(f\"   📏 Dimensiones: {df_exams.shape}\")\n",
    "print(f\"   🔢 Total elementos: {df_exams.size}\")\n",
    "print(f\"   📐 Dimensiones: {df_exams.ndim}\")\n",
    "print(f\"   📋 Columnas: {len(df_exams.columns)}\")\n",
    "\n",
    "# 2. Análisis usando métodos\n",
    "print(\"\\n⚙️ 2. ANÁLISIS DETALLADO (MÉTODOS):\")\n",
    "print(\"   📊 Estadísticas de puntuaciones:\")\n",
    "estadisticas_scores = df_exams[['math score', 'reading score', 'writing score']].describe()\n",
    "print(f\"      🧮 Promedio Matemáticas: {estadisticas_scores.loc['mean', 'math score']:.2f}\")\n",
    "print(f\"      📖 Promedio Lectura: {estadisticas_scores.loc['mean', 'reading score']:.2f}\")\n",
    "print(f\"      ✍️ Promedio Escritura: {estadisticas_scores.loc['mean', 'writing score']:.2f}\")\n",
    "\n",
    "# 3. Cálculos usando funciones\n",
    "print(\"\\n🔧 3. CÁLCULOS ADICIONALES (FUNCIONES):\")\n",
    "total_estudiantes = len(df_exams)\n",
    "puntuacion_maxima_math = max(df_exams['math score'])\n",
    "puntuacion_minima_math = min(df_exams['math score'])\n",
    "\n",
    "print(f\"   👥 Total de estudiantes: {total_estudiantes}\")\n",
    "print(f\"   🏆 Mejor puntuación en matemáticas: {puntuacion_maxima_math}\")\n",
    "print(f\"   📉 Peor puntuación en matemáticas: {puntuacion_minima_math}\")\n",
    "print(f\"   📊 Rango de puntuaciones: {puntuacion_maxima_math - puntuacion_minima_math}\")"
   ]
  },
  {
   "cell_type": "markdown",
   "id": "ejercicio-avanzado",
   "metadata": {},
   "source": [
    "### 🎯 Caso de Uso Avanzado: Análisis por Grupos"
   ]
  },
  {
   "cell_type": "code",
   "execution_count": null,
   "id": "ejercicio-grupos",
   "metadata": {},
   "outputs": [],
   "source": [
    "# 🎯 ANÁLISIS AVANZADO POR GRUPOS\n",
    "print(\"🎯 ANÁLISIS AVANZADO POR GRUPOS\")\n",
    "print(\"=\" * 45)\n",
    "\n",
    "# Análisis por género usando métodos y funciones\n",
    "print(\"👥 ANÁLISIS POR GÉNERO:\")\n",
    "generos = df_exams['gender'].unique()  # Método unique()\n",
    "\n",
    "for genero in generos:\n",
    "    # Filtrar datos por género\n",
    "    datos_genero = df_exams[df_exams['gender'] == genero]\n",
    "    \n",
    "    # Usar funciones de Python\n",
    "    cantidad = len(datos_genero)\n",
    "    \n",
    "    # Usar métodos de Pandas\n",
    "    promedio_math = datos_genero['math score'].mean()\n",
    "    promedio_reading = datos_genero['reading score'].mean()\n",
    "    promedio_writing = datos_genero['writing score'].mean()\n",
    "    \n",
    "    emoji = \"👩\" if genero == 'female' else \"👨\"\n",
    "    print(f\"\\n{emoji} {genero.upper()}:\")\n",
    "    print(f\"   📊 Cantidad: {cantidad} estudiantes\")\n",
    "    print(f\"   🧮 Promedio Matemáticas: {promedio_math:.2f}\")\n",
    "    print(f\"   📖 Promedio Lectura: {promedio_reading:.2f}\")\n",
    "    print(f\"   ✍️ Promedio Escritura: {promedio_writing:.2f}\")\n",
    "    print(f\"   🎯 Promedio General: {(promedio_math + promedio_reading + promedio_writing)/3:.2f}\")\n",
    "\n",
    "# Análisis del curso de preparación\n",
    "print(\"\\n\\n📚 ANÁLISIS POR CURSO DE PREPARACIÓN:\")\n",
    "cursos = df_exams['test preparation course'].unique()\n",
    "\n",
    "for curso in cursos:\n",
    "    datos_curso = df_exams[df_exams['test preparation course'] == curso]\n",
    "    cantidad = len(datos_curso)\n",
    "    porcentaje = (cantidad / len(df_exams)) * 100\n",
    "    \n",
    "    promedio_general = (\n",
    "        datos_curso['math score'].mean() + \n",
    "        datos_curso['reading score'].mean() + \n",
    "        datos_curso['writing score'].mean()\n",
    "    ) / 3\n",
    "    \n",
    "    emoji = \"✅\" if curso == 'completed' else \"❌\"\n",
    "    print(f\"\\n{emoji} {curso.upper()}:\")\n",
    "    print(f\"   👥 Estudiantes: {cantidad} ({porcentaje:.1f}%)\")\n",
    "    print(f\"   📊 Promedio general: {promedio_general:.2f}\")"
   ]
  },
  {
   "cell_type": "markdown",
   "id": "ejercicio-final",
   "metadata": {},
   "source": [
    "### 🏆 Ejercicio Final: Reporte Completo"
   ]
  },
  {
   "cell_type": "code",
   "execution_count": null,
   "id": "reporte-final",
   "metadata": {},
   "outputs": [],
   "source": [
    "# 🏆 REPORTE FINAL COMPLETO\n",
    "print(\"🏆 REPORTE FINAL: RENDIMIENTO ESTUDIANTIL\")\n",
    "print(\"=\" * 55)\n",
    "\n",
    "# Usando atributos para información estructural\n",
    "filas, columnas = df_exams.shape\n",
    "total_elementos = df_exams.size\n",
    "\n",
    "print(f\"📊 INFORMACIÓN DEL DATASET:\")\n",
    "print(f\"   📈 Total de estudiantes: {filas}\")\n",
    "print(f\"   📋 Variables analizadas: {columnas}\")\n",
    "print(f\"   💾 Puntos de datos: {total_elementos}\")\n",
    "\n",
    "# Usando métodos para análisis estadístico\n",
    "estadisticas = df_exams[['math score', 'reading score', 'writing score']].describe()\n",
    "\n",
    "print(f\"\\n📊 ESTADÍSTICAS GENERALES:\")\n",
    "for materia in ['math score', 'reading score', 'writing score']:\n",
    "    emoji = \"🧮\" if 'math' in materia else \"📖\" if 'reading' in materia else \"✍️\"\n",
    "    nombre = materia.replace(' score', '').title()\n",
    "    \n",
    "    promedio = estadisticas.loc['mean', materia]\n",
    "    mediana = estadisticas.loc['50%', materia]\n",
    "    desviacion = estadisticas.loc['std', materia]\n",
    "    \n",
    "    print(f\"   {emoji} {nombre}:\")\n",
    "    print(f\"      📊 Promedio: {promedio:.2f}\")\n",
    "    print(f\"      📊 Mediana: {mediana:.2f}\")\n",
    "    print(f\"      📊 Desviación: {desviacion:.2f}\")\n",
    "\n",
    "# Usando funciones para cálculos específicos\n",
    "mejor_estudiante_math = df_exams.loc[df_exams['math score'].idxmax()]\n",
    "peor_estudiante_math = df_exams.loc[df_exams['math score'].idxmin()]\n",
    "\n",
    "print(f\"\\n🏆 ESTUDIANTES DESTACADOS (MATEMÁTICAS):\")\n",
    "print(f\"   🥇 Mejor puntuación: {max(df_exams['math score'])} puntos\")\n",
    "print(f\"      👤 Género: {mejor_estudiante_math['gender']}\")\n",
    "print(f\"      🎓 Educación parental: {mejor_estudiante_math['parental level of education']}\")\n",
    "print(f\"      📚 Curso preparación: {mejor_estudiante_math['test preparation course']}\")\n",
    "\n",
    "print(f\"\\n   📉 Puntuación más baja: {min(df_exams['math score'])} puntos\")\n",
    "print(f\"      👤 Género: {peor_estudiante_math['gender']}\")\n",
    "print(f\"      🎓 Educación parental: {peor_estudiante_math['parental level of education']}\")\n",
    "print(f\"      📚 Curso preparación: {peor_estudiante_math['test preparation course']}\")\n",
    "\n",
    "# Resumen final\n",
    "promedio_total = sum([\n",
    "    df_exams['math score'].sum(),\n",
    "    df_exams['reading score'].sum(),\n",
    "    df_exams['writing score'].sum()\n",
    "]) / (len(df_exams) * 3)\n",
    "\n",
    "print(f\"\\n🎯 RESUMEN EJECUTIVO:\")\n",
    "print(f\"   📊 Promedio general del grupo: {promedio_total:.2f} puntos\")\n",
    "print(f\"   📈 Rango de puntuaciones: {min(df_exams['math score'])} - {max(df_exams['math score'])}\")\n",
    "print(f\"   🎓 Estudiantes con curso completado: {len(df_exams[df_exams['test preparation course'] == 'completed'])}\")\n",
    "print(f\"   👥 Distribución de género: {df_exams['gender'].value_counts().to_dict()}\")\n",
    "\n",
    "print(\"\\n✅ ANÁLISIS COMPLETADO EXITOSAMENTE\")"
   ]
  },
  {
   "cell_type": "markdown",
   "id": "conclusion",
   "metadata": {},
   "source": [
    "---\n",
    "\n",
    "## 🎉 Conclusiones\n",
    "\n",
    "### 📚 Lo que Aprendimos\n",
    "\n",
    "En este notebook hemos explorado en profundidad:\n",
    "\n",
    "1. **🏷️ Atributos**: Propiedades estructurales del DataFrame\n",
    "   - `shape`, `index`, `columns`, `dtypes`, `size`, `ndim`\n",
    "   - Se acceden sin paréntesis\n",
    "   - Proporcionan información sobre la estructura\n",
    "\n",
    "2. **⚙️ Métodos**: Funciones específicas de Pandas\n",
    "   - `head()`, `tail()`, `info()`, `describe()`, `sample()`\n",
    "   - Se llaman con paréntesis\n",
    "   - Realizan operaciones sobre los datos\n",
    "\n",
    "3. **🔧 Funciones**: Operaciones generales de Python\n",
    "   - `len()`, `max()`, `min()`, `type()`, `sum()`\n",
    "   - Son independientes del objeto\n",
    "   - Funcionan con múltiples tipos de datos\n",
    "\n",
    "### 🎯 Puntos Clave\n",
    "\n",
    "- ✅ **Atributos** para información estructural\n",
    "- ✅ **Métodos** para análisis y manipulación\n",
    "- ✅ **Funciones** para operaciones generales\n",
    "- ✅ Combinación efectiva de los tres tipos\n",
    "\n",
    "### 🚀 Próximos Pasos\n",
    "\n",
    "Ahora que dominas estos conceptos fundamentales, puedes:\n",
    "- 📊 Realizar análisis exploratorios más complejos\n",
    "- 🔍 Combinar diferentes técnicas de análisis\n",
    "- 📈 Crear reportes automatizados\n",
    "- 🎯 Optimizar tu flujo de trabajo en ciencia de datos\n",
    "\n",
    "---\n",
    "\n",
    "### 📞 Contacto y Recursos\n",
    "\n",
    "¿Tienes preguntas o quieres profundizar más?\n",
    "- 📚 [Documentación oficial de Pandas](https://pandas.pydata.org/docs/)\n",
    "- 🎓 [Tutoriales adicionales](https://pandas.pydata.org/docs/getting_started/tutorials.html)\n",
    "- 💡 [Ejemplos prácticos](https://pandas.pydata.org/docs/user_guide/cookbook.html)\n",
    "\n",
    "---\n",
    "\n",
    "**¡Felicidades! 🎉 Has completado exitosamente el análisis de atributos, métodos y funciones en Pandas.**"
   ]
  }
 ],
 "metadata": {
  "kernelspec": {
   "display_name": "venv",
   "language": "python",
   "name": "python3"
  },
  "language_info": {
   "codemirror_mode": {
    "name": "ipython",
    "version": 3
   },
   "file_extension": ".py",
   "mimetype": "text/x-python",
   "name": "python",
   "nbconvert_exporter": "python",
   "pygments_lexer": "ipython3",
   "version": "3.12.3"
  }
 },
 "nbformat": 4,
 "nbformat_minor": 5
}