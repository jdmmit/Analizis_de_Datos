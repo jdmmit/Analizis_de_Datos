{
 "cells": [
  {
   "cell_type": "markdown",
   "id": "71944800",
   "metadata": {},
   "source": [
    "# 📊 Agregar Nuevas Columnas a DataFrames 🐼\n",
    "\n",
    "---\n",
    "\n",
    "## 🎯 **Objetivo del Tutorial**\n",
    "Aprender diferentes métodos para agregar nuevas columnas a un DataFrame de pandas, desde valores constantes hasta arrays complejos.\n",
    "\n",
    "---\n",
    "\n",
    "## 📋 **Índice de Contenidos**\n",
    "\n",
    "1. [🚀 Configuración Inicial](#1-configuracion-inicial)\n",
    "2. [📁 Carga de Datos](#2-carga-de-datos)\n",
    "3. [➕ Agregar Columna con Valor Constante](#3-agregar-columna-con-valor-constante)\n",
    "4. [🔢 Agregar Columna con Array Secuencial](#4-agregar-columna-con-array-secuencial)\n",
    "5. [🎲 Agregar Columna con Números Aleatorios Enteros](#5-agregar-columna-con-numeros-aleatorios-enteros)\n",
    "6. [🎯 Agregar Columna con Números Aleatorios Decimales](#6-agregar-columna-con-numeros-aleatorios-decimales)\n",
    "7. [🧮 Agregar Columnas Calculadas](#7-agregar-columnas-calculadas)\n",
    "8. [📈 Resumen y Mejores Prácticas](#8-resumen-y-mejores-practicas)\n",
    "\n",
    "---"
   ]
  },
  {
   "cell_type": "markdown",
   "id": "config-section",
   "metadata": {},
   "source": [
    "## 1. 🚀 Configuración Inicial {#1-configuracion-inicial}\n",
    "\n",
    "Importamos las librerías necesarias para trabajar con DataFrames y generar datos."
   ]
  },
  {
   "cell_type": "code",
   "execution_count": null,
   "id": "f2e0664f",
   "metadata": {},
   "outputs": [],
   "source": [
    "# 📚 Importar librerías necesarias\n",
    "import pandas as pd\n",
    "import numpy as np\n",
    "\n",
    "print(\"✅ Librerías importadas correctamente\")\n",
    "print(f\"📊 Pandas versión: {pd.__version__}\")\n",
    "print(f\"🔢 NumPy versión: {np.__version__}\")"
   ]
  },
  {
   "cell_type": "markdown",
   "id": "data-loading",
   "metadata": {},
   "source": [
    "## 2. 📁 Carga de Datos {#2-carga-de-datos}\n",
    "\n",
    "Cargamos nuestro dataset de rendimiento estudiantil para trabajar con datos reales."
   ]
  },
  {
   "cell_type": "code",
   "execution_count": null,
   "id": "fe6afcaf",
   "metadata": {},
   "outputs": [],
   "source": [
    "# 📖 Leemos el archivo CSV\n",
    "df_exams = pd.read_csv(\"StudentsPerformance.csv\")\n",
    "\n",
    "print(f\"📊 Dataset cargado exitosamente\")\n",
    "print(f\"📏 Dimensiones: {df_exams.shape[0]} filas x {df_exams.shape[1]} columnas\")\n",
    "print(f\"\\n🔍 Primeras 5 filas:\")\n",
    "df_exams.head()"
   ]
  },
  {
   "cell_type": "code",
   "execution_count": null,
   "id": "info-dataset",
   "metadata": {},
   "outputs": [],
   "source": [
    "# 📋 Información general del dataset\n",
    "print(\"📊 Información del Dataset:\")\n",
    "print(\"=\" * 40)\n",
    "df_exams.info()\n",
    "\n",
    "print(\"\\n📈 Columnas actuales:\")\n",
    "for i, col in enumerate(df_exams.columns, 1):\n",
    "    print(f\"{i}. {col}\")"
   ]
  },
  {
   "cell_type": "markdown",
   "id": "3043446d",
   "metadata": {},
   "source": [
    "## 3. ➕ Agregar Columna con Valor Constante {#3-agregar-columna-con-valor-constante}\n",
    "\n",
    "La forma más simple de agregar una columna es asignar un valor constante a todos los registros."
   ]
  },
  {
   "cell_type": "code",
   "execution_count": null,
   "id": "f16553fb",
   "metadata": {},
   "outputs": [],
   "source": [
    "# ➕ Agregar una nueva columna con valor constante\n",
    "df_exams[\"language score\"] = 70\n",
    "\n",
    "print(\"✅ Columna 'language score' agregada con valor constante 70\")\n",
    "print(f\"📏 Nuevas dimensiones: {df_exams.shape[0]} filas x {df_exams.shape[1]} columnas\")\n",
    "print(\"\\n🔍 Verificando la nueva columna:\")\n",
    "df_exams[[\"gender\", \"language score\"]].head()"
   ]
  },
  {
   "cell_type": "markdown",
   "id": "dc994db6",
   "metadata": {},
   "source": [
    "## 4. 🔢 Agregar Columna con Array Secuencial {#4-agregar-columna-con-array-secuencial}\n",
    "\n",
    "Podemos crear columnas con valores secuenciales usando NumPy. Esto es útil para crear IDs únicos o valores progresivos."
   ]
  },
  {
   "cell_type": "markdown",
   "id": "20004a53",
   "metadata": {},
   "source": [
    "💡 **Nota importante:** El DataFrame tiene 1000 filas, por lo que necesitamos crear un array de exactamente 1000 elementos para evitar errores de dimensión."
   ]
  },
  {
   "cell_type": "code",
   "execution_count": null,
   "id": "a897c2c7",
   "metadata": {},
   "outputs": [],
   "source": [
    "# 🔢 Crear un array secuencial de 1000 elementos (0 a 999)\n",
    "language_scores = np.arange(0, 1000)\n",
    "\n",
    "print(f\"📊 Array creado con {len(language_scores)} elementos\")\n",
    "print(f\"🔢 Primeros 10 valores: {language_scores[:10]}\")\n",
    "print(f\"🔢 Últimos 10 valores: {language_scores[-10:]}\")"
   ]
  },
  {
   "cell_type": "code",
   "execution_count": null,
   "id": "0d3fd085",
   "metadata": {},
   "outputs": [],
   "source": [
    "# ✅ Verificar el tamaño del array\n",
    "print(f\"📏 Tamaño del DataFrame: {len(df_exams)} filas\")\n",
    "print(f\"📏 Tamaño del array: {len(language_scores)} elementos\")\n",
    "print(f\"🎯 ¿Coinciden las dimensiones? {len(df_exams) == len(language_scores)}\")"
   ]
  },
  {
   "cell_type": "code",
   "execution_count": null,
   "id": "6995cbe7",
   "metadata": {},
   "outputs": [],
   "source": [
    "# ➕ Agregar la columna con el array secuencial\n",
    "df_exams[\"language score\"] = language_scores\n",
    "\n",
    "print(\"✅ Columna 'language score' actualizada con valores secuenciales\")\n",
    "print(\"\\n🔍 Verificando los primeros y últimos valores:\")\n",
    "print(\"Primeros 5 registros:\")\n",
    "print(df_exams[[\"gender\", \"language score\"]].head())\n",
    "print(\"\\nÚltimos 5 registros:\")\n",
    "print(df_exams[[\"gender\", \"language score\"]].tail())"
   ]
  },
  {
   "cell_type": "markdown",
   "id": "random-integers",
   "metadata": {},
   "source": [
    "## 5. 🎲 Agregar Columna con Números Aleatorios Enteros {#5-agregar-columna-con-numeros-aleatorios-enteros}\n",
    "\n",
    "Para simular datos más realistas, podemos generar números aleatorios enteros dentro de un rango específico."
   ]
  },
  {
   "cell_type": "code",
   "execution_count": null,
   "id": "dd398901",
   "metadata": {},
   "outputs": [],
   "source": [
    "# 🎲 Crear números enteros aleatorios entre 1 y 100 (100 exclusivo)\n",
    "int_language_score = np.random.randint(1, 100, size=1000)\n",
    "\n",
    "print(f\"🎲 Array de números aleatorios enteros creado\")\n",
    "print(f\"📊 Tamaño: {len(int_language_score)} elementos\")\n",
    "print(f\"🔢 Primeros 10 valores: {int_language_score[:10]}\")"
   ]
  },
  {
   "cell_type": "code",
   "execution_count": null,
   "id": "6e502359",
   "metadata": {},
   "outputs": [],
   "source": [
    "# 📊 Verificar el valor mínimo (el límite inferior es incluido)\n",
    "min_value = min(int_language_score)\n",
    "print(f\"📉 Valor mínimo encontrado: {min_value}\")\n",
    "print(f\"✅ El valor mínimo debería ser 1 (incluido)\")"
   ]
  },
  {
   "cell_type": "code",
   "execution_count": null,
   "id": "63bd893a",
   "metadata": {},
   "outputs": [],
   "source": [
    "# 📊 Verificar el valor máximo (el límite superior es exclusivo)\n",
    "max_value = max(int_language_score)\n",
    "print(f\"📈 Valor máximo encontrado: {max_value}\")\n",
    "print(f\"✅ El valor máximo debería ser 99 (100 es exclusivo)\")"
   ]
  },
  {
   "cell_type": "code",
   "execution_count": null,
   "id": "dfc03c18",
   "metadata": {},
   "outputs": [],
   "source": [
    "# ➕ Actualizar la columna con números aleatorios enteros\n",
    "df_exams[\"language score\"] = int_language_score\n",
    "\n",
    "print(\"✅ Columna 'language score' actualizada con números aleatorios enteros\")\n",
    "print(\"\\n📊 Estadísticas de la nueva columna:\")\n",
    "print(df_exams[\"language score\"].describe())\n",
    "\n",
    "print(\"\\n🔍 Muestra de datos:\")\n",
    "df_exams[[\"gender\", \"race/ethnicity\", \"language score\"]].head(10)"
   ]
  },
  {
   "cell_type": "markdown",
   "id": "random-floats",
   "metadata": {},
   "source": [
    "## 6. 🎯 Agregar Columna con Números Aleatorios Decimales {#6-agregar-columna-con-numeros-aleatorios-decimales}\n",
    "\n",
    "Para mayor precisión, podemos generar números decimales aleatorios usando distribución uniforme."
   ]
  },
  {
   "cell_type": "code",
   "execution_count": null,
   "id": "69aa596d",
   "metadata": {},
   "outputs": [],
   "source": [
    "# 🎯 Crear números decimales aleatorios entre 1 y 100\n",
    "float_language_score = np.random.uniform(1, 100, size=1000)\n",
    "\n",
    "print(f\"🎯 Array de números aleatorios decimales creado\")\n",
    "print(f\"📊 Tamaño: {len(float_language_score)} elementos\")\n",
    "print(f\"🔢 Primeros 5 valores: {float_language_score[:5]}\")\n",
    "print(f\"📊 Estadísticas básicas:\")\n",
    "print(f\"   📉 Mínimo: {float_language_score.min():.2f}\")\n",
    "print(f\"   📈 Máximo: {float_language_score.max():.2f}\")\n",
    "print(f\"   📊 Promedio: {float_language_score.mean():.2f}\")"
   ]
  },
  {
   "cell_type": "code",
   "execution_count": null,
   "id": "update-float-column",
   "metadata": {},
   "outputs": [],
   "source": [
    "# ➕ Agregar nueva columna con números decimales (redondeados a 2 decimales)\n",
    "df_exams[\"language score (decimal)\"] = np.round(float_language_score, 2)\n",
    "\n",
    "print(\"✅ Nueva columna 'language score (decimal)' agregada\")\n",
    "print(\"\\n🔍 Comparación de columnas numéricas:\")\n",
    "df_exams[[\"math score\", \"language score\", \"language score (decimal)\"]].head()"
   ]
  },
  {
   "cell_type": "markdown",
   "id": "calculated-columns",
   "metadata": {},
   "source": [
    "## 7. 🧮 Agregar Columnas Calculadas {#7-agregar-columnas-calculadas}\n",
    "\n",
    "Una de las funcionalidades más poderosas es crear columnas basadas en cálculos de otras columnas existentes."
   ]
  },
  {
   "cell_type": "code",
   "execution_count": null,
   "id": "calculated-average",
   "metadata": {},
   "outputs": [],
   "source": [
    "# 🧮 Calcular el promedio de todas las puntuaciones\n",
    "df_exams[\"average score\"] = (df_exams[\"math score\"] + \n",
    "                             df_exams[\"reading score\"] + \n",
    "                             df_exams[\"writing score\"] + \n",
    "                             df_exams[\"language score\"]) / 4\n",
    "\n",
    "print(\"✅ Columna 'average score' calculada\")\n",
    "print(\"\\n📊 Estadísticas del promedio:\")\n",
    "print(df_exams[\"average score\"].describe())"
   ]
  },
  {
   "cell_type": "code",
   "execution_count": null,
   "id": "performance-category",
   "metadata": {},
   "outputs": [],
   "source": [
    "# 🏆 Crear categorías de rendimiento basadas en el promedio\n",
    "def categorize_performance(avg_score):\n",
    "    if avg_score >= 80:\n",
    "        return \"🏆 Excelente\"\n",
    "    elif avg_score >= 70:\n",
    "        return \"🥈 Bueno\"\n",
    "    elif avg_score >= 60:\n",
    "        return \"🥉 Regular\"\n",
    "    else:\n",
    "        return \"📚 Necesita Mejora\"\n",
    "\n",
    "df_exams[\"performance category\"] = df_exams[\"average score\"].apply(categorize_performance)\n",
    "\n",
    "print(\"✅ Columna 'performance category' creada\")\n",
    "print(\"\\n📊 Distribución de categorías:\")\n",
    "print(df_exams[\"performance category\"].value_counts())"
   ]
  },
  {
   "cell_type": "code",
   "execution_count": null,
   "id": "final-dataframe",
   "metadata": {},
   "outputs": [],
   "source": [
    "# 🔍 Vista final del DataFrame con todas las nuevas columnas\n",
    "print(\"📊 DataFrame Final:\")\n",
    "print(\"=\" * 50)\n",
    "print(f\"📏 Dimensiones finales: {df_exams.shape[0]} filas x {df_exams.shape[1]} columnas\")\n",
    "print(\"\\n📋 Todas las columnas:\")\n",
    "for i, col in enumerate(df_exams.columns, 1):\n",
    "    print(f\"{i:2d}. {col}\")\n",
    "\n",
    "print(\"\\n🔍 Muestra de datos finales:\")\n",
    "df_exams[[\"gender\", \"math score\", \"language score\", \"average score\", \"performance category\"]].head()"
   ]
  },
  {
   "cell_type": "markdown",
   "id": "summary",
   "metadata": {},
   "source": [
    "## 8. 📈 Resumen y Mejores Prácticas {#8-resumen-y-mejores-practicas}\n",
    "\n",
    "### 🎯 **Métodos Aprendidos:**\n",
    "\n",
    "1. **➕ Valor Constante:** `df['nueva_columna'] = valor`\n",
    "2. **🔢 Array Secuencial:** `df['nueva_columna'] = np.arange(inicio, fin)`\n",
    "3. **🎲 Números Aleatorios Enteros:** `df['nueva_columna'] = np.random.randint(min, max, size=n)`\n",
    "4. **🎯 Números Aleatorios Decimales:** `df['nueva_columna'] = np.random.uniform(min, max, size=n)`\n",
    "5. **🧮 Columnas Calculadas:** `df['nueva_columna'] = df['col1'] + df['col2']`\n",
    "6. **🏷️ Columnas Categóricas:** `df['nueva_columna'] = df['columna'].apply(funcion)`\n",
    "\n",
    "### 💡 **Mejores Prácticas:**\n",
    "\n",
    "- ✅ **Verificar dimensiones:** Asegúrate de que el array tenga el mismo número de elementos que filas en el DataFrame\n",
    "- ✅ **Nombres descriptivos:** Usa nombres de columnas claros y descriptivos\n",
    "- ✅ **Validar datos:** Siempre verifica los valores mínimos y máximos de los datos generados\n",
    "- ✅ **Documentar:** Comenta tu código para explicar qué hace cada operación\n",
    "- ✅ **Estadísticas:** Usa `.describe()` para entender la distribución de tus nuevas columnas\n",
    "\n",
    "### ⚠️ **Errores Comunes a Evitar:**\n",
    "\n",
    "- ❌ **Dimensiones incorrectas:** Arrays con diferente número de elementos que filas\n",
    "- ❌ **Sobrescribir sin querer:** Usar nombres de columnas existentes sin intención\n",
    "- ❌ **No validar rangos:** No verificar que los valores aleatorios estén en el rango esperado\n",
    "\n",
    "---\n",
    "\n",
    "## 🎉 **¡Felicitaciones!**\n",
    "\n",
    "Has aprendido múltiples formas de agregar columnas a un DataFrame de pandas. Estos conocimientos son fundamentales para la manipulación y enriquecimiento de datos en ciencia de datos.\n",
    "\n",
    "### 🚀 **Próximos Pasos:**\n",
    "- Experimenta con diferentes tipos de datos\n",
    "- Prueba funciones más complejas para columnas calculadas\n",
    "- Explora la creación de columnas condicionales con `np.where()`\n",
    "\n",
    "---"
   ]
  }
 ],
 "metadata": {
  "kernelspec": {
   "display_name": "venv",
   "language": "python",
   "name": "python3"
  },
  "language_info": {
   "codemirror_mode": {
    "name": "ipython",
    "version": 3
   },
   "file_extension": ".py",
   "mimetype": "text/x-python",
   "name": "python",
   "nbconvert_exporter": "python3",
   "version": "3.12.3"
  }
 },
 "nbformat": 4,
 "nbformat_minor": 5
}