{
 "cells": [
  {
   "cell_type": "markdown",
   "id": "header-title",
   "metadata": {},
   "source": [
    "# 🏠 Análisis Completo del Dataset de Boston Housing 📊\n",
    "\n",
    "---\n",
    "\n",
    "## 📋 Índice de Contenidos\n",
    "\n",
    "1. [🎯 Introducción](#introduccion)\n",
    "2. [📚 Importación de Librerías](#librerias)\n",
    "3. [📂 Carga de Datos](#carga-datos)\n",
    "4. [🔍 Exploración Inicial](#exploracion-inicial)\n",
    "5. [📈 Estadísticas Descriptivas](#estadisticas)\n",
    "6. [🏗️ Estructura del Dataset](#estructura)\n",
    "7. [📊 Información de las Variables](#variables)\n",
    "8. [🔎 Análisis de Valores Faltantes](#valores-faltantes)\n",
    "9. [📉 Análisis de Distribuciones](#distribuciones)\n",
    "10. [🎯 Conclusiones](#conclusiones)\n",
    "\n",
    "---"
   ]
  },
  {
   "cell_type": "markdown",
   "id": "introduccion",
   "metadata": {},
   "source": [
    "## 🎯 Introducción {#introduccion}\n",
    "\n",
    "¡Bienvenido al análisis completo del **Dataset de Boston Housing**! 🏘️\n",
    "\n",
    "Este dataset es uno de los más famosos en el mundo del **Machine Learning** y contiene información sobre precios de viviendas en diferentes áreas de Boston. \n",
    "\n",
    "### 🎯 Objetivos de este análisis:\n",
    "- 🔍 **Explorar** la estructura y características del dataset\n",
    "- 📊 **Analizar** las estadísticas descriptivas de cada variable\n",
    "- 🧹 **Identificar** posibles problemas en los datos\n",
    "- 📈 **Comprender** las distribuciones de las variables\n",
    "- 💡 **Obtener insights** valiosos para futuros análisis\n",
    "\n",
    "---"
   ]
  },
  {
   "cell_type": "markdown",
   "id": "librerias",
   "metadata": {},
   "source": [
    "## 📚 Importación de Librerías {#librerias}\n",
    "\n",
    "Comenzamos importando las librerías necesarias para nuestro análisis 🛠️"
   ]
  },
  {
   "cell_type": "code",
   "execution_count": null,
   "id": "import-libraries",
   "metadata": {},
   "outputs": [],
   "source": [
    "# 📊 Librerías para manipulación y análisis de datos\n",
    "import pandas as pd\n",
    "import numpy as np\n",
    "\n",
    "# 📈 Librerías para visualización\n",
    "import matplotlib.pyplot as plt\n",
    "import seaborn as sns\n",
    "\n",
    "# ⚙️ Configuración de visualización\n",
    "plt.style.use('seaborn-v0_8')\n",
    "sns.set_palette(\"husl\")\n",
    "plt.rcParams['figure.figsize'] = (12, 8)\n",
    "\n",
    "# 🎨 Configuración de pandas para mejor visualización\n",
    "pd.set_option('display.max_columns', None)\n",
    "pd.set_option('display.width', None)\n",
    "pd.set_option('display.max_colwidth', None)\n",
    "\n",
    "print(\"✅ ¡Librerías importadas exitosamente!\")"
   ]
  },
  {
   "cell_type": "markdown",
   "id": "carga-datos",
   "metadata": {},
   "source": [
    "## 📂 Carga de Datos {#carga-datos}\n",
    "\n",
    "Ahora carguemos nuestro dataset de Boston Housing 🏠"
   ]
  },
  {
   "cell_type": "code",
   "execution_count": null,
   "id": "load-data",
   "metadata": {},
   "outputs": [],
   "source": [
    "# 📥 Cargando el dataset\n",
    "try:\n",
    "    df_boston = pd.read_csv(\"boston.csv\")\n",
    "    print(\"✅ Dataset cargado exitosamente!\")\n",
    "    print(f\"📏 Dimensiones del dataset: {df_boston.shape[0]} filas × {df_boston.shape[1]} columnas\")\nexcept FileNotFoundError:\n",
    "    print(\"❌ Error: No se encontró el archivo 'boston.csv'\")\n",
    "    print(\"💡 Asegúrate de que el archivo esté en el directorio correcto\")"
   ]
  },
  {
   "cell_type": "markdown",
   "id": "exploracion-inicial",
   "metadata": {},
   "source": [
    "## 🔍 Exploración Inicial {#exploracion-inicial}\n",
    "\n",
    "¡Echemos un primer vistazo a nuestros datos! 👀"
   ]
  },
  {
   "cell_type": "code",
   "execution_count": null,
   "id": "initial-exploration",
   "metadata": {},
   "outputs": [],
   "source": [
    "# 👀 Primeras 5 filas del dataset\n",
    "print(\"🔝 Primeras 5 filas del dataset:\")\n",
    "print(\"=\" * 50)\n",
    "display(df_boston.head())"
   ]
  },
  {
   "cell_type": "code",
   "execution_count": null,
   "id": "last-rows",
   "metadata": {},
   "outputs": [],
   "source": [
    "# 🔚 Últimas 5 filas del dataset\n",
    "print(\"🔚 Últimas 5 filas del dataset:\")\n",
    "print(\"=\" * 50)\n",
    "display(df_boston.tail())"
   ]
  },
  {
   "cell_type": "markdown",
   "id": "estadisticas",
   "metadata": {},
   "source": [
    "## 📈 Estadísticas Descriptivas {#estadisticas}\n",
    "\n",
    "Analicemos las estadísticas descriptivas de nuestro dataset 📊"
   ]
  },
  {
   "cell_type": "code",
   "execution_count": null,
   "id": "descriptive-stats",
   "metadata": {},
   "outputs": [],
   "source": [
    "# 📊 Estadísticas descriptivas completas\n",
    "print(\"📊 ESTADÍSTICAS DESCRIPTIVAS COMPLETAS\")\n",
    "print(\"=\" * 60)\n",
    "display(df_boston.describe())"
   ]
  },
  {
   "cell_type": "code",
   "execution_count": null,
   "id": "additional-stats",
   "metadata": {},
   "outputs": [],
   "source": [
    "# 📈 Estadísticas adicionales\n",
    "print(\"📈 ESTADÍSTICAS ADICIONALES\")\n",
    "print(\"=\" * 40)\n",
    "\n",
    "for column in df_boston.columns:\n",
    "    print(f\"\\n🔹 {column}:\")\n",
    "    print(f\"   📊 Rango: {df_boston[column].min():.3f} - {df_boston[column].max():.3f}\")\n",
    "    print(f\"   📏 Varianza: {df_boston[column].var():.3f}\")\n",
    "    print(f\"   📐 Coef. Variación: {(df_boston[column].std()/df_boston[column].mean()*100):.2f}%\")"
   ]
  },
  {
   "cell_type": "markdown",
   "id": "estructura",
   "metadata": {},
   "source": [
    "## 🏗️ Estructura del Dataset {#estructura}\n",
    "\n",
    "Examinemos la estructura interna de nuestros datos 🔧"
   ]
  },
  {
   "cell_type": "code",
   "execution_count": null,
   "id": "dataset-info",
   "metadata": {},
   "outputs": [],
   "source": [
    "# 🏗️ Información general del dataset\n",
    "print(\"🏗️ INFORMACIÓN GENERAL DEL DATASET\")\n",
    "print(\"=\" * 50)\n",
    "print(f\"📏 Número de filas: {df_boston.shape[0]:,}\")\n",
    "print(f\"📊 Número de columnas: {df_boston.shape[1]}\")\n",
    "print(f\"💾 Memoria utilizada: {df_boston.memory_usage(deep=True).sum() / 1024:.2f} KB\")\n",
    "print(f\"🔢 Total de valores: {df_boston.size:,}\")\n",
    "\n",
    "print(\"\\n📋 Información detallada:\")\n",
    "print(\"-\" * 30)\n",
    "df_boston.info()"
   ]
  },
  {
   "cell_type": "code",
   "execution_count": null,
   "id": "data-types",
   "metadata": {},
   "outputs": [],
   "source": [
    "# 🏷️ Tipos de datos\n",
    "print(\"🏷️ TIPOS DE DATOS POR COLUMNA\")\n",
    "print(\"=\" * 40)\n",
    "\n",
    "data_types = df_boston.dtypes.value_counts()\n",
    "print(\"📊 Resumen de tipos de datos:\")\n",
    "for dtype, count in data_types.items():\n",
    "    print(f\"   {dtype}: {count} columnas\")\n",
    "\n",
    "print(\"\\n📋 Detalle por columna:\")\n",
    "for column in df_boston.columns:\n",
    "    print(f\"   🔹 {column}: {df_boston[column].dtype}\")"
   ]
  },
  {
   "cell_type": "markdown",
   "id": "variables",
   "metadata": {},
   "source": [
    "## 📊 Información de las Variables {#variables}\n",
    "\n",
    "Conozcamos qué representa cada variable en nuestro dataset 📖\n",
    "\n",
    "### 📝 Diccionario de Variables:\n",
    "\n",
    "| Variable | 📋 Descripción | 📏 Unidad |\n",
    "|----------|----------------|------------|\n",
    "| **CRIM** | 🚔 Tasa de criminalidad per cápita por ciudad | Por persona |\n",
    "| **ZN** | 🏘️ Proporción de terrenos residenciales zonificados para lotes > 25,000 sq.ft | Porcentaje |\n",
    "| **INDUS** | 🏭 Proporción de acres comerciales no minoristas por ciudad | Porcentaje |\n",
    "| **CHAS** | 🌊 Variable dummy del río Charles (1 si limita con el río, 0 si no) | Binaria |\n",
    "| **NOX** | 🌫️ Concentración de óxidos nítricos | Partes por 10 millones |\n",
    "| **RM** | 🏠 Número promedio de habitaciones por vivienda | Habitaciones |\n",
    "| **AGE** | 📅 Proporción de unidades ocupadas por propietarios construidas antes de 1940 | Porcentaje |\n",
    "| **DIS** | 🚇 Distancias ponderadas a cinco centros de empleo de Boston | Millas |\n",
    "| **RAD** | 🛣️ Índice de accesibilidad a autopistas radiales | Índice |\n",
    "| **TAX** | 💰 Tasa de impuesto a la propiedad de valor completo por $10,000 | Dólares |\n",
    "| **PTRATIO** | 👨‍🏫 Relación alumno-maestro por ciudad | Ratio |\n",
    "| **B** | 👥 Proporción de personas de raza negra por ciudad | Índice |\n",
    "| **LSTAT** | 📉 Porcentaje de población de estatus socioeconómico bajo | Porcentaje |\n",
    "| **MEDV** | 🏠💰 **Valor mediano de viviendas ocupadas por propietarios** | Miles de dólares |\n",
    "\n",
    "### 🎯 Variable Objetivo:\n",
    "**MEDV** es nuestra variable objetivo (target) que queremos predecir 🎯"
   ]
  },
  {
   "cell_type": "markdown",
   "id": "valores-faltantes",
   "metadata": {},
   "source": [
    "## 🔎 Análisis de Valores Faltantes {#valores-faltantes}\n",
    "\n",
    "Investiguemos si tenemos valores faltantes en nuestro dataset 🕵️"
   ]
  },
  {
   "cell_type": "code",
   "execution_count": null,
   "id": "missing-values",
   "metadata": {},
   "outputs": [],
   "source": [
    "# 🔍 Análisis de valores faltantes\n",
    "print(\"🔍 ANÁLISIS DE VALORES FALTANTES\")\n",
    "print(\"=\" * 50)\n",
    "\n",
    "missing_values = df_boston.isnull().sum()\n",
    "missing_percentage = (missing_values / len(df_boston)) * 100\n",
    "\n",
    "missing_df = pd.DataFrame({\n",
    "    'Columna': df_boston.columns,\n",
    "    'Valores Faltantes': missing_values,\n",
    "    'Porcentaje (%)': missing_percentage\n",
    "})\n",
    "\n",
    "print(\"📊 Resumen de valores faltantes:\")\n",
    "display(missing_df)\n",
    "\n",
    "total_missing = missing_values.sum()\n",
    "if total_missing == 0:\n",
    "    print(\"\\n✅ ¡Excelente! No hay valores faltantes en el dataset\")\n",
    "else:\n",
    "    print(f\"\\n⚠️ Total de valores faltantes: {total_missing}\")\n",
    "    print(f\"📊 Porcentaje total de datos faltantes: {(total_missing / df_boston.size) * 100:.2f}%\")"
   ]
  },
  {
   "cell_type": "markdown",
   "id": "distribuciones",
   "metadata": {},
   "source": [
    "## 📉 Análisis de Distribuciones {#distribuciones}\n",
    "\n",
    "Analicemos las distribuciones de nuestras variables 📈"
   ]
  },
  {
   "cell_type": "code",
   "execution_count": null,
   "id": "distribution-analysis",
   "metadata": {},
   "outputs": [],
   "source": [
    "# 📊 Análisis de distribuciones\n",
    "print(\"📊 ANÁLISIS DE DISTRIBUCIONES\")\n",
    "print(\"=\" * 50)\n",
    "\n",
    "# Análisis de asimetría y curtosis\n",
    "from scipy import stats\n",
    "\n",
    "distribution_stats = pd.DataFrame({\n",
    "    'Variable': df_boston.columns,\n",
    "    'Asimetría': [stats.skew(df_boston[col]) for col in df_boston.columns],\n",
    "    'Curtosis': [stats.kurtosis(df_boston[col]) for col in df_boston.columns]\n",
    "})\n",
    "\n",
    "# Interpretación de asimetría\n",
    "def interpret_skewness(skew):\n",
    "    if abs(skew) < 0.5:\n",
    "        return \"📊 Simétrica\"\n",
    "    elif skew > 0.5:\n",
    "        return \"📈 Asimétrica positiva\"\n",
    "    else:\n",
    "        return \"📉 Asimétrica negativa\"\n",
    "\n",
    "distribution_stats['Interpretación'] = distribution_stats['Asimetría'].apply(interpret_skewness)\n",
    "\n",
    "print(\"📈 Estadísticas de distribución:\")\n",
    "display(distribution_stats.round(3))"
   ]
  },
  {
   "cell_type": "code",
   "execution_count": null,
   "id": "summary-stats",
   "metadata": {},
   "outputs": [],
   "source": [
    "# 📋 Resumen estadístico personalizado\n",
    "print(\"📋 RESUMEN ESTADÍSTICO PERSONALIZADO\")\n",
    "print(\"=\" * 50)\n",
    "\n",
    "def custom_summary(df):\n",
    "    summary = pd.DataFrame({\n",
    "        'Count': df.count(),\n",
    "        'Mean': df.mean(),\n",
    "        'Median': df.median(),\n",
    "        'Mode': df.mode().iloc[0] if not df.mode().empty else np.nan,\n",
    "        'Std': df.std(),\n",
    "        'Min': df.min(),\n",
    "        'Max': df.max(),\n",
    "        'Range': df.max() - df.min(),\n",
    "        'Q1': df.quantile(0.25),\n",
    "        'Q3': df.quantile(0.75),\n",
    "        'IQR': df.quantile(0.75) - df.quantile(0.25)\n",
    "    })\n",
    "    return summary.round(3)\n",
    "\n",
    "custom_stats = custom_summary(df_boston)\n",
    "display(custom_stats)"
   ]
  },
  {
   "cell_type": "markdown",
   "id": "conclusiones",
   "metadata": {},
   "source": [
    "## 🎯 Conclusiones {#conclusiones}\n",
    "\n",
    "### 📊 Resumen del Análisis Exploratorio:\n",
    "\n",
    "#### ✅ **Calidad de los Datos:**\n",
    "- 🎯 **Dataset completo**: No hay valores faltantes\n",
    "- 📏 **Tamaño adecuado**: 506 observaciones con 14 variables\n",
    "- 🏷️ **Tipos consistentes**: Todas las variables son numéricas\n",
    "\n",
    "#### 📈 **Características Principales:**\n",
    "- 🏠 **Variable objetivo**: MEDV (precio mediano de viviendas)\n",
    "- 🔢 **Rango de precios**: $5,000 - $50,000 (datos históricos)\n",
    "- 📊 **Variables predictoras**: 13 características socioeconómicas y geográficas\n",
    "\n",
    "#### 🔍 **Insights Importantes:**\n",
    "- 🏘️ **Diversidad geográfica**: Diferentes áreas de Boston representadas\n",
    "- 📉 **Variabilidad**: Amplio rango en todas las variables\n",
    "- 🎯 **Potencial predictivo**: Variables con diferentes distribuciones y escalas\n",
    "\n",
    "#### 🚀 **Próximos Pasos Recomendados:**\n",
    "1. 📊 **Visualización**: Crear gráficos para entender mejor las distribuciones\n",
    "2. 🔗 **Correlaciones**: Analizar relaciones entre variables\n",
    "3. 🧹 **Preprocesamiento**: Normalización y escalado de variables\n",
    "4. 🤖 **Modelado**: Implementar algoritmos de Machine Learning\n",
    "5. 📈 **Evaluación**: Medir el rendimiento de los modelos\n",
    "\n",
    "---\n",
    "\n",
    "### 🎉 ¡Análisis Completado!\n",
    "\n",
    "Este dataset está **listo para análisis más avanzados** y **modelado predictivo**. La ausencia de valores faltantes y la diversidad de variables lo convierten en un excelente caso de estudio para **Machine Learning**. 🚀\n",
    "\n",
    "---\n",
    "\n",
    "*📝 Notebook creado con fines educativos - Data Science Learning Path 🎓*"
   ]
  }
 ],
 "metadata": {
  "kernelspec": {
   "display_name": "venv",
   "language": "python",
   "name": "python3"
  },
  "language_info": {
   "codemirror_mode": {
    "name": "ipython",
    "version": 3
   },
   "file_extension": ".py",
   "mimetype": "text/x-python",
   "name": "python",
   "nbconvert_exporter": "python",
   "pygments_lexer": "ipython3",
   "version": "3.12.3"
  }
 },
 "nbformat": 4,
 "nbformat_minor": 5
}