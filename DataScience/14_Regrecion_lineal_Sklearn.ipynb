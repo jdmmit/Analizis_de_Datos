{
 "cells": [
  {
   "cell_type": "markdown",
   "id": "header",
   "metadata": {},
   "source": [
    "# 📊 Regresión Lineal con Scikit-Learn 🤖\n",
    "\n",
    "---\n",
    "\n",
    "## 📋 Índice de Contenidos\n",
    "\n",
    "1. [🎯 Introducción](#introduccion)\n",
    "2. [📦 Importación de Librerías](#importacion)\n",
    "3. [📈 Carga y Exploración de Datos](#datos)\n",
    "4. [🔧 Implementación de Regresión Lineal](#implementacion)\n",
    "   - 4.1 [📊 Definición de Variables](#variables)\n",
    "   - 4.2 [⚙️ Ajuste del Modelo](#ajuste)\n",
    "   - 4.3 [🔮 Predicciones](#predicciones)\n",
    "   - 4.4 [📋 Evaluación del Modelo](#evaluacion)\n",
    "5. [📊 Interpretación de Resultados](#interpretacion)\n",
    "6. [🎯 Conclusiones](#conclusiones)\n",
    "\n",
    "---"
   ]
  },
  {
   "cell_type": "markdown",
   "id": "introduccion",
   "metadata": {},
   "source": [
    "## 🎯 Introducción <a id=\"introduccion\"></a>\n",
    "\n",
    "En este notebook exploraremos la **regresión lineal** utilizando la librería **Scikit-Learn**. 📚\n",
    "\n",
    "### ¿Qué es la Regresión Lineal? 🤔\n",
    "\n",
    "La regresión lineal es un método estadístico que nos permite:\n",
    "- 📈 Modelar la relación entre variables\n",
    "- 🔮 Predecir valores continuos\n",
    "- 📊 Entender cómo las variables independientes afectan a la variable dependiente\n",
    "\n",
    "### Dataset: Precios de Casas en Boston 🏠\n",
    "\n",
    "Utilizaremos un dataset sintético basado en el famoso dataset de Boston Housing que incluye:\n",
    "- 🏠 **Rooms**: Número de habitaciones\n",
    "- 📍 **Distance_to_Center**: Distancia al centro de la ciudad\n",
    "- 📅 **House_Age**: Edad de la casa\n",
    "- 🚨 **Crime_Rate**: Tasa de criminalidad\n",
    "- 👨‍🏫 **Student_Teacher_Ratio**: Ratio estudiante-profesor\n",
    "- 🏘️ **Neighborhood**: Tipo de vecindario\n",
    "- 🏗️ **House_Type**: Tipo de casa\n",
    "- 💰 **House_Price**: Precio de la casa (variable objetivo)\n",
    "\n",
    "---"
   ]
  },
  {
   "cell_type": "markdown",
   "id": "importacion",
   "metadata": {},
   "source": [
    "## 📦 Importación de Librerías <a id=\"importacion\"></a>\n",
    "\n",
    "Comenzamos importando las librerías necesarias para nuestro análisis:"
   ]
  },
  {
   "cell_type": "code",
   "execution_count": null,
   "id": "imports",
   "metadata": {},
   "outputs": [],
   "source": [
    "# 📊 Manipulación de datos\n",
    "import pandas as pd\n",
    "import numpy as np\n",
    "\n",
    "# 🤖 Machine Learning\n",
    "from sklearn import linear_model\n",
    "from sklearn.metrics import mean_squared_error, r2_score\n",
    "\n",
    "# 📈 Visualización\n",
    "import matplotlib.pyplot as plt\n",
    "import seaborn as sns\n",
    "\n",
    "# ⚙️ Configuración de visualización\n",
    "plt.style.use('seaborn-v0_8')\n",
    "sns.set_palette(\"husl\")\n",
    "\n",
    "print(\"✅ Librerías importadas correctamente!\")"
   ]
  },
  {
   "cell_type": "markdown",
   "id": "datos",
   "metadata": {},
   "source": [
    "## 📈 Carga y Exploración de Datos <a id=\"datos\"></a>\n",
    "\n",
    "Carguemos nuestro dataset y exploremos su estructura:"
   ]
  },
  {
   "cell_type": "code",
   "execution_count": null,
   "id": "load_data",
   "metadata": {},
   "outputs": [],
   "source": [
    "# 📂 Carga del dataset\n",
    "df_boston = pd.read_csv(\"boston_sintetico.csv\")\n",
    "\n",
    "print(\"🎉 Dataset cargado exitosamente!\")\n",
    "print(f\"📊 Dimensiones del dataset: {df_boston.shape}\")\n",
    "print(f\"🏠 Número de casas: {df_boston.shape[0]}\")\n",
    "print(f\"📋 Número de características: {df_boston.shape[1]}\")"
   ]
  },
  {
   "cell_type": "code",
   "execution_count": null,
   "id": "explore_data",
   "metadata": {},
   "outputs": [],
   "source": [
    "# 👀 Primeras 5 filas del dataset\n",
    "print(\"🔍 Primeras 5 filas del dataset:\")\n",
    "df_boston.head()"
   ]
  },
  {
   "cell_type": "code",
   "execution_count": null,
   "id": "data_info",
   "metadata": {},
   "outputs": [],
   "source": [
    "# 📊 Información general del dataset\n",
    "print(\"📋 Información del dataset:\")\n",
    "df_boston.info()\n",
    "\n",
    "print(\"\\n📈 Estadísticas descriptivas:\")\n",
    "df_boston.describe()"
   ]
  },
  {
   "cell_type": "markdown",
   "id": "implementacion",
   "metadata": {},
   "source": [
    "## 🔧 Implementación de Regresión Lineal <a id=\"implementacion\"></a>\n",
    "\n",
    "Ahora implementaremos nuestro modelo de regresión lineal paso a paso:"
   ]
  },
  {
   "cell_type": "markdown",
   "id": "variables",
   "metadata": {},
   "source": [
    "### 📊 4.1 Definición de Variables <a id=\"variables\"></a>\n",
    "\n",
    "Definimos nuestras variables independientes (X) y dependiente (y):"
   ]
  },
  {
   "cell_type": "code",
   "execution_count": null,
   "id": "define_variables",
   "metadata": {},
   "outputs": [],
   "source": [
    "# 🎯 Variable dependiente (lo que queremos predecir)\n",
    "y = df_boston[\"House_Price\"]\n",
    "print(f\"🏠 Variable objetivo: House_Price\")\n",
    "print(f\"💰 Precio promedio: ${y.mean():.2f}\")\n",
    "print(f\"📊 Rango de precios: ${y.min():.2f} - ${y.max():.2f}\")\n",
    "\n",
    "# 📈 Variables independientes (características que usaremos para predecir)\n",
    "X = df_boston[[\"Rooms\", \"Distance_to_Center\"]]\n",
    "print(f\"\\n📋 Variables independientes seleccionadas:\")\n",
    "print(f\"🏠 Rooms: Número de habitaciones\")\n",
    "print(f\"📍 Distance_to_Center: Distancia al centro\")\n",
    "\n",
    "print(f\"\\n✅ Variables definidas correctamente!\")\n",
    "print(f\"📊 Forma de X: {X.shape}\")\n",
    "print(f\"📊 Forma de y: {y.shape}\")"
   ]
  },
  {
   "cell_type": "markdown",
   "id": "ajuste",
   "metadata": {},
   "source": [
    "### ⚙️ 4.2 Ajuste del Modelo <a id=\"ajuste\"></a>\n",
    "\n",
    "Creamos y entrenamos nuestro modelo de regresión lineal:"
   ]
  },
  {
   "cell_type": "code",
   "execution_count": null,
   "id": "fit_model",
   "metadata": {},
   "outputs": [],
   "source": [
    "# 🤖 Crear el modelo de regresión lineal\n",
    "lm = linear_model.LinearRegression()\n",
    "\n",
    "print(\"🔧 Modelo de regresión lineal creado\")\n",
    "print(\"⚙️ Entrenando el modelo...\")\n",
    "\n",
    "# 🎯 Entrenar el modelo\n",
    "lm.fit(X, y)\n",
    "\n",
    "print(\"✅ ¡Modelo entrenado exitosamente!\")\n",
    "print(\"🎉 El modelo ha aprendido la relación entre las variables\")\n",
    "\n",
    "# Mostrar el modelo entrenado\n",
    "lm"
   ]
  },
  {
   "cell_type": "markdown",
   "id": "predicciones",
   "metadata": {},
   "source": [
    "### 🔮 4.3 Predicciones <a id=\"predicciones\"></a>\n",
    "\n",
    "Utilizamos nuestro modelo entrenado para hacer predicciones:"
   ]
  },
  {
   "cell_type": "code",
   "execution_count": null,
   "id": "predictions",
   "metadata": {},
   "outputs": [],
   "source": [
    "# 🔮 Realizar predicciones\n",
    "y_pred = lm.predict(X)\n",
    "\n",
    "print(\"🔮 Predicciones realizadas!\")\n",
    "print(f\"📊 Número de predicciones: {len(y_pred)}\")\n",
    "print(f\"💰 Precio promedio predicho: ${y_pred.mean():.2f}\")\n",
    "print(f\"📈 Rango de predicciones: ${y_pred.min():.2f} - ${y_pred.max():.2f}\")\n",
    "\n",
    "# Mostrar algunas predicciones\n",
    "print(\"\\n🎯 Primeras 10 predicciones:\")\n",
    "for i in range(10):\n",
    "    print(f\"Casa {i+1}: Real=${y.iloc[i]:.2f}, Predicho=${y_pred[i]:.2f}, Diferencia=${abs(y.iloc[i] - y_pred[i]):.2f}\")"
   ]
  },
  {
   "cell_type": "markdown",
   "id": "evaluacion",
   "metadata": {},
   "source": [
    "### 📋 4.4 Evaluación del Modelo <a id=\"evaluacion\"></a>\n",
    "\n",
    "Evaluamos qué tan bien funciona nuestro modelo:"
   ]
  },
  {
   "cell_type": "code",
   "execution_count": null,
   "id": "evaluation",
   "metadata": {},
   "outputs": [],
   "source": [
    "# 📊 Coeficiente de determinación (R²)\n",
    "r2 = lm.score(X, y)\n",
    "print(f\"📈 Coeficiente R² (R-squared): {r2:.4f}\")\n",
    "print(f\"📊 El modelo explica el {r2*100:.2f}% de la variabilidad en los precios\")\n",
    "\n",
    "# 📉 Error cuadrático medio\n",
    "mse = mean_squared_error(y, y_pred)\n",
    "rmse = np.sqrt(mse)\n",
    "print(f\"\\n📉 Error Cuadrático Medio (MSE): {mse:.2f}\")\n",
    "print(f\"📐 Raíz del Error Cuadrático Medio (RMSE): ${rmse:.2f}\")\n",
    "\n",
    "# 🎯 Interpretación del R²\n",
    "if r2 > 0.8:\n",
    "    print(\"\\n🎉 ¡Excelente! El modelo tiene un muy buen ajuste\")\n",
    "elif r2 > 0.6:\n",
    "    print(\"\\n👍 Buen ajuste del modelo\")\n",
    "elif r2 > 0.4:\n",
    "    print(\"\\n⚠️ Ajuste moderado del modelo\")\n",
    "else:\n",
    "    print(\"\\n❌ El modelo necesita mejoras\")"
   ]
  },
  {
   "cell_type": "markdown",
   "id": "interpretacion",
   "metadata": {},
   "source": [
    "## 📊 Interpretación de Resultados <a id=\"interpretacion\"></a>\n",
    "\n",
    "Analicemos los coeficientes y el intercepto de nuestro modelo:"
   ]
  },
  {
   "cell_type": "code",
   "execution_count": null,
   "id": "coefficients",
   "metadata": {},
   "outputs": [],
   "source": [
    "# 📊 Coeficientes del modelo\n",
    "coeficientes = lm.coef_\n",
    "intercepto = lm.intercept_\n",
    "\n",
    "print(\"🔍 Análisis de Coeficientes:\")\n",
    "print(\"=\" * 50)\n",
    "\n",
    "# Intercepto\n",
    "print(f\"🎯 Intercepto: ${intercepto:.2f}\")\n",
    "print(f\"   📝 Precio base cuando Rooms=0 y Distance_to_Center=0\")\n",
    "\n",
    "# Coeficientes\n",
    "variables = [\"Rooms\", \"Distance_to_Center\"]\n",
    "for i, (var, coef) in enumerate(zip(variables, coeficientes)):\n",
    "    print(f\"\\n📊 {var}: {coef:.2f}\")\n",
    "    if var == \"Rooms\":\n",
    "        if coef > 0:\n",
    "            print(f\"   📈 Por cada habitación adicional, el precio aumenta ${coef:.2f}\")\n",
    "        else:\n",
    "            print(f\"   📉 Por cada habitación adicional, el precio disminuye ${abs(coef):.2f}\")\n",
    "    elif var == \"Distance_to_Center\":\n",
    "        if coef > 0:\n",
    "            print(f\"   📈 Por cada unidad de distancia al centro, el precio aumenta ${coef:.2f}\")\n",
    "        else:\n",
    "            print(f\"   📉 Por cada unidad de distancia al centro, el precio disminuye ${abs(coef):.2f}\")\n",
    "\n",
    "print(\"\\n\" + \"=\" * 50)\n",
    "print(f\"📐 Ecuación del modelo:\")\n",
    "print(f\"💰 Precio = {intercepto:.2f} + {coeficientes[0]:.2f} × Rooms + {coeficientes[1]:.2f} × Distance_to_Center\")"
   ]
  },
  {
   "cell_type": "code",
   "execution_count": null,
   "id": "visualization",
   "metadata": {},
   "outputs": [],
   "source": [
    "# 📈 Visualización de resultados\n",
    "fig, axes = plt.subplots(2, 2, figsize=(15, 12))\n",
    "fig.suptitle('📊 Análisis de Regresión Lineal', fontsize=16, fontweight='bold')\n",
    "\n",
    "# Gráfico 1: Valores reales vs predichos\n",
    "axes[0, 0].scatter(y, y_pred, alpha=0.6, color='blue')\n",
    "axes[0, 0].plot([y.min(), y.max()], [y.min(), y.max()], 'r--', lw=2)\n",
    "axes[0, 0].set_xlabel('🏠 Precios Reales')\n",
    "axes[0, 0].set_ylabel('🔮 Precios Predichos')\n",
    "axes[0, 0].set_title('Valores Reales vs Predichos')\n",
    "axes[0, 0].grid(True, alpha=0.3)\n",
    "\n",
    "# Gráfico 2: Residuos\n",
    "residuos = y - y_pred\n",
    "axes[0, 1].scatter(y_pred, residuos, alpha=0.6, color='green')\n",
    "axes[0, 1].axhline(y=0, color='r', linestyle='--')\n",
    "axes[0, 1].set_xlabel('🔮 Precios Predichos')\n",
    "axes[0, 1].set_ylabel('📊 Residuos')\n",
    "axes[0, 1].set_title('Análisis de Residuos')\n",
    "axes[0, 1].grid(True, alpha=0.3)\n",
    "\n",
    "# Gráfico 3: Relación Rooms vs Precio\n",
    "axes[1, 0].scatter(X['Rooms'], y, alpha=0.6, color='orange', label='Datos reales')\n",
    "axes[1, 0].scatter(X['Rooms'], y_pred, alpha=0.6, color='red', label='Predicciones')\n",
    "axes[1, 0].set_xlabel('🏠 Número de Habitaciones')\n",
    "axes[1, 0].set_ylabel('💰 Precio')\n",
    "axes[1, 0].set_title('Habitaciones vs Precio')\n",
    "axes[1, 0].legend()\n",
    "axes[1, 0].grid(True, alpha=0.3)\n",
    "\n",
    "# Gráfico 4: Relación Distance vs Precio\n",
    "axes[1, 1].scatter(X['Distance_to_Center'], y, alpha=0.6, color='purple', label='Datos reales')\n",
    "axes[1, 1].scatter(X['Distance_to_Center'], y_pred, alpha=0.6, color='red', label='Predicciones')\n",
    "axes[1, 1].set_xlabel('📍 Distancia al Centro')\n",
    "axes[1, 1].set_ylabel('💰 Precio')\n",
    "axes[1, 1].set_title('Distancia vs Precio')\n",
    "axes[1, 1].legend()\n",
    "axes[1, 1].grid(True, alpha=0.3)\n",
    "\n",
    "plt.tight_layout()\n",
    "plt.show()\n",
    "\n",
    "print(\"📈 Gráficos generados exitosamente!\")"
   ]
  },
  {
   "cell_type": "markdown",
   "id": "ejemplo_prediccion",
   "metadata": {},
   "source": [
    "### 🎯 Ejemplo de Predicción\n",
    "\n",
    "Hagamos una predicción para una casa específica:"
   ]
  },
  {
   "cell_type": "code",
   "execution_count": null,
   "id": "example_prediction",
   "metadata": {},
   "outputs": [],
   "source": [
    "# 🏠 Ejemplo: Predecir el precio de una casa nueva\n",
    "nueva_casa = {\n",
    "    'Rooms': 7.5,\n",
    "    'Distance_to_Center': 2.0\n",
    "}\n",
    "\n",
    "# Crear DataFrame para la predicción\n",
    "nueva_casa_df = pd.DataFrame([nueva_casa])\n",
    "\n",
    "# Realizar predicción\n",
    "precio_predicho = lm.predict(nueva_casa_df)[0]\n",
    "\n",
    "print(\"🏠 Predicción para una nueva casa:\")\n",
    "print(\"=\" * 40)\n",
    "print(f\"🏠 Habitaciones: {nueva_casa['Rooms']}\")\n",
    "print(f\"📍 Distancia al centro: {nueva_casa['Distance_to_Center']} km\")\n",
    "print(f\"💰 Precio predicho: ${precio_predicho:.2f}\")\n",
    "print(\"=\" * 40)\n",
    "\n",
    "# Mostrar el cálculo paso a paso\n",
    "print(\"\\n🔍 Cálculo detallado:\")\n",
    "print(f\"💰 Precio = {intercepto:.2f} + {coeficientes[0]:.2f} × {nueva_casa['Rooms']} + {coeficientes[1]:.2f} × {nueva_casa['Distance_to_Center']}\")\n",
    "print(f\"💰 Precio = {intercepto:.2f} + {coeficientes[0] * nueva_casa['Rooms']:.2f} + {coeficientes[1] * nueva_casa['Distance_to_Center']:.2f}\")\n",
    "print(f\"💰 Precio = ${precio_predicho:.2f}\")"
   ]
  },
  {
   "cell_type": "markdown",
   "id": "conclusiones",
   "metadata": {},
   "source": [
    "## 🎯 Conclusiones <a id=\"conclusiones\"></a>\n",
    "\n",
    "### 📊 Resumen del Análisis\n",
    "\n",
    "En este notebook hemos implementado exitosamente un modelo de regresión lineal para predecir precios de casas. Aquí están nuestros hallazgos principales:\n",
    "\n",
    "### 🔍 Hallazgos Clave:\n",
    "\n",
    "1. **📈 Rendimiento del Modelo:**\n",
    "   - R² Score: Indica qué porcentaje de la variabilidad explica nuestro modelo\n",
    "   - RMSE: Nos da una idea del error promedio en nuestras predicciones\n",
    "\n",
    "2. **🏠 Impacto de las Variables:**\n",
    "   - **Habitaciones**: Cada habitación adicional afecta el precio\n",
    "   - **Distancia al Centro**: La ubicación impacta significativamente el valor\n",
    "\n",
    "3. **⚡ Ventajas de la Regresión Lineal:**\n",
    "   - ✅ Fácil de interpretar\n",
    "   - ✅ Rápida de entrenar\n",
    "   - ✅ Buena línea base para modelos más complejos\n",
    "   - ✅ Transparente en sus predicciones\n",
    "\n",
    "4. **⚠️ Limitaciones:**\n",
    "   - Solo captura relaciones lineales\n",
    "   - Sensible a outliers\n",
    "   - Asume independencia entre variables\n",
    "\n",
    "### 🚀 Próximos Pasos:\n",
    "\n",
    "Para mejorar nuestro modelo, podríamos:\n",
    "- 📊 Incluir más variables predictoras\n",
    "- 🔄 Probar transformaciones de variables\n",
    "- 🤖 Explorar modelos más complejos (Random Forest, XGBoost)\n",
    "- 📈 Realizar validación cruzada\n",
    "- 🎯 Analizar y tratar outliers\n",
    "\n",
    "---\n",
    "\n",
    "### 🎉 ¡Felicidades!\n",
    "\n",
    "Has completado exitosamente tu primer modelo de regresión lineal con Scikit-Learn. Este es el primer paso en tu journey de Machine Learning! 🚀\n",
    "\n",
    "---\n",
    "\n",
    "*📚 Creado con ❤️ para el aprendizaje de Data Science*"
   ]
  }
 ],
 "metadata": {
  "kernelspec": {
   "display_name": "venv",
   "language": "python",
   "name": "python3"
  },
  "language_info": {
   "codemirror_mode": {
    "name": "ipython",
    "version": 3
   },
   "file_extension": ".py",
   "mimetype": "text/x-python",
   "name": "python",
   "nbconvert_exporter": "python",
   "pygments_lexer": "ipython3",
   "version": "3.12.3"
  }
 },
 "nbformat": 4,
 "nbformat_minor": 5
}