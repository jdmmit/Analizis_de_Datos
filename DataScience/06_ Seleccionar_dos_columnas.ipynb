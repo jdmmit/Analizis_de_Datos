{
 "cells": [
  {
   "cell_type": "markdown",
   "id": "header-title",
   "metadata": {},
   "source": [
    "# 📊 Selección de Múltiples Columnas en DataFrames 🎯\n",
    "\n",
    "\n",
    "\n",
    "---"
   ]
  },
  {
   "cell_type": "markdown",
   "id": "table-of-contents",
   "metadata": {},
   "source": [
    "## 📋 Índice de Navegación Rápida\n",
    "\n",
    "<div style=\"background-color: #0a0a0aff; padding: 15px; border-radius: 10px; border-left: 5px solid #007bff;\">\n",
    "\n",
    "### 🎯 **Contenido de esta lección:**\n",
    "\n",
    "1. [🔧 **Configuración Inicial**](#configuracion) - Importación de librerías y carga de datos\n",
    "2. [👀 **Exploración del Dataset**](#exploracion) - Conociendo nuestros datos\n",
    "3. [🎯 **Selección de Dos Columnas**](#dos-columnas) - Técnica básica con doble corchete\n",
    "4. [🔍 **Verificación de Tipos**](#tipos) - Entendiendo qué obtenemos\n",
    "5. [📊 **Selección Múltiple Avanzada**](#multiple) - Trabajando con 3+ columnas\n",
    "6. [⚠️ **Errores Comunes**](#errores) - Qué NO hacer\n",
    "7. [💡 **Casos Prácticos**](#casos-practicos) - Ejemplos del mundo real\n",
    "8. [🎓 **Ejercicios Interactivos**](#ejercicios) - Pon a prueba tus conocimientos\n",
    "9. [📝 **Resumen y Mejores Prácticas**](#resumen) - Puntos clave para recordar\n",
    "\n",
    "</div>\n",
    "\n",
    "---"
   ]
  },
  {
   "cell_type": "markdown",
   "id": "configuracion",
   "metadata": {},
   "source": [
    "## 🔧 1. Configuración Inicial\n",
    "\n",
    "<div style=\"background-color: #e8f5e8; padding: 10px; border-radius: 8px; border-left: 4px solid #28a745;\">\n",
    "    <strong>🎯 Objetivo:</strong> Preparar nuestro entorno de trabajo importando las librerías necesarias\n",
    "</div>"
   ]
  },
  {
   "cell_type": "code",
   "execution_count": 1,
   "id": "import-libraries",
   "metadata": {},
   "outputs": [
    {
     "name": "stdout",
     "output_type": "stream",
     "text": [
      "✅ Librerías importadas correctamente\n",
      "📊 Versión de Pandas: 2.3.1\n",
      "🔢 Versión de NumPy: 2.3.2\n"
     ]
    }
   ],
   "source": [
    "# 📦 Importación de librerías esenciales\n",
    "import pandas as pd\n",
    "import numpy as np\n",
    "import warnings\n",
    "\n",
    "# 🎨 Configuración para mejor visualización\n",
    "pd.set_option('display.max_columns', None)\n",
    "pd.set_option('display.width', None)\n",
    "warnings.filterwarnings('ignore')\n",
    "\n",
    "print(\"✅ Librerías importadas correctamente\")\n",
    "print(f\"📊 Versión de Pandas: {pd.__version__}\")\n",
    "print(f\"🔢 Versión de NumPy: {np.__version__}\")"
   ]
  },
  {
   "cell_type": "markdown",
   "id": "exploracion",
   "metadata": {},
   "source": [
    "## 👀 2. Exploración del Dataset\n",
    "\n",
    "<div style=\"background-color: #070707ff; padding: 10px; border-radius: 8px; border-left: 4px solid #ffc107;\">\n",
    "    <strong>📊 Dataset:</strong> StudentsPerformance.csv - Rendimiento académico de estudiantes\n",
    "</div>"
   ]
  },
  {
   "cell_type": "code",
   "execution_count": 2,
   "id": "load-data",
   "metadata": {},
   "outputs": [
    {
     "name": "stdout",
     "output_type": "stream",
     "text": [
      "🎉 Dataset cargado exitosamente!\n",
      "📏 Dimensiones: 1000 filas × 8 columnas\n",
      "\n",
      "📋 Primeras 5 filas del dataset:\n"
     ]
    },
    {
     "data": {
      "text/html": [
       "<div>\n",
       "<style scoped>\n",
       "    .dataframe tbody tr th:only-of-type {\n",
       "        vertical-align: middle;\n",
       "    }\n",
       "\n",
       "    .dataframe tbody tr th {\n",
       "        vertical-align: top;\n",
       "    }\n",
       "\n",
       "    .dataframe thead th {\n",
       "        text-align: right;\n",
       "    }\n",
       "</style>\n",
       "<table border=\"1\" class=\"dataframe\">\n",
       "  <thead>\n",
       "    <tr style=\"text-align: right;\">\n",
       "      <th></th>\n",
       "      <th>gender</th>\n",
       "      <th>race/ethnicity</th>\n",
       "      <th>parental level of education</th>\n",
       "      <th>lunch</th>\n",
       "      <th>test preparation course</th>\n",
       "      <th>math score</th>\n",
       "      <th>reading score</th>\n",
       "      <th>writing score</th>\n",
       "    </tr>\n",
       "  </thead>\n",
       "  <tbody>\n",
       "    <tr>\n",
       "      <th>0</th>\n",
       "      <td>female</td>\n",
       "      <td>group B</td>\n",
       "      <td>bachelor's degree</td>\n",
       "      <td>standard</td>\n",
       "      <td>none</td>\n",
       "      <td>72</td>\n",
       "      <td>72</td>\n",
       "      <td>74</td>\n",
       "    </tr>\n",
       "    <tr>\n",
       "      <th>1</th>\n",
       "      <td>female</td>\n",
       "      <td>group C</td>\n",
       "      <td>some college</td>\n",
       "      <td>standard</td>\n",
       "      <td>completed</td>\n",
       "      <td>69</td>\n",
       "      <td>90</td>\n",
       "      <td>88</td>\n",
       "    </tr>\n",
       "    <tr>\n",
       "      <th>2</th>\n",
       "      <td>female</td>\n",
       "      <td>group B</td>\n",
       "      <td>master's degree</td>\n",
       "      <td>standard</td>\n",
       "      <td>none</td>\n",
       "      <td>90</td>\n",
       "      <td>95</td>\n",
       "      <td>93</td>\n",
       "    </tr>\n",
       "    <tr>\n",
       "      <th>3</th>\n",
       "      <td>male</td>\n",
       "      <td>group A</td>\n",
       "      <td>associate's degree</td>\n",
       "      <td>free/reduced</td>\n",
       "      <td>none</td>\n",
       "      <td>47</td>\n",
       "      <td>57</td>\n",
       "      <td>44</td>\n",
       "    </tr>\n",
       "    <tr>\n",
       "      <th>4</th>\n",
       "      <td>male</td>\n",
       "      <td>group C</td>\n",
       "      <td>some college</td>\n",
       "      <td>standard</td>\n",
       "      <td>none</td>\n",
       "      <td>76</td>\n",
       "      <td>78</td>\n",
       "      <td>75</td>\n",
       "    </tr>\n",
       "  </tbody>\n",
       "</table>\n",
       "</div>"
      ],
      "text/plain": [
       "   gender race/ethnicity parental level of education         lunch  \\\n",
       "0  female        group B           bachelor's degree      standard   \n",
       "1  female        group C                some college      standard   \n",
       "2  female        group B             master's degree      standard   \n",
       "3    male        group A          associate's degree  free/reduced   \n",
       "4    male        group C                some college      standard   \n",
       "\n",
       "  test preparation course  math score  reading score  writing score  \n",
       "0                    none          72             72             74  \n",
       "1               completed          69             90             88  \n",
       "2                    none          90             95             93  \n",
       "3                    none          47             57             44  \n",
       "4                    none          76             78             75  "
      ]
     },
     "execution_count": 2,
     "metadata": {},
     "output_type": "execute_result"
    }
   ],
   "source": [
    "# 📂 Carga del dataset\n",
    "df_exams = pd.read_csv(\"StudentsPerformance.csv\")\n",
    "\n",
    "print(\"🎉 Dataset cargado exitosamente!\")\n",
    "print(f\"📏 Dimensiones: {df_exams.shape[0]} filas × {df_exams.shape[1]} columnas\")\n",
    "print(\"\\n📋 Primeras 5 filas del dataset:\")\n",
    "df_exams.head()"
   ]
  },
  {
   "cell_type": "code",
   "execution_count": 3,
   "id": "dataset-info",
   "metadata": {},
   "outputs": [
    {
     "name": "stdout",
     "output_type": "stream",
     "text": [
      "📊 INFORMACIÓN GENERAL DEL DATASET\n",
      "========================================\n",
      "📏 Forma del DataFrame: (1000, 8)\n",
      "📋 Columnas disponibles: ['gender', 'race/ethnicity', 'parental level of education', 'lunch', 'test preparation course', 'math score', 'reading score', 'writing score']\n",
      "🔢 Tipos de datos:\n",
      "gender                         object\n",
      "race/ethnicity                 object\n",
      "parental level of education    object\n",
      "lunch                          object\n",
      "test preparation course        object\n",
      "math score                      int64\n",
      "reading score                   int64\n",
      "writing score                   int64\n",
      "dtype: object\n",
      "\n",
      "❓ Valores nulos por columna:\n",
      "gender                         0\n",
      "race/ethnicity                 0\n",
      "parental level of education    0\n",
      "lunch                          0\n",
      "test preparation course        0\n",
      "math score                     0\n",
      "reading score                  0\n",
      "writing score                  0\n",
      "dtype: int64\n"
     ]
    }
   ],
   "source": [
    "# 🔍 Información detallada del dataset\n",
    "print(\"📊 INFORMACIÓN GENERAL DEL DATASET\")\n",
    "print(\"=\" * 40)\n",
    "print(f\"📏 Forma del DataFrame: {df_exams.shape}\")\n",
    "print(f\"📋 Columnas disponibles: {list(df_exams.columns)}\")\n",
    "print(f\"🔢 Tipos de datos:\")\n",
    "print(df_exams.dtypes)\n",
    "print(f\"\\n❓ Valores nulos por columna:\")\n",
    "print(df_exams.isnull().sum())"
   ]
  },
  {
   "cell_type": "markdown",
   "id": "dos-columnas",
   "metadata": {},
   "source": [
    "## 🎯 3. Selección de Dos Columnas\n",
    "\n",
    "<div style=\"background-color: #0d0d0eff; padding: 15px; border-radius: 8px; border-left: 4px solid #17a2b8;\">\n",
    "    <strong>🎓 Concepto Clave:</strong> Para seleccionar múltiples columnas usamos <code>df[[col1, col2]]</code> con <strong>doble corchete</strong>\n",
    "</div>\n",
    "\n",
    "### 📚 Sintaxis Fundamental:\n",
    "```python\n",
    "# ✅ Correcto: Doble corchete para múltiples columnas\n",
    "df[['columna1', 'columna2']]\n",
    "\n",
    "# ❌ Incorrecto: Un solo corchete no funciona para múltiples\n",
    "df['columna1', 'columna2']  # Esto dará error\n",
    "```"
   ]
  },
  {
   "cell_type": "code",
   "execution_count": 4,
   "id": "select-two-columns",
   "metadata": {},
   "outputs": [
    {
     "name": "stdout",
     "output_type": "stream",
     "text": [
      "📊 SELECCIÓN DE DOS COLUMNAS: MATH SCORE y READING SCORE\n",
      "=======================================================\n",
      "📏 Dimensiones del resultado: (1000, 2)\n",
      "\n",
      "🔝 Primeras 10 filas:\n"
     ]
    },
    {
     "data": {
      "text/html": [
       "<div>\n",
       "<style scoped>\n",
       "    .dataframe tbody tr th:only-of-type {\n",
       "        vertical-align: middle;\n",
       "    }\n",
       "\n",
       "    .dataframe tbody tr th {\n",
       "        vertical-align: top;\n",
       "    }\n",
       "\n",
       "    .dataframe thead th {\n",
       "        text-align: right;\n",
       "    }\n",
       "</style>\n",
       "<table border=\"1\" class=\"dataframe\">\n",
       "  <thead>\n",
       "    <tr style=\"text-align: right;\">\n",
       "      <th></th>\n",
       "      <th>math score</th>\n",
       "      <th>reading score</th>\n",
       "    </tr>\n",
       "  </thead>\n",
       "  <tbody>\n",
       "    <tr>\n",
       "      <th>0</th>\n",
       "      <td>72</td>\n",
       "      <td>72</td>\n",
       "    </tr>\n",
       "    <tr>\n",
       "      <th>1</th>\n",
       "      <td>69</td>\n",
       "      <td>90</td>\n",
       "    </tr>\n",
       "    <tr>\n",
       "      <th>2</th>\n",
       "      <td>90</td>\n",
       "      <td>95</td>\n",
       "    </tr>\n",
       "    <tr>\n",
       "      <th>3</th>\n",
       "      <td>47</td>\n",
       "      <td>57</td>\n",
       "    </tr>\n",
       "    <tr>\n",
       "      <th>4</th>\n",
       "      <td>76</td>\n",
       "      <td>78</td>\n",
       "    </tr>\n",
       "    <tr>\n",
       "      <th>5</th>\n",
       "      <td>71</td>\n",
       "      <td>83</td>\n",
       "    </tr>\n",
       "    <tr>\n",
       "      <th>6</th>\n",
       "      <td>88</td>\n",
       "      <td>95</td>\n",
       "    </tr>\n",
       "    <tr>\n",
       "      <th>7</th>\n",
       "      <td>40</td>\n",
       "      <td>43</td>\n",
       "    </tr>\n",
       "    <tr>\n",
       "      <th>8</th>\n",
       "      <td>64</td>\n",
       "      <td>64</td>\n",
       "    </tr>\n",
       "    <tr>\n",
       "      <th>9</th>\n",
       "      <td>38</td>\n",
       "      <td>60</td>\n",
       "    </tr>\n",
       "  </tbody>\n",
       "</table>\n",
       "</div>"
      ],
      "text/plain": [
       "   math score  reading score\n",
       "0          72             72\n",
       "1          69             90\n",
       "2          90             95\n",
       "3          47             57\n",
       "4          76             78\n",
       "5          71             83\n",
       "6          88             95\n",
       "7          40             43\n",
       "8          64             64\n",
       "9          38             60"
      ]
     },
     "execution_count": 4,
     "metadata": {},
     "output_type": "execute_result"
    }
   ],
   "source": [
    "# 🎯 Selección de dos columnas específicas: puntuaciones de matemáticas y lectura\n",
    "print(\"📊 SELECCIÓN DE DOS COLUMNAS: MATH SCORE y READING SCORE\")\n",
    "print(\"=\" * 55)\n",
    "\n",
    "# Seleccionamos las columnas de interés\n",
    "math_reading_scores = df_exams[['math score', 'reading score']]\n",
    "\n",
    "print(f\"📏 Dimensiones del resultado: {math_reading_scores.shape}\")\n",
    "print(\"\\n🔝 Primeras 10 filas:\")\n",
    "math_reading_scores.head(10)"
   ]
  },
  {
   "cell_type": "code",
   "execution_count": 5,
   "id": "column-analysis",
   "metadata": {},
   "outputs": [
    {
     "name": "stdout",
     "output_type": "stream",
     "text": [
      "📊 ESTADÍSTICAS DESCRIPTIVAS\n",
      "==============================\n",
      "       math score  reading score\n",
      "count  1000.00000    1000.000000\n",
      "mean     66.08900      69.169000\n",
      "std      15.16308      14.600192\n",
      "min       0.00000      17.000000\n",
      "25%      57.00000      59.000000\n",
      "50%      66.00000      70.000000\n",
      "75%      77.00000      79.000000\n",
      "max     100.00000     100.000000\n",
      "\n",
      "🔍 INFORMACIÓN ADICIONAL:\n",
      "📊 Promedio en Matemáticas: 66.09\n",
      "📚 Promedio en Lectura: 69.17\n",
      "🎯 Diferencia promedio: 3.08 puntos\n"
     ]
    }
   ],
   "source": [
    "# 📈 Análisis rápido de las columnas seleccionadas\n",
    "print(\"📊 ESTADÍSTICAS DESCRIPTIVAS\")\n",
    "print(\"=\" * 30)\n",
    "print(math_reading_scores.describe())\n",
    "\n",
    "print(\"\\n🔍 INFORMACIÓN ADICIONAL:\")\n",
    "print(f\"📊 Promedio en Matemáticas: {math_reading_scores['math score'].mean():.2f}\")\n",
    "print(f\"📚 Promedio en Lectura: {math_reading_scores['reading score'].mean():.2f}\")\n",
    "print(f\"🎯 Diferencia promedio: {abs(math_reading_scores['math score'].mean() - math_reading_scores['reading score'].mean()):.2f} puntos\")"
   ]
  },
  {
   "cell_type": "markdown",
   "id": "tipos",
   "metadata": {},
   "source": [
    "## 🔍 4. Verificación de Tipos de Datos\n",
    "\n",
    "<div style=\"background-color: #0c0c0cff; padding: 10px; border-radius: 8px; border-left: 4px solid #dc3545;\">\n",
    "    <strong>⚠️ Importante:</strong> Siempre verifica qué tipo de objeto obtienes al hacer selecciones\n",
    "</div>"
   ]
  },
  {
   "cell_type": "code",
   "execution_count": 6,
   "id": "check-types",
   "metadata": {},
   "outputs": [
    {
     "name": "stdout",
     "output_type": "stream",
     "text": [
      "🔍 ANÁLISIS DE TIPOS DE DATOS\n",
      "===================================\n",
      "📊 Tipo del DataFrame original: <class 'pandas.core.frame.DataFrame'>\n",
      "🎯 Tipo de selección múltiple: <class 'pandas.core.frame.DataFrame'>\n",
      "📈 Tipo de selección única: <class 'pandas.core.series.Series'>\n",
      "\n",
      "💡 CONCLUSIÓN:\n",
      "✅ Múltiples columnas → DataFrame\n",
      "✅ Una sola columna → Series\n"
     ]
    }
   ],
   "source": [
    "# 🔬 Verificación del tipo de dato resultante\n",
    "print(\"🔍 ANÁLISIS DE TIPOS DE DATOS\")\n",
    "print(\"=\" * 35)\n",
    "\n",
    "# Tipo del DataFrame original\n",
    "print(f\"📊 Tipo del DataFrame original: {type(df_exams)}\")\n",
    "\n",
    "# Tipo de la selección de múltiples columnas\n",
    "selection_type = type(df_exams[['math score', 'reading score']])\n",
    "print(f\"🎯 Tipo de selección múltiple: {selection_type}\")\n",
    "\n",
    "# Comparación con selección de una sola columna\n",
    "single_column_type = type(df_exams['math score'])\n",
    "print(f\"📈 Tipo de selección única: {single_column_type}\")\n",
    "\n",
    "print(\"\\n💡 CONCLUSIÓN:\")\n",
    "print(\"✅ Múltiples columnas → DataFrame\")\n",
    "print(\"✅ Una sola columna → Series\")"
   ]
  },
  {
   "cell_type": "markdown",
   "id": "multiple",
   "metadata": {},
   "source": [
    "## 📊 5. Selección Múltiple Avanzada (3+ Columnas)\n",
    "\n",
    "<div style=\"background-color: #080808ff; padding: 15px; border-radius: 8px; border-left: 4px solid #28a745;\">\n",
    "    <strong>🚀 Nivel Avanzado:</strong> Seleccionando múltiples columnas para análisis más completos\n",
    "</div>"
   ]
  },
  {
   "cell_type": "code",
   "execution_count": 7,
   "id": "multiple-columns",
   "metadata": {},
   "outputs": [
    {
     "name": "stdout",
     "output_type": "stream",
     "text": [
      "👥 ANÁLISIS DEMOGRÁFICO Y ACADÉMICO\n",
      "========================================\n",
      "📏 Dimensiones: (1000, 5)\n",
      "\n",
      "🔝 Muestra de datos:\n"
     ]
    },
    {
     "data": {
      "text/html": [
       "<div>\n",
       "<style scoped>\n",
       "    .dataframe tbody tr th:only-of-type {\n",
       "        vertical-align: middle;\n",
       "    }\n",
       "\n",
       "    .dataframe tbody tr th {\n",
       "        vertical-align: top;\n",
       "    }\n",
       "\n",
       "    .dataframe thead th {\n",
       "        text-align: right;\n",
       "    }\n",
       "</style>\n",
       "<table border=\"1\" class=\"dataframe\">\n",
       "  <thead>\n",
       "    <tr style=\"text-align: right;\">\n",
       "      <th></th>\n",
       "      <th>gender</th>\n",
       "      <th>race/ethnicity</th>\n",
       "      <th>math score</th>\n",
       "      <th>reading score</th>\n",
       "      <th>writing score</th>\n",
       "    </tr>\n",
       "  </thead>\n",
       "  <tbody>\n",
       "    <tr>\n",
       "      <th>0</th>\n",
       "      <td>female</td>\n",
       "      <td>group B</td>\n",
       "      <td>72</td>\n",
       "      <td>72</td>\n",
       "      <td>74</td>\n",
       "    </tr>\n",
       "    <tr>\n",
       "      <th>1</th>\n",
       "      <td>female</td>\n",
       "      <td>group C</td>\n",
       "      <td>69</td>\n",
       "      <td>90</td>\n",
       "      <td>88</td>\n",
       "    </tr>\n",
       "    <tr>\n",
       "      <th>2</th>\n",
       "      <td>female</td>\n",
       "      <td>group B</td>\n",
       "      <td>90</td>\n",
       "      <td>95</td>\n",
       "      <td>93</td>\n",
       "    </tr>\n",
       "    <tr>\n",
       "      <th>3</th>\n",
       "      <td>male</td>\n",
       "      <td>group A</td>\n",
       "      <td>47</td>\n",
       "      <td>57</td>\n",
       "      <td>44</td>\n",
       "    </tr>\n",
       "    <tr>\n",
       "      <th>4</th>\n",
       "      <td>male</td>\n",
       "      <td>group C</td>\n",
       "      <td>76</td>\n",
       "      <td>78</td>\n",
       "      <td>75</td>\n",
       "    </tr>\n",
       "  </tbody>\n",
       "</table>\n",
       "</div>"
      ],
      "text/plain": [
       "   gender race/ethnicity  math score  reading score  writing score\n",
       "0  female        group B          72             72             74\n",
       "1  female        group C          69             90             88\n",
       "2  female        group B          90             95             93\n",
       "3    male        group A          47             57             44\n",
       "4    male        group C          76             78             75"
      ]
     },
     "execution_count": 7,
     "metadata": {},
     "output_type": "execute_result"
    }
   ],
   "source": [
    "# 🎯 Selección de múltiples columnas para análisis demográfico y académico\n",
    "print(\"👥 ANÁLISIS DEMOGRÁFICO Y ACADÉMICO\")\n",
    "print(\"=\" * 40)\n",
    "\n",
    "# Seleccionamos columnas relevantes para el análisis\n",
    "demographic_academic = df_exams[['gender', 'race/ethnicity', 'math score', 'reading score', 'writing score']]\n",
    "\n",
    "print(f\"📏 Dimensiones: {demographic_academic.shape}\")\n",
    "print(\"\\n🔝 Muestra de datos:\")\n",
    "demographic_academic.head()"
   ]
  },
  {
   "cell_type": "code",
   "execution_count": 8,
   "id": "academic-focus",
   "metadata": {},
   "outputs": [
    {
     "name": "stdout",
     "output_type": "stream",
     "text": [
      "📊 ANÁLISIS PURAMENTE ACADÉMICO\n",
      "===================================\n",
      "📈 Estadísticas de rendimiento académico:\n",
      "       math score  reading score  writing score\n",
      "count  1000.00000    1000.000000    1000.000000\n",
      "mean     66.08900      69.169000      68.054000\n",
      "std      15.16308      14.600192      15.195657\n",
      "min       0.00000      17.000000      10.000000\n",
      "25%      57.00000      59.000000      57.750000\n",
      "50%      66.00000      70.000000      69.000000\n",
      "75%      77.00000      79.000000      79.000000\n",
      "max     100.00000     100.000000     100.000000\n",
      "\n",
      "🎯 MÉTRICAS ADICIONALES:\n",
      "🏆 Promedio general más alto: 100.00\n",
      "📉 Promedio general más bajo: 9.00\n",
      "📊 Promedio general del grupo: 67.77\n"
     ]
    }
   ],
   "source": [
    "# 📚 Enfoque académico: Solo las puntuaciones\n",
    "print(\"📊 ANÁLISIS PURAMENTE ACADÉMICO\")\n",
    "print(\"=\" * 35)\n",
    "\n",
    "academic_scores = df_exams[['math score', 'reading score', 'writing score']]\n",
    "\n",
    "print(\"📈 Estadísticas de rendimiento académico:\")\n",
    "print(academic_scores.describe())\n",
    "\n",
    "# Calculamos algunas métricas interesantes\n",
    "print(\"\\n🎯 MÉTRICAS ADICIONALES:\")\n",
    "academic_scores['promedio_total'] = academic_scores.mean(axis=1)\n",
    "print(f\"🏆 Promedio general más alto: {academic_scores['promedio_total'].max():.2f}\")\n",
    "print(f\"📉 Promedio general más bajo: {academic_scores['promedio_total'].min():.2f}\")\n",
    "print(f\"📊 Promedio general del grupo: {academic_scores['promedio_total'].mean():.2f}\")"
   ]
  },
  {
   "cell_type": "markdown",
   "id": "errores",
   "metadata": {},
   "source": [
    "## ⚠️ 6. Errores Comunes y Cómo Evitarlos\n",
    "\n",
    "<div style=\"background-color: #080808ff; padding: 15px; border-radius: 8px; border-left: 4px solid #dc3545;\">\n",
    "    <strong>🚨 Atención:</strong> Estos son los errores más frecuentes al seleccionar múltiples columnas\n",
    "</div>"
   ]
  },
  {
   "cell_type": "code",
   "execution_count": null,
   "id": "3ebeda6a",
   "metadata": {},
   "outputs": [],
   "source": []
  },
  {
   "cell_type": "code",
   "execution_count": 9,
   "id": "common-errors",
   "metadata": {},
   "outputs": [
    {
     "name": "stdout",
     "output_type": "stream",
     "text": [
      "🚨 ERRORES COMUNES AL SELECCIONAR MÚLTIPLES COLUMNAS\n",
      "=======================================================\n",
      "❌ ERROR 1: Usar un solo corchete\n",
      "   Incorrecto: df['col1', 'col2']\n",
      "   ✅ Correcto: df[['col1', 'col2']]\n",
      "\n",
      "❌ ERROR 2: Intentar usar notación de punto para múltiples columnas\n",
      "   Incorrecto: df.col1, col2\n",
      "   ✅ Correcto: df[['col1', 'col2']]\n",
      "\n",
      "❌ ERROR 3: Nombres de columnas incorrectos\n",
      "   Problema: Espacios, mayúsculas, caracteres especiales\n",
      "   ✅ Solución: Usar los nombres exactos como aparecen en df.columns\n",
      "\n",
      "📋 Nombres exactos de nuestras columnas:\n",
      "   1. 'gender'\n",
      "   2. 'race/ethnicity'\n",
      "   3. 'parental level of education'\n",
      "   4. 'lunch'\n",
      "   5. 'test preparation course'\n",
      "   6. 'math score'\n",
      "   7. 'reading score'\n",
      "   8. 'writing score'\n"
     ]
    }
   ],
   "source": [
    "print(\"🚨 ERRORES COMUNES AL SELECCIONAR MÚLTIPLES COLUMNAS\")\n",
    "print(\"=\" * 55)\n",
    "\n",
    "print(\"❌ ERROR 1: Usar un solo corchete\")\n",
    "print(\"   Incorrecto: df['col1', 'col2']\")\n",
    "print(\"   ✅ Correcto: df[['col1', 'col2']]\")\n",
    "\n",
    "print(\"\\n❌ ERROR 2: Intentar usar notación de punto para múltiples columnas\")\n",
    "print(\"   Incorrecto: df.col1, col2\")\n",
    "print(\"   ✅ Correcto: df[['col1', 'col2']]\")\n",
    "\n",
    "print(\"\\n❌ ERROR 3: Nombres de columnas incorrectos\")\n",
    "print(\"   Problema: Espacios, mayúsculas, caracteres especiales\")\n",
    "print(\"   ✅ Solución: Usar los nombres exactos como aparecen en df.columns\")\n",
    "\n",
    "print(\"\\n📋 Nombres exactos de nuestras columnas:\")\n",
    "for i, col in enumerate(df_exams.columns, 1):\n",
    "    print(f\"   {i}. '{col}'\")"
   ]
  },
  {
   "cell_type": "code",
   "execution_count": 10,
   "id": "error-demonstration",
   "metadata": {},
   "outputs": [
    {
     "name": "stdout",
     "output_type": "stream",
     "text": [
      "🧪 DEMOSTRACIÓN DE ERRORES (Código comentado)\n",
      "=============================================\n",
      "💡 Estos códigos están comentados porque generarían errores:\n",
      "\n",
      "# ❌ Esto NO funcionará:\n",
      "# df_exams['math score', 'reading score']  # KeyError\n",
      "\n",
      "# ❌ Esto tampoco funcionará:\n",
      "# df_exams.math score, reading score  # SyntaxError\n",
      "\n",
      "✅ La forma correcta es:\n",
      "   df_exams[['math score', 'reading score']] → <class 'pandas.core.frame.DataFrame'>\n"
     ]
    }
   ],
   "source": [
    "# 🧪 Demostración de errores (comentados para evitar que se ejecuten)\n",
    "print(\"🧪 DEMOSTRACIÓN DE ERRORES (Código comentado)\")\n",
    "print(\"=\" * 45)\n",
    "\n",
    "print(\"💡 Estos códigos están comentados porque generarían errores:\")\n",
    "print()\n",
    "print(\"# ❌ Esto NO funcionará:\")\n",
    "print(\"# df_exams['math score', 'reading score']  # KeyError\")\n",
    "print()\n",
    "print(\"# ❌ Esto tampoco funcionará:\")\n",
    "print(\"# df_exams.math score, reading score  # SyntaxError\")\n",
    "print()\n",
    "print(\"✅ La forma correcta es:\")\n",
    "correct_selection = df_exams[['math score', 'reading score']]\n",
    "print(f\"   df_exams[['math score', 'reading score']] → {type(correct_selection)}\")"
   ]
  },
  {
   "cell_type": "markdown",
   "id": "casos-practicos",
   "metadata": {},
   "source": [
    "## 💡 7. Casos Prácticos del Mundo Real\n",
    "\n",
    "<div style=\"background-color: #0c0c0cff; padding: 15px; border-radius: 8px; border-left: 4px solid #6c757d;\">\n",
    "    <strong>🌟 Aplicaciones Reales:</strong> Situaciones donde necesitas seleccionar múltiples columnas\n",
    "</div>"
   ]
  },
  {
   "cell_type": "code",
   "execution_count": 11,
   "id": "practical-case-1",
   "metadata": {},
   "outputs": [
    {
     "name": "stdout",
     "output_type": "stream",
     "text": [
      "👥 CASO PRÁCTICO 1: ANÁLISIS POR GÉNERO\n",
      "========================================\n",
      "📊 Promedio de puntuaciones por género:\n",
      "        math score  reading score  writing score\n",
      "gender                                          \n",
      "female   63.633205      72.608108      72.467181\n",
      "male     68.728216      65.473029      63.311203\n",
      "\n",
      "🔍 Observaciones:\n",
      "   Female: Math=63.6, Reading=72.6, Writing=72.5\n",
      "   Male: Math=68.7, Reading=65.5, Writing=63.3\n"
     ]
    }
   ],
   "source": [
    "# 🎯 Caso Práctico 1: Análisis de rendimiento por género\n",
    "print(\"👥 CASO PRÁCTICO 1: ANÁLISIS POR GÉNERO\")\n",
    "print(\"=\" * 40)\n",
    "\n",
    "# Seleccionamos género y todas las puntuaciones\n",
    "gender_performance = df_exams[['gender', 'math score', 'reading score', 'writing score']]\n",
    "\n",
    "# Análisis por género\n",
    "print(\"📊 Promedio de puntuaciones por género:\")\n",
    "gender_stats = gender_performance.groupby('gender').mean()\n",
    "print(gender_stats)\n",
    "\n",
    "print(\"\\n🔍 Observaciones:\")\n",
    "for gender in gender_stats.index:\n",
    "    math_avg = gender_stats.loc[gender, 'math score']\n",
    "    reading_avg = gender_stats.loc[gender, 'reading score']\n",
    "    writing_avg = gender_stats.loc[gender, 'writing score']\n",
    "    print(f\"   {gender.title()}: Math={math_avg:.1f}, Reading={reading_avg:.1f}, Writing={writing_avg:.1f}\")"
   ]
  },
  {
   "cell_type": "code",
   "execution_count": 12,
   "id": "practical-case-2",
   "metadata": {},
   "outputs": [
    {
     "name": "stdout",
     "output_type": "stream",
     "text": [
      "🍽️ CASO PRÁCTICO 2: IMPACTO DEL ALMUERZO\n",
      "========================================\n",
      "📊 Rendimiento académico por tipo de almuerzo:\n",
      "             math score        reading score        writing score       \n",
      "                   mean    std          mean    std          mean    std\n",
      "lunch                                                                   \n",
      "free/reduced      58.92  15.16         64.65  14.90         63.02  15.43\n",
      "standard          70.03  13.65         71.65  13.83         70.82  14.34\n",
      "\n",
      "💡 Insight: ¿Existe diferencia en el rendimiento según el tipo de almuerzo?\n"
     ]
    }
   ],
   "source": [
    "# 🍽️ Caso Práctico 2: Impacto del tipo de almuerzo en el rendimiento\n",
    "print(\"🍽️ CASO PRÁCTICO 2: IMPACTO DEL ALMUERZO\")\n",
    "print(\"=\" * 40)\n",
    "\n",
    "# Seleccionamos tipo de almuerzo y puntuaciones\n",
    "lunch_performance = df_exams[['lunch', 'math score', 'reading score', 'writing score']]\n",
    "\n",
    "print(\"📊 Rendimiento académico por tipo de almuerzo:\")\n",
    "lunch_stats = lunch_performance.groupby('lunch').agg({\n",
    "    'math score': ['mean', 'std'],\n",
    "    'reading score': ['mean', 'std'],\n",
    "    'writing score': ['mean', 'std']\n",
    "})\n",
    "\n",
    "print(lunch_stats.round(2))\n",
    "\n",
    "print(\"\\n💡 Insight: ¿Existe diferencia en el rendimiento según el tipo de almuerzo?\")"
   ]
  },
  {
   "cell_type": "code",
   "execution_count": 13,
   "id": "practical-case-3",
   "metadata": {},
   "outputs": [
    {
     "name": "stdout",
     "output_type": "stream",
     "text": [
      "🔗 CASO PRÁCTICO 3: CORRELACIÓN ENTRE MATERIAS\n",
      "=============================================\n",
      "📊 Matriz de correlación:\n",
      "               math score  reading score  writing score\n",
      "math score          1.000          0.818          0.803\n",
      "reading score       0.818          1.000          0.955\n",
      "writing score       0.803          0.955          1.000\n",
      "\n",
      "🔍 Interpretación:\n",
      "   📐 Math-Reading: 0.818\n",
      "   📐 Math-Writing: 0.803\n",
      "   📐 Reading-Writing: 0.955\n",
      "\n",
      "💡 Valores cercanos a 1 indican fuerte correlación positiva\n"
     ]
    }
   ],
   "source": [
    "# 🎓 Caso Práctico 3: Correlación entre materias\n",
    "print(\"🔗 CASO PRÁCTICO 3: CORRELACIÓN ENTRE MATERIAS\")\n",
    "print(\"=\" * 45)\n",
    "\n",
    "# Seleccionamos solo las puntuaciones para análisis de correlación\n",
    "scores_only = df_exams[['math score', 'reading score', 'writing score']]\n",
    "\n",
    "print(\"📊 Matriz de correlación:\")\n",
    "correlation_matrix = scores_only.corr()\n",
    "print(correlation_matrix.round(3))\n",
    "\n",
    "print(\"\\n🔍 Interpretación:\")\n",
    "print(f\"   📐 Math-Reading: {correlation_matrix.loc['math score', 'reading score']:.3f}\")\n",
    "print(f\"   📐 Math-Writing: {correlation_matrix.loc['math score', 'writing score']:.3f}\")\n",
    "print(f\"   📐 Reading-Writing: {correlation_matrix.loc['reading score', 'writing score']:.3f}\")\n",
    "print(\"\\n💡 Valores cercanos a 1 indican fuerte correlación positiva\")"
   ]
  },
  {
   "cell_type": "markdown",
   "id": "ejercicios",
   "metadata": {},
   "source": [
    "## 🎓 8. Ejercicios Interactivos\n",
    "\n",
    "<div style=\"background-color: #080808ff; padding: 15px; border-radius: 8px; border-left: 4px solid #ffc107;\">\n",
    "    <strong>🏋️ Practica:</strong> Resuelve estos ejercicios para consolidar tu aprendizaje\n",
    "</div>"
   ]
  },
  {
   "cell_type": "code",
   "execution_count": 14,
   "id": "exercise-1",
   "metadata": {},
   "outputs": [
    {
     "name": "stdout",
     "output_type": "stream",
     "text": [
      "🏋️ EJERCICIO 1: SELECCIÓN BÁSICA\n",
      "===================================\n",
      "📝 Tarea: Selecciona las columnas 'gender' y 'lunch'\n",
      "💡 Pista: Usa doble corchete con los nombres exactos\n",
      "\n",
      "✅ Resultado:\n",
      "📏 Forma: (1000, 2)\n",
      "   gender         lunch\n",
      "0  female      standard\n",
      "1  female      standard\n",
      "2  female      standard\n",
      "3    male  free/reduced\n",
      "4    male      standard\n"
     ]
    }
   ],
   "source": [
    "# 🏋️ EJERCICIO 1: Selección básica\n",
    "print(\"🏋️ EJERCICIO 1: SELECCIÓN BÁSICA\")\n",
    "print(\"=\" * 35)\n",
    "print(\"📝 Tarea: Selecciona las columnas 'gender' y 'lunch'\")\n",
    "print(\"💡 Pista: Usa doble corchete con los nombres exactos\")\n",
    "print()\n",
    "\n",
    "# 🔽 Escribe tu código aquí:\n",
    "ejercicio_1 = df_exams[['gender', 'lunch']]\n",
    "\n",
    "print(\"✅ Resultado:\")\n",
    "print(f\"📏 Forma: {ejercicio_1.shape}\")\n",
    "print(ejercicio_1.head())"
   ]
  },
  {
   "cell_type": "code",
   "execution_count": 15,
   "id": "exercise-2",
   "metadata": {},
   "outputs": [
    {
     "name": "stdout",
     "output_type": "stream",
     "text": [
      "🏋️ EJERCICIO 2: ANÁLISIS EDUCATIVO\n",
      "===================================\n",
      "📝 Tarea: Selecciona 'parental level of education' y 'test preparation course'\n",
      "💡 Pista: Cuidado con los espacios en los nombres\n",
      "\n",
      "✅ Resultado:\n",
      "parental level of education  test preparation course\n",
      "some college                 none                       149\n",
      "associate's degree           none                       140\n",
      "high school                  none                       140\n",
      "some high school             none                       102\n",
      "associate's degree           completed                   82\n",
      "some college                 completed                   77\n",
      "some high school             completed                   77\n",
      "bachelor's degree            none                        72\n",
      "high school                  completed                   56\n",
      "bachelor's degree            completed                   46\n",
      "master's degree              none                        39\n",
      "                             completed                   20\n",
      "Name: count, dtype: int64\n"
     ]
    }
   ],
   "source": [
    "# 🏋️ EJERCICIO 2: Análisis educativo\n",
    "print(\"🏋️ EJERCICIO 2: ANÁLISIS EDUCATIVO\")\n",
    "print(\"=\" * 35)\n",
    "print(\"📝 Tarea: Selecciona 'parental level of education' y 'test preparation course'\")\n",
    "print(\"💡 Pista: Cuidado con los espacios en los nombres\")\n",
    "print()\n",
    "\n",
    "# 🔽 Escribe tu código aquí:\n",
    "ejercicio_2 = df_exams[['parental level of education', 'test preparation course']]\n",
    "\n",
    "print(\"✅ Resultado:\")\n",
    "print(ejercicio_2.value_counts())"
   ]
  },
  {
   "cell_type": "code",
   "execution_count": 16,
   "id": "exercise-3",
   "metadata": {},
   "outputs": [
    {
     "name": "stdout",
     "output_type": "stream",
     "text": [
      "🏋️ EJERCICIO 3: DESAFÍO AVANZADO\n",
      "===================================\n",
      "📝 Tarea: Crea un DataFrame con información completa del estudiante\n",
      "   Incluye: gender, race/ethnicity, parental level of education, y las 3 puntuaciones\n",
      "\n",
      "✅ Resultado:\n",
      "📏 Forma: (1000, 6)\n",
      "\n",
      "🔝 Muestra:\n",
      "   gender race/ethnicity parental level of education  math score  \\\n",
      "0  female        group B           bachelor's degree          72   \n",
      "1  female        group C                some college          69   \n",
      "2  female        group B             master's degree          90   \n",
      "\n",
      "   reading score  writing score  \n",
      "0             72             74  \n",
      "1             90             88  \n",
      "2             95             93  \n"
     ]
    }
   ],
   "source": [
    "# 🏋️ EJERCICIO 3: Desafío avanzado\n",
    "print(\"🏋️ EJERCICIO 3: DESAFÍO AVANZADO\")\n",
    "print(\"=\" * 35)\n",
    "print(\"📝 Tarea: Crea un DataFrame con información completa del estudiante\")\n",
    "print(\"   Incluye: gender, race/ethnicity, parental level of education, y las 3 puntuaciones\")\n",
    "print()\n",
    "\n",
    "# 🔽 Escribe tu código aquí:\n",
    "ejercicio_3 = df_exams[[\n",
    "    'gender', \n",
    "    'race/ethnicity', \n",
    "    'parental level of education',\n",
    "    'math score', \n",
    "    'reading score', \n",
    "    'writing score'\n",
    "]]\n",
    "\n",
    "print(\"✅ Resultado:\")\n",
    "print(f\"📏 Forma: {ejercicio_3.shape}\")\n",
    "print(\"\\n🔝 Muestra:\")\n",
    "print(ejercicio_3.head(3))"
   ]
  },
  {
   "cell_type": "markdown",
   "id": "resumen",
   "metadata": {},
   "source": [
    "## 📝 9. Resumen y Mejores Prácticas\n",
    "\n",
    "<div style=\"background: linear-gradient(135deg, #28a745 0%, #20c997 100%); padding: 20px; border-radius: 15px; color: white; margin: 20px 0;\">\n",
    "    <h3>🎯 Puntos Clave para Recordar</h3>\n",
    "</div>"
   ]
  },
  {
   "cell_type": "markdown",
   "id": "key-points",
   "metadata": {},
   "source": [
    "### 🔑 **Conceptos Fundamentales:**\n",
    "\n",
    "1. **🎯 Sintaxis Correcta:**\n",
    "   - ✅ `df[['col1', 'col2']]` → DataFrame\n",
    "   - ❌ `df['col1', 'col2']` → Error\n",
    "\n",
    "2. **📊 Tipos de Retorno:**\n",
    "   - Múltiples columnas → `pandas.DataFrame`\n",
    "   - Una columna → `pandas.Series`\n",
    "\n",
    "3. **⚠️ Nombres de Columnas:**\n",
    "   - Usar nombres exactos (case-sensitive)\n",
    "   - Incluir espacios y caracteres especiales\n",
    "   - Verificar con `df.columns`\n",
    "\n",
    "### 🚀 **Mejores Prácticas:**\n",
    "\n",
    "- **📋 Planificación:** Define qué columnas necesitas antes de seleccionar\n",
    "- **🔍 Verificación:** Siempre revisa el resultado con `.head()` y `.shape`\n",
    "- **📊 Análisis:** Usa `.describe()` para entender tus datos seleccionados\n",
    "- **💾 Almacenamiento:** Guarda selecciones frecuentes en variables\n",
    "- **🧹 Limpieza:** Mantén tu código organizado y comentado\n",
    "\n",
    "### 🎓 **Casos de Uso Comunes:**\n",
    "\n",
    "- **👥 Análisis demográfico:** Combinar características personales con métricas\n",
    "- **📈 Análisis de rendimiento:** Comparar múltiples métricas\n",
    "- **🔗 Análisis de correlación:** Estudiar relaciones entre variables\n",
    "- **📊 Reportes:** Crear vistas específicas para stakeholders\n",
    "\n",
    "---\n",
    "\n",
    "<div style=\"background-color: #0a0a0aff; padding: 15px; border-radius: 10px; text-align: center; margin: 20px 0;\">\n",
    "    <h3>🎉 ¡Felicitaciones!</h3>\n",
    "    <p><strong>Has dominado la selección de múltiples columnas en Pandas</strong></p>\n",
    "    <p>🚀 Siguiente paso: Aprende sobre filtrado y manipulación avanzada de datos</p>\n",
    "</div>"
   ]
  }
 ],
 "metadata": {
  "kernelspec": {
   "display_name": "venv",
   "language": "python",
   "name": "python3"
  },
  "language_info": {
   "codemirror_mode": {
    "name": "ipython",
    "version": 3
   },
   "file_extension": ".py",
   "mimetype": "text/x-python",
   "name": "python",
   "nbconvert_exporter": "python",
   "pygments_lexer": "ipython3",
   "version": "3.12.3"
  }
 },
 "nbformat": 4,
 "nbformat_minor": 5
}
