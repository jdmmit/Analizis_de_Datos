{
 "cells": [
  {
   "cell_type": "markdown",
   "id": "26e21fdf",
   "metadata": {},
   "source": [
    "1 Hello World"
   ]
  },
  {
   "cell_type": "code",
   "execution_count": 1763,
   "id": "4d5997ce",
   "metadata": {},
   "outputs": [
    {
     "name": "stdout",
     "output_type": "stream",
     "text": [
      "Hello World\n"
     ]
    }
   ],
   "source": [
    "print(\"Hello World\")"
   ]
  },
  {
   "cell_type": "code",
   "execution_count": 1764,
   "id": "4d93cdf7",
   "metadata": {},
   "outputs": [
    {
     "data": {
      "text/plain": [
       "'Hello World'"
      ]
     },
     "execution_count": 1764,
     "metadata": {},
     "output_type": "execute_result"
    }
   ],
   "source": [
    "\"Hello World\""
   ]
  },
  {
   "cell_type": "code",
   "execution_count": 1765,
   "id": "d9e856ea",
   "metadata": {},
   "outputs": [
    {
     "name": "stdout",
     "output_type": "stream",
     "text": [
      "Juan David\n"
     ]
    }
   ],
   "source": [
    "# Printing my name\n",
    "print(\"Juan David\")"
   ]
  },
  {
   "cell_type": "markdown",
   "id": "784dd47c",
   "metadata": {},
   "source": [
    "2 Tipos de datos"
   ]
  },
  {
   "cell_type": "code",
   "execution_count": 1766,
   "id": "71666a73",
   "metadata": {},
   "outputs": [
    {
     "data": {
      "text/plain": [
       "int"
      ]
     },
     "execution_count": 1766,
     "metadata": {},
     "output_type": "execute_result"
    }
   ],
   "source": [
    "type(1)"
   ]
  },
  {
   "cell_type": "code",
   "execution_count": 1767,
   "id": "54b5c2de",
   "metadata": {},
   "outputs": [
    {
     "data": {
      "text/plain": [
       "float"
      ]
     },
     "execution_count": 1767,
     "metadata": {},
     "output_type": "execute_result"
    }
   ],
   "source": [
    "type(3.5)"
   ]
  },
  {
   "cell_type": "code",
   "execution_count": 1768,
   "id": "58fefa23",
   "metadata": {},
   "outputs": [
    {
     "data": {
      "text/plain": [
       "bool"
      ]
     },
     "execution_count": 1768,
     "metadata": {},
     "output_type": "execute_result"
    }
   ],
   "source": [
    "type(True)"
   ]
  },
  {
   "cell_type": "code",
   "execution_count": 1769,
   "id": "404bdaec",
   "metadata": {},
   "outputs": [
    {
     "data": {
      "text/plain": [
       "str"
      ]
     },
     "execution_count": 1769,
     "metadata": {},
     "output_type": "execute_result"
    }
   ],
   "source": [
    "type(\"Hello World\")"
   ]
  },
  {
   "cell_type": "code",
   "execution_count": 1770,
   "id": "489076cb",
   "metadata": {},
   "outputs": [
    {
     "name": "stdout",
     "output_type": "stream",
     "text": [
      "HELLO WORLD\n",
      "hello world\n",
      "Hello World\n",
      "Hello world\n"
     ]
    }
   ],
   "source": [
    "print(\"Hello World\".upper())\n",
    "print(\"Hello World\".lower())\n",
    "print(\"Hello World\".title())\n",
    "print(\"Hello World\".capitalize())\n"
   ]
  },
  {
   "cell_type": "code",
   "execution_count": 1771,
   "id": "262d2f06",
   "metadata": {},
   "outputs": [
    {
     "name": "stdout",
     "output_type": "stream",
     "text": [
      "2\n"
     ]
    }
   ],
   "source": [
    "print(\"Hello World\".count(\"o\"))"
   ]
  },
  {
   "cell_type": "code",
   "execution_count": 1772,
   "id": "323dec2b",
   "metadata": {},
   "outputs": [
    {
     "name": "stdout",
     "output_type": "stream",
     "text": [
      "Hello Everyone\n"
     ]
    }
   ],
   "source": [
    "print(\"Hello World\".replace(\"World\", \"Everyone\"))"
   ]
  },
  {
   "cell_type": "markdown",
   "id": "530d6db9",
   "metadata": {},
   "source": [
    "3 Variables"
   ]
  },
  {
   "cell_type": "code",
   "execution_count": 1773,
   "id": "884be3b1",
   "metadata": {},
   "outputs": [],
   "source": [
    "message_1 = \"Estoy aprendiendo Python \""
   ]
  },
  {
   "cell_type": "code",
   "execution_count": 1774,
   "id": "18d0b18f",
   "metadata": {},
   "outputs": [
    {
     "name": "stdout",
     "output_type": "stream",
     "text": [
      "Estoy aprendiendo Python \n"
     ]
    }
   ],
   "source": [
    "print(message_1)"
   ]
  },
  {
   "cell_type": "code",
   "execution_count": 1775,
   "id": "ab639363",
   "metadata": {},
   "outputs": [],
   "source": [
    "messege_2 = \"y es muy interesante\""
   ]
  },
  {
   "cell_type": "code",
   "execution_count": 1776,
   "id": "f6432b4f",
   "metadata": {},
   "outputs": [
    {
     "name": "stdout",
     "output_type": "stream",
     "text": [
      "y es muy interesante\n",
      "Estoy aprendiendo Python y es muy interesante\n"
     ]
    }
   ],
   "source": [
    "print(messege_2)\n",
    "print(message_1 + messege_2)"
   ]
  },
  {
   "cell_type": "code",
   "execution_count": 1777,
   "id": "24478a37",
   "metadata": {},
   "outputs": [
    {
     "name": "stdout",
     "output_type": "stream",
     "text": [
      "Estoy aprendiendo Python  y es muy interesante\n"
     ]
    }
   ],
   "source": [
    "massege = (f\"{message_1} {messege_2}\")\n",
    "\n",
    "print(massege)"
   ]
  },
  {
   "cell_type": "markdown",
   "id": "87ce52b0",
   "metadata": {},
   "source": [
    "4 Listas"
   ]
  },
  {
   "cell_type": "code",
   "execution_count": 1778,
   "id": "4b897f16",
   "metadata": {},
   "outputs": [],
   "source": [
    "countries = [\"Rusia\", \"Colombia\", \"Mexico\" ]"
   ]
  },
  {
   "cell_type": "code",
   "execution_count": 1779,
   "id": "3ac09c9c",
   "metadata": {},
   "outputs": [
    {
     "name": "stdout",
     "output_type": "stream",
     "text": [
      "['Rusia', 'Colombia', 'Mexico']\n"
     ]
    }
   ],
   "source": [
    "print(countries)"
   ]
  },
  {
   "cell_type": "markdown",
   "id": "2ba03369",
   "metadata": {},
   "source": [
    "4.1 Slicing"
   ]
  },
  {
   "cell_type": "code",
   "execution_count": 1780,
   "id": "a79ab7df",
   "metadata": {},
   "outputs": [
    {
     "name": "stdout",
     "output_type": "stream",
     "text": [
      "Rusia\n"
     ]
    }
   ],
   "source": [
    "print(countries[0])"
   ]
  },
  {
   "cell_type": "code",
   "execution_count": 1781,
   "id": "5cc8806f",
   "metadata": {},
   "outputs": [
    {
     "name": "stdout",
     "output_type": "stream",
     "text": [
      "['Rusia', 'Colombia', 'Mexico', 'Argentina']\n"
     ]
    }
   ],
   "source": [
    "countries.append(\"Argentina\")\n",
    "print(countries)"
   ]
  },
  {
   "cell_type": "code",
   "execution_count": 1782,
   "id": "c6435f0e",
   "metadata": {},
   "outputs": [
    {
     "name": "stdout",
     "output_type": "stream",
     "text": [
      "['Mexico']\n"
     ]
    }
   ],
   "source": [
    "print(countries[2:3])"
   ]
  },
  {
   "cell_type": "markdown",
   "id": "c3a54dcb",
   "metadata": {},
   "source": [
    "4.2 Operaciones y Metodos"
   ]
  },
  {
   "cell_type": "code",
   "execution_count": 1783,
   "id": "f2043201",
   "metadata": {},
   "outputs": [
    {
     "data": {
      "text/plain": [
       "['Rusia', 'Colombia', 'Mexico', 'Argentina']"
      ]
     },
     "execution_count": 1783,
     "metadata": {},
     "output_type": "execute_result"
    }
   ],
   "source": [
    "countries"
   ]
  },
  {
   "cell_type": "code",
   "execution_count": 1784,
   "id": "b5a7c1fb",
   "metadata": {},
   "outputs": [
    {
     "name": "stdout",
     "output_type": "stream",
     "text": [
      "['Rusia', 'Colombia', 'Mexico', 'Argentina', 'Peru']\n"
     ]
    }
   ],
   "source": [
    "countries.append(\"Peru\")\n",
    "print(countries)"
   ]
  },
  {
   "cell_type": "code",
   "execution_count": 1785,
   "id": "11451c78",
   "metadata": {},
   "outputs": [
    {
     "data": {
      "text/plain": [
       "['Rusia', 'Colombia', 'Mexico', 'Argentina', 'Peru']"
      ]
     },
     "execution_count": 1785,
     "metadata": {},
     "output_type": "execute_result"
    }
   ],
   "source": [
    "countries"
   ]
  },
  {
   "cell_type": "code",
   "execution_count": 1786,
   "id": "2eddb432",
   "metadata": {},
   "outputs": [
    {
     "name": "stdout",
     "output_type": "stream",
     "text": [
      "['Chile', 'Rusia', 'Colombia', 'Mexico', 'Argentina', 'Peru']\n"
     ]
    }
   ],
   "source": [
    "countries.insert(0,\"Chile\")\n",
    "print(countries)"
   ]
  },
  {
   "cell_type": "code",
   "execution_count": 1787,
   "id": "772367d7",
   "metadata": {},
   "outputs": [
    {
     "name": "stdout",
     "output_type": "stream",
     "text": [
      "['Brasil', 'Ecuador', 'Venezuela']\n"
     ]
    }
   ],
   "source": [
    "countries_2 = [\"Brasil\", \"Ecuador\", \"Venezuela\"]\n",
    "print(countries_2)"
   ]
  },
  {
   "cell_type": "code",
   "execution_count": 1788,
   "id": "fdcc14fd",
   "metadata": {},
   "outputs": [
    {
     "name": "stdout",
     "output_type": "stream",
     "text": [
      "['Chile', 'Rusia', 'Colombia', 'Mexico', 'Argentina', 'Peru', 'Brasil', 'Ecuador', 'Venezuela']\n"
     ]
    }
   ],
   "source": [
    "countries_3 = countries + countries_2\n",
    "print(countries_3)"
   ]
  },
  {
   "cell_type": "code",
   "execution_count": 1789,
   "id": "ed9c52e1",
   "metadata": {},
   "outputs": [
    {
     "name": "stdout",
     "output_type": "stream",
     "text": [
      "[['Chile', 'Rusia', 'Colombia', 'Mexico', 'Argentina', 'Peru'], ['Brasil', 'Ecuador', 'Venezuela'], ['Chile', 'Rusia', 'Colombia', 'Mexico', 'Argentina', 'Peru', 'Brasil', 'Ecuador', 'Venezuela']]\n"
     ]
    }
   ],
   "source": [
    "nueva_lista = [countries, countries_2, countries_3]\n",
    "print(nueva_lista)  "
   ]
  },
  {
   "cell_type": "markdown",
   "id": "50eafe60",
   "metadata": {},
   "source": [
    "4.3 Eliminar elementos"
   ]
  },
  {
   "cell_type": "code",
   "execution_count": 1790,
   "id": "d7ab8b6d",
   "metadata": {},
   "outputs": [
    {
     "name": "stdout",
     "output_type": "stream",
     "text": [
      "['Chile', 'Rusia', 'Colombia', 'Argentina', 'Peru']\n"
     ]
    }
   ],
   "source": [
    "countries.remove(\"Mexico\")\n",
    "print(countries)"
   ]
  },
  {
   "cell_type": "code",
   "execution_count": 1791,
   "id": "0d52fbb1",
   "metadata": {},
   "outputs": [
    {
     "name": "stdout",
     "output_type": "stream",
     "text": [
      "['Rusia', 'Colombia', 'Argentina', 'Peru']\n"
     ]
    }
   ],
   "source": [
    "countries.pop(0)\n",
    "print(countries)"
   ]
  },
  {
   "cell_type": "code",
   "execution_count": 1792,
   "id": "f11ef48e",
   "metadata": {},
   "outputs": [
    {
     "name": "stdout",
     "output_type": "stream",
     "text": [
      "['Colombia', 'Argentina', 'Peru']\n"
     ]
    }
   ],
   "source": [
    "del countries[0]\n",
    "print(countries)"
   ]
  },
  {
   "cell_type": "markdown",
   "id": "2857f21f",
   "metadata": {},
   "source": [
    "4.4 Ordenar elementos de una lista"
   ]
  },
  {
   "cell_type": "code",
   "execution_count": 1793,
   "id": "703a9e01",
   "metadata": {},
   "outputs": [
    {
     "name": "stdout",
     "output_type": "stream",
     "text": [
      "[10, 1, 8, 50, 33, 2, 5, 3, 4, 6, 7, 9, 11]\n"
     ]
    }
   ],
   "source": [
    "numbers = [10, 1, 8, 50, 33, 2, 5, 3, 4, 6, 7, 9, 11]\n",
    "print(numbers)"
   ]
  },
  {
   "cell_type": "code",
   "execution_count": 1794,
   "id": "07e1c29f",
   "metadata": {},
   "outputs": [
    {
     "name": "stdout",
     "output_type": "stream",
     "text": [
      "[1, 2, 3, 4, 5, 6, 7, 8, 9, 10, 11, 33, 50]\n"
     ]
    }
   ],
   "source": [
    "numbers.sort()\n",
    "print(numbers)"
   ]
  },
  {
   "cell_type": "code",
   "execution_count": 1795,
   "id": "64270d3d",
   "metadata": {},
   "outputs": [
    {
     "name": "stdout",
     "output_type": "stream",
     "text": [
      "[50, 33, 11, 10, 9, 8, 7, 6, 5, 4, 3, 2, 1]\n"
     ]
    }
   ],
   "source": [
    "numbers.sort(reverse=True)\n",
    "print(numbers)"
   ]
  },
  {
   "cell_type": "code",
   "execution_count": 1796,
   "id": "34ddefd0",
   "metadata": {},
   "outputs": [
    {
     "name": "stdout",
     "output_type": "stream",
     "text": [
      "[100, 33, 11, 10, 9, 8, 7, 6, 5, 4, 3, 2, 1]\n"
     ]
    }
   ],
   "source": [
    "numbers[0] = 100\n",
    "print(numbers)"
   ]
  },
  {
   "cell_type": "markdown",
   "id": "2af1b4b9",
   "metadata": {},
   "source": [
    "4.5 Copiar una lista"
   ]
  },
  {
   "cell_type": "code",
   "execution_count": 1797,
   "id": "f9968ad6",
   "metadata": {},
   "outputs": [
    {
     "name": "stdout",
     "output_type": "stream",
     "text": [
      "['Colombia', 'Argentina', 'Peru']\n"
     ]
    }
   ],
   "source": [
    "countries_copy = countries.copy()\n",
    "print(countries_copy)"
   ]
  },
  {
   "cell_type": "code",
   "execution_count": 1798,
   "id": "64316774",
   "metadata": {},
   "outputs": [
    {
     "data": {
      "text/plain": [
       "['Colombia']"
      ]
     },
     "execution_count": 1798,
     "metadata": {},
     "output_type": "execute_result"
    }
   ],
   "source": [
    "countries_copy[0:1]\n"
   ]
  },
  {
   "cell_type": "markdown",
   "id": "7de831cd",
   "metadata": {},
   "source": [
    "5 Diccionario"
   ]
  },
  {
   "cell_type": "code",
   "execution_count": 1799,
   "id": "e35264c6",
   "metadata": {},
   "outputs": [],
   "source": [
    "mi_diccionario = {\n",
    "    \"nombre\": \"Juan David\",\n",
    "    \"edad\": 30,\n",
    "    \"ciudad\": \"Bogotá\",\n",
    "    \"lenguajes\": [\"Python\", \"JavaScript\", \"Java\"],\n",
    "    \"activo\": True,\n",
    "    \"puntuacion\": 95.5\n",
    "}"
   ]
  },
  {
   "cell_type": "code",
   "execution_count": 1800,
   "id": "36300cb5",
   "metadata": {},
   "outputs": [
    {
     "data": {
      "text/plain": [
       "{'nombre': 'Juan David',\n",
       " 'edad': 30,\n",
       " 'ciudad': 'Bogotá',\n",
       " 'lenguajes': ['Python', 'JavaScript', 'Java'],\n",
       " 'activo': True,\n",
       " 'puntuacion': 95.5}"
      ]
     },
     "execution_count": 1800,
     "metadata": {},
     "output_type": "execute_result"
    }
   ],
   "source": [
    "mi_diccionario"
   ]
  },
  {
   "cell_type": "code",
   "execution_count": 1801,
   "id": "521c31fe",
   "metadata": {},
   "outputs": [],
   "source": [
    "my_data = {\n",
    "    \"name\": \"Pedro Jose\",\n",
    "    \"age\": 38,\n",
    "    \"city\": \"Bogotá\",\n",
    "    \"languages\": [\"Python\"],\n",
    "    \"active\": True,\n",
    "    \"score\": 65.5\n",
    "}"
   ]
  },
  {
   "cell_type": "code",
   "execution_count": 1802,
   "id": "c77017c5",
   "metadata": {},
   "outputs": [
    {
     "data": {
      "text/plain": [
       "'Pedro Jose'"
      ]
     },
     "execution_count": 1802,
     "metadata": {},
     "output_type": "execute_result"
    }
   ],
   "source": [
    "my_data[\"name\"]"
   ]
  },
  {
   "cell_type": "code",
   "execution_count": 1803,
   "id": "7832b197",
   "metadata": {},
   "outputs": [
    {
     "data": {
      "text/plain": [
       "dict_keys(['name', 'age', 'city', 'languages', 'active', 'score'])"
      ]
     },
     "execution_count": 1803,
     "metadata": {},
     "output_type": "execute_result"
    }
   ],
   "source": [
    "my_data.keys()"
   ]
  },
  {
   "cell_type": "code",
   "execution_count": 1804,
   "id": "6da2ccb0",
   "metadata": {},
   "outputs": [
    {
     "data": {
      "text/plain": [
       "dict_values(['Pedro Jose', 38, 'Bogotá', ['Python'], True, 65.5])"
      ]
     },
     "execution_count": 1804,
     "metadata": {},
     "output_type": "execute_result"
    }
   ],
   "source": [
    "my_data.values()"
   ]
  },
  {
   "cell_type": "code",
   "execution_count": 1805,
   "id": "9ebe2deb",
   "metadata": {},
   "outputs": [
    {
     "data": {
      "text/plain": [
       "dict_items([('name', 'Pedro Jose'), ('age', 38), ('city', 'Bogotá'), ('languages', ['Python']), ('active', True), ('score', 65.5)])"
      ]
     },
     "execution_count": 1805,
     "metadata": {},
     "output_type": "execute_result"
    }
   ],
   "source": [
    "my_data.items()"
   ]
  },
  {
   "cell_type": "markdown",
   "id": "c4f6c109",
   "metadata": {},
   "source": [
    "5.1 Agregar / actualizar elementos"
   ]
  },
  {
   "cell_type": "code",
   "execution_count": 1806,
   "id": "104a5e44",
   "metadata": {},
   "outputs": [
    {
     "data": {
      "text/plain": [
       "{'name': 'pedro',\n",
       " 'age': 38,\n",
       " 'city': 'Bogotá',\n",
       " 'languages': ['Python'],\n",
       " 'active': True,\n",
       " 'score': 65.5}"
      ]
     },
     "execution_count": 1806,
     "metadata": {},
     "output_type": "execute_result"
    }
   ],
   "source": [
    "my_data[\"name\"] = \"pedro\"\n",
    "my_data"
   ]
  },
  {
   "cell_type": "code",
   "execution_count": 1807,
   "id": "2a6a7072",
   "metadata": {},
   "outputs": [
    {
     "data": {
      "text/plain": [
       "{'name': 'Pedro',\n",
       " 'age': 38,\n",
       " 'city': 'Bogotá',\n",
       " 'languages': ['JavaScript', 'Java'],\n",
       " 'active': True,\n",
       " 'score': 65.5}"
      ]
     },
     "execution_count": 1807,
     "metadata": {},
     "output_type": "execute_result"
    }
   ],
   "source": [
    "my_data.update({\"name\":\"Pedro\", \"languages\":[\"JavaScript\", \"Java\"]})\n",
    "my_data"
   ]
  },
  {
   "cell_type": "markdown",
   "id": "f68faabe",
   "metadata": {},
   "source": [
    "5.2 Copiar un diccionario"
   ]
  },
  {
   "cell_type": "code",
   "execution_count": 1808,
   "id": "0638f9cf",
   "metadata": {},
   "outputs": [
    {
     "name": "stdout",
     "output_type": "stream",
     "text": [
      "{'name': 'Pedro', 'age': 38, 'city': 'Bogotá', 'languages': ['JavaScript', 'Java'], 'active': True, 'score': 65.5}\n"
     ]
    }
   ],
   "source": [
    "nuevo_diccionario = my_data.copy()\n",
    "print(nuevo_diccionario)"
   ]
  },
  {
   "cell_type": "markdown",
   "id": "ecafb456",
   "metadata": {},
   "source": [
    "5.3 Eliminar elementos"
   ]
  },
  {
   "cell_type": "code",
   "execution_count": 1809,
   "id": "16ae7d87",
   "metadata": {},
   "outputs": [
    {
     "name": "stdout",
     "output_type": "stream",
     "text": [
      "{'name': 'Pedro', 'city': 'Bogotá', 'languages': ['JavaScript', 'Java'], 'active': True, 'score': 65.5}\n"
     ]
    }
   ],
   "source": [
    "my_data.pop(\"age\")\n",
    "print(my_data)"
   ]
  },
  {
   "cell_type": "code",
   "execution_count": 1810,
   "id": "52ead997",
   "metadata": {},
   "outputs": [
    {
     "name": "stdout",
     "output_type": "stream",
     "text": [
      "{'name': 'Pedro', 'languages': ['JavaScript', 'Java'], 'active': True, 'score': 65.5}\n"
     ]
    }
   ],
   "source": [
    "del my_data[\"city\"]\n",
    "print(my_data)"
   ]
  },
  {
   "cell_type": "code",
   "execution_count": 1811,
   "id": "3ff1020e",
   "metadata": {},
   "outputs": [
    {
     "name": "stdout",
     "output_type": "stream",
     "text": [
      "{}\n"
     ]
    }
   ],
   "source": [
    "my_data.clear()\n",
    "print(my_data)"
   ]
  },
  {
   "cell_type": "markdown",
   "id": "2709d817",
   "metadata": {},
   "source": [
    "6 if"
   ]
  },
  {
   "cell_type": "code",
   "execution_count": 1812,
   "id": "4f50792d",
   "metadata": {},
   "outputs": [
    {
     "name": "stdout",
     "output_type": "stream",
     "text": [
      "Eres mayor de edad\n"
     ]
    }
   ],
   "source": [
    "edad = 30\n",
    "\n",
    "if edad >= 18:\n",
    "    print(\"Eres mayor de edad\")\n",
    "elif edad < 18:\n",
    "    print(\"Eres menor de edad\")\n",
    "else:\n",
    "    print(\"Edad no válida\")"
   ]
  },
  {
   "cell_type": "code",
   "execution_count": 1813,
   "id": "83ca6295",
   "metadata": {},
   "outputs": [],
   "source": [
    "countries = [\"USA\", \"Canada\", \"Mexico\"] "
   ]
  },
  {
   "cell_type": "code",
   "execution_count": 1814,
   "id": "e2d29e07",
   "metadata": {},
   "outputs": [
    {
     "name": "stdout",
     "output_type": "stream",
     "text": [
      "USA no está en la lista\n"
     ]
    }
   ],
   "source": [
    "if \"usa \" in countries:\n",
    "    print(\"USA está en la lista\")\n",
    "else:\n",
    "    print(\"USA no está en la lista\")"
   ]
  },
  {
   "cell_type": "markdown",
   "id": "f9187b22",
   "metadata": {},
   "source": [
    "7 For loop(bucle for)"
   ]
  },
  {
   "cell_type": "code",
   "execution_count": 1815,
   "id": "c35f7e0d",
   "metadata": {},
   "outputs": [
    {
     "name": "stdout",
     "output_type": "stream",
     "text": [
      "USA\n",
      "Canada\n",
      "Mexico\n"
     ]
    }
   ],
   "source": [
    "for pais in countries:\n",
    "    print(pais)\n"
   ]
  },
  {
   "cell_type": "code",
   "execution_count": 1816,
   "id": "3f174e09",
   "metadata": {},
   "outputs": [
    {
     "name": "stdout",
     "output_type": "stream",
     "text": [
      "USA no es Canada\n",
      "Encontré a Canada\n",
      "Mexico no es Canada\n"
     ]
    }
   ],
   "source": [
    "for pais in countries:\n",
    "    if pais == \"Canada\":\n",
    "        print(\"Encontré a Canada\")\n",
    "    else:\n",
    "        print(f\"{pais} no es Canada\")"
   ]
  },
  {
   "cell_type": "code",
   "execution_count": 1817,
   "id": "c3af5fa2",
   "metadata": {},
   "outputs": [
    {
     "name": "stdout",
     "output_type": "stream",
     "text": [
      "País 0: USA\n",
      "País 1: Canada\n",
      "País 2: Mexico\n"
     ]
    }
   ],
   "source": [
    "for numero, pais in enumerate(countries):\n",
    "    print(f\"País {numero}: {pais}\")\n"
   ]
  },
  {
   "cell_type": "code",
   "execution_count": 1818,
   "id": "f6a95cde",
   "metadata": {},
   "outputs": [],
   "source": [
    "my_data = {\n",
    "    \"name\": \"Juan David\",\n",
    "    \"age\": 30,\n",
    "    \"city\": \"Bogotá\",\n",
    "    \"languages\": [\"Python\", \"JavaScript\"],\n",
    "    \"active\": True,\n",
    "    \"score\": 85.5\n",
    "}"
   ]
  },
  {
   "cell_type": "code",
   "execution_count": 1819,
   "id": "8693dc74",
   "metadata": {},
   "outputs": [
    {
     "data": {
      "text/plain": [
       "dict_items([('name', 'Juan David'), ('age', 30), ('city', 'Bogotá'), ('languages', ['Python', 'JavaScript']), ('active', True), ('score', 85.5)])"
      ]
     },
     "execution_count": 1819,
     "metadata": {},
     "output_type": "execute_result"
    }
   ],
   "source": [
    "my_data.items()"
   ]
  },
  {
   "cell_type": "code",
   "execution_count": 1820,
   "id": "f30bc4e7",
   "metadata": {},
   "outputs": [
    {
     "name": "stdout",
     "output_type": "stream",
     "text": [
      "name: Juan David\n",
      "age: 30\n",
      "city: Bogotá\n",
      "languages: ['Python', 'JavaScript']\n",
      "active: True\n",
      "score: 85.5\n"
     ]
    }
   ],
   "source": [
    "for key, value in my_data.items():\n",
    "    print(f\"{key}: {value}\")"
   ]
  },
  {
   "cell_type": "markdown",
   "id": "fb2f3b3d",
   "metadata": {},
   "source": [
    "8 Funciones"
   ]
  },
  {
   "cell_type": "markdown",
   "id": "75033d42",
   "metadata": {},
   "source": [
    "8.1 Funciones pre-fabricadas"
   ]
  },
  {
   "cell_type": "code",
   "execution_count": 1821,
   "id": "a8acd427",
   "metadata": {},
   "outputs": [
    {
     "data": {
      "text/plain": [
       "6"
      ]
     },
     "execution_count": 1821,
     "metadata": {},
     "output_type": "execute_result"
    }
   ],
   "source": [
    "len(my_data)\n"
   ]
  },
  {
   "cell_type": "code",
   "execution_count": 1822,
   "id": "71750d5e",
   "metadata": {},
   "outputs": [
    {
     "data": {
      "text/plain": [
       "35"
      ]
     },
     "execution_count": 1822,
     "metadata": {},
     "output_type": "execute_result"
    }
   ],
   "source": [
    "max([1,35,8,4,6,7,9,11])"
   ]
  },
  {
   "cell_type": "code",
   "execution_count": 1823,
   "id": "92bee32e",
   "metadata": {},
   "outputs": [
    {
     "data": {
      "text/plain": [
       "1"
      ]
     },
     "execution_count": 1823,
     "metadata": {},
     "output_type": "execute_result"
    }
   ],
   "source": [
    "min([1,35,8,4,6,7,9,11])"
   ]
  },
  {
   "cell_type": "code",
   "execution_count": 1824,
   "id": "4571bf1a",
   "metadata": {},
   "outputs": [
    {
     "data": {
      "text/plain": [
       "3.14"
      ]
     },
     "execution_count": 1824,
     "metadata": {},
     "output_type": "execute_result"
    }
   ],
   "source": [
    "round(3.14159, 2)"
   ]
  },
  {
   "cell_type": "code",
   "execution_count": 1825,
   "id": "4efbf7cd",
   "metadata": {},
   "outputs": [
    {
     "data": {
      "text/plain": [
       "range(0, 10)"
      ]
     },
     "execution_count": 1825,
     "metadata": {},
     "output_type": "execute_result"
    }
   ],
   "source": [
    "range(10)"
   ]
  },
  {
   "cell_type": "markdown",
   "id": "5f531893",
   "metadata": {},
   "source": [
    "8.2 Funciones personalisadas"
   ]
  },
  {
   "cell_type": "code",
   "execution_count": 1826,
   "id": "971fa2f4",
   "metadata": {},
   "outputs": [],
   "source": [
    "def sumar_numer(a, b):\n",
    "    suma_final = a + b\n",
    "    return suma_final"
   ]
  },
  {
   "cell_type": "code",
   "execution_count": 1827,
   "id": "8469f051",
   "metadata": {},
   "outputs": [
    {
     "data": {
      "text/plain": [
       "15"
      ]
     },
     "execution_count": 1827,
     "metadata": {},
     "output_type": "execute_result"
    }
   ],
   "source": [
    "sumar_numer(5, 10)"
   ]
  },
  {
   "cell_type": "markdown",
   "id": "a2525034",
   "metadata": {},
   "source": [
    "9 Modulos"
   ]
  },
  {
   "cell_type": "markdown",
   "id": "83904ec2",
   "metadata": {},
   "source": [
    "9.1 Modulos OS"
   ]
  },
  {
   "cell_type": "code",
   "execution_count": 1828,
   "id": "34a9823f",
   "metadata": {},
   "outputs": [],
   "source": [
    "import os"
   ]
  },
  {
   "cell_type": "code",
   "execution_count": 1829,
   "id": "90bfe83c",
   "metadata": {},
   "outputs": [
    {
     "data": {
      "text/plain": [
       "'/home/ctrl/git_hub/Analizis_de_Datos/DataScience'"
      ]
     },
     "execution_count": 1829,
     "metadata": {},
     "output_type": "execute_result"
    }
   ],
   "source": [
    "os.getcwd()"
   ]
  },
  {
   "cell_type": "code",
   "execution_count": 1830,
   "id": "c64eaf2a",
   "metadata": {},
   "outputs": [
    {
     "data": {
      "text/plain": [
       "['01_Hello_world.ipynb']"
      ]
     },
     "execution_count": 1830,
     "metadata": {},
     "output_type": "execute_result"
    }
   ],
   "source": [
    "os.listdir()"
   ]
  },
  {
   "cell_type": "code",
   "execution_count": 1831,
   "id": "00a88ad7",
   "metadata": {},
   "outputs": [],
   "source": [
    "os.makedirs(\"nueva_carpeta\", exist_ok=True)"
   ]
  },
  {
   "cell_type": "code",
   "execution_count": 1832,
   "id": "4b7bd88d",
   "metadata": {},
   "outputs": [
    {
     "data": {
      "text/plain": [
       "['nueva_carpeta', '01_Hello_world.ipynb']"
      ]
     },
     "execution_count": 1832,
     "metadata": {},
     "output_type": "execute_result"
    }
   ],
   "source": [
    "os.listdir()"
   ]
  }
 ],
 "metadata": {
  "kernelspec": {
   "display_name": "venv",
   "language": "python",
   "name": "python3"
  },
  "language_info": {
   "codemirror_mode": {
    "name": "ipython",
    "version": 3
   },
   "file_extension": ".py",
   "mimetype": "text/x-python",
   "name": "python",
   "nbconvert_exporter": "python",
   "pygments_lexer": "ipython3",
   "version": "3.12.3"
  }
 },
 "nbformat": 4,
 "nbformat_minor": 5
}
