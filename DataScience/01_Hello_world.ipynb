{
 "cells": [
  {
   "cell_type": "markdown",
   "id": "26e21fdf",
   "metadata": {},
   "source": [
    "1 Hello World"
   ]
  },
  {
   "cell_type": "code",
   "execution_count": 37,
   "id": "4d5997ce",
   "metadata": {},
   "outputs": [
    {
     "name": "stdout",
     "output_type": "stream",
     "text": [
      "Hello World\n"
     ]
    }
   ],
   "source": [
    "print(\"Hello World\")"
   ]
  },
  {
   "cell_type": "code",
   "execution_count": 38,
   "id": "4d93cdf7",
   "metadata": {},
   "outputs": [
    {
     "data": {
      "text/plain": [
       "'Hello World'"
      ]
     },
     "execution_count": 38,
     "metadata": {},
     "output_type": "execute_result"
    }
   ],
   "source": [
    "\"Hello World\""
   ]
  },
  {
   "cell_type": "code",
   "execution_count": 39,
   "id": "d9e856ea",
   "metadata": {},
   "outputs": [
    {
     "name": "stdout",
     "output_type": "stream",
     "text": [
      "Juan David\n"
     ]
    }
   ],
   "source": [
    "# Printing my name\n",
    "print(\"Juan David\")"
   ]
  },
  {
   "cell_type": "markdown",
   "id": "784dd47c",
   "metadata": {},
   "source": [
    "2 Tipos de datos"
   ]
  },
  {
   "cell_type": "code",
   "execution_count": 40,
   "id": "71666a73",
   "metadata": {},
   "outputs": [
    {
     "data": {
      "text/plain": [
       "int"
      ]
     },
     "execution_count": 40,
     "metadata": {},
     "output_type": "execute_result"
    }
   ],
   "source": [
    "type(1)"
   ]
  },
  {
   "cell_type": "code",
   "execution_count": 41,
   "id": "54b5c2de",
   "metadata": {},
   "outputs": [
    {
     "data": {
      "text/plain": [
       "float"
      ]
     },
     "execution_count": 41,
     "metadata": {},
     "output_type": "execute_result"
    }
   ],
   "source": [
    "type(3.5)"
   ]
  },
  {
   "cell_type": "code",
   "execution_count": 42,
   "id": "58fefa23",
   "metadata": {},
   "outputs": [
    {
     "data": {
      "text/plain": [
       "bool"
      ]
     },
     "execution_count": 42,
     "metadata": {},
     "output_type": "execute_result"
    }
   ],
   "source": [
    "type(True)"
   ]
  },
  {
   "cell_type": "code",
   "execution_count": 43,
   "id": "404bdaec",
   "metadata": {},
   "outputs": [
    {
     "data": {
      "text/plain": [
       "str"
      ]
     },
     "execution_count": 43,
     "metadata": {},
     "output_type": "execute_result"
    }
   ],
   "source": [
    "type(\"Hello World\")"
   ]
  },
  {
   "cell_type": "code",
   "execution_count": 44,
   "id": "489076cb",
   "metadata": {},
   "outputs": [
    {
     "name": "stdout",
     "output_type": "stream",
     "text": [
      "HELLO WORLD\n",
      "hello world\n",
      "Hello World\n",
      "Hello world\n"
     ]
    }
   ],
   "source": [
    "print(\"Hello World\".upper())\n",
    "print(\"Hello World\".lower())\n",
    "print(\"Hello World\".title())\n",
    "print(\"Hello World\".capitalize())\n"
   ]
  },
  {
   "cell_type": "code",
   "execution_count": 45,
   "id": "262d2f06",
   "metadata": {},
   "outputs": [
    {
     "name": "stdout",
     "output_type": "stream",
     "text": [
      "2\n"
     ]
    }
   ],
   "source": [
    "print(\"Hello World\".count(\"o\"))"
   ]
  },
  {
   "cell_type": "code",
   "execution_count": 46,
   "id": "323dec2b",
   "metadata": {},
   "outputs": [
    {
     "name": "stdout",
     "output_type": "stream",
     "text": [
      "Hello Everyone\n"
     ]
    }
   ],
   "source": [
    "print(\"Hello World\".replace(\"World\", \"Everyone\"))"
   ]
  },
  {
   "cell_type": "markdown",
   "id": "530d6db9",
   "metadata": {},
   "source": [
    "3 Variables"
   ]
  },
  {
   "cell_type": "code",
   "execution_count": 47,
   "id": "884be3b1",
   "metadata": {},
   "outputs": [],
   "source": [
    "message_1 = \"Estoy aprendiendo Python \""
   ]
  },
  {
   "cell_type": "code",
   "execution_count": 48,
   "id": "18d0b18f",
   "metadata": {},
   "outputs": [
    {
     "name": "stdout",
     "output_type": "stream",
     "text": [
      "Estoy aprendiendo Python \n"
     ]
    }
   ],
   "source": [
    "print(message_1)"
   ]
  },
  {
   "cell_type": "code",
   "execution_count": 49,
   "id": "ab639363",
   "metadata": {},
   "outputs": [],
   "source": [
    "messege_2 = \"y es muy interesante\""
   ]
  },
  {
   "cell_type": "code",
   "execution_count": 50,
   "id": "f6432b4f",
   "metadata": {},
   "outputs": [
    {
     "name": "stdout",
     "output_type": "stream",
     "text": [
      "y es muy interesante\n",
      "Estoy aprendiendo Python y es muy interesante\n"
     ]
    }
   ],
   "source": [
    "print(messege_2)\n",
    "print(message_1 + messege_2)"
   ]
  },
  {
   "cell_type": "code",
   "execution_count": 51,
   "id": "24478a37",
   "metadata": {},
   "outputs": [
    {
     "name": "stdout",
     "output_type": "stream",
     "text": [
      "Estoy aprendiendo Python  y es muy interesante\n"
     ]
    }
   ],
   "source": [
    "massege = (f\"{message_1} {messege_2}\")\n",
    "\n",
    "print(massege)"
   ]
  },
  {
   "cell_type": "markdown",
   "id": "87ce52b0",
   "metadata": {},
   "source": [
    "4 Listas"
   ]
  },
  {
   "cell_type": "code",
   "execution_count": 52,
   "id": "4b897f16",
   "metadata": {},
   "outputs": [],
   "source": [
    "countries = [\"Rusia\", \"Colombia\", \"Mexico\" ]"
   ]
  },
  {
   "cell_type": "code",
   "execution_count": 53,
   "id": "3ac09c9c",
   "metadata": {},
   "outputs": [
    {
     "name": "stdout",
     "output_type": "stream",
     "text": [
      "['Rusia', 'Colombia', 'Mexico']\n"
     ]
    }
   ],
   "source": [
    "print(countries)"
   ]
  },
  {
   "cell_type": "markdown",
   "id": "2ba03369",
   "metadata": {},
   "source": [
    "4.1 Slicing"
   ]
  },
  {
   "cell_type": "code",
   "execution_count": 54,
   "id": "a79ab7df",
   "metadata": {},
   "outputs": [
    {
     "name": "stdout",
     "output_type": "stream",
     "text": [
      "Rusia\n"
     ]
    }
   ],
   "source": [
    "print(countries[0])"
   ]
  },
  {
   "cell_type": "code",
   "execution_count": 55,
   "id": "5cc8806f",
   "metadata": {},
   "outputs": [
    {
     "name": "stdout",
     "output_type": "stream",
     "text": [
      "['Rusia', 'Colombia', 'Mexico', 'Argentina']\n"
     ]
    }
   ],
   "source": [
    "countries.append(\"Argentina\")\n",
    "print(countries)"
   ]
  },
  {
   "cell_type": "code",
   "execution_count": 56,
   "id": "c6435f0e",
   "metadata": {},
   "outputs": [
    {
     "name": "stdout",
     "output_type": "stream",
     "text": [
      "['Mexico']\n"
     ]
    }
   ],
   "source": [
    "print(countries[2:3])"
   ]
  },
  {
   "cell_type": "markdown",
   "id": "c3a54dcb",
   "metadata": {},
   "source": [
    "4.2 Operaciones y Metodos"
   ]
  },
  {
   "cell_type": "code",
   "execution_count": 57,
   "id": "f2043201",
   "metadata": {},
   "outputs": [
    {
     "data": {
      "text/plain": [
       "['Rusia', 'Colombia', 'Mexico', 'Argentina']"
      ]
     },
     "execution_count": 57,
     "metadata": {},
     "output_type": "execute_result"
    }
   ],
   "source": [
    "countries"
   ]
  },
  {
   "cell_type": "code",
   "execution_count": 58,
   "id": "b5a7c1fb",
   "metadata": {},
   "outputs": [
    {
     "name": "stdout",
     "output_type": "stream",
     "text": [
      "['Rusia', 'Colombia', 'Mexico', 'Argentina', 'Peru']\n"
     ]
    }
   ],
   "source": [
    "countries.append(\"Peru\")\n",
    "print(countries)"
   ]
  },
  {
   "cell_type": "code",
   "execution_count": 59,
   "id": "11451c78",
   "metadata": {},
   "outputs": [
    {
     "data": {
      "text/plain": [
       "['Rusia', 'Colombia', 'Mexico', 'Argentina', 'Peru']"
      ]
     },
     "execution_count": 59,
     "metadata": {},
     "output_type": "execute_result"
    }
   ],
   "source": [
    "countries"
   ]
  },
  {
   "cell_type": "code",
   "execution_count": 60,
   "id": "2eddb432",
   "metadata": {},
   "outputs": [
    {
     "name": "stdout",
     "output_type": "stream",
     "text": [
      "['Chile', 'Rusia', 'Colombia', 'Mexico', 'Argentina', 'Peru']\n"
     ]
    }
   ],
   "source": [
    "countries.insert(0,\"Chile\")\n",
    "print(countries)"
   ]
  },
  {
   "cell_type": "code",
   "execution_count": 61,
   "id": "772367d7",
   "metadata": {},
   "outputs": [
    {
     "name": "stdout",
     "output_type": "stream",
     "text": [
      "['Brasil', 'Ecuador', 'Venezuela']\n"
     ]
    }
   ],
   "source": [
    "countries_2 = [\"Brasil\", \"Ecuador\", \"Venezuela\"]\n",
    "print(countries_2)"
   ]
  },
  {
   "cell_type": "code",
   "execution_count": 62,
   "id": "fdcc14fd",
   "metadata": {},
   "outputs": [
    {
     "name": "stdout",
     "output_type": "stream",
     "text": [
      "['Chile', 'Rusia', 'Colombia', 'Mexico', 'Argentina', 'Peru', 'Brasil', 'Ecuador', 'Venezuela']\n"
     ]
    }
   ],
   "source": [
    "countries_3 = countries + countries_2\n",
    "print(countries_3)"
   ]
  },
  {
   "cell_type": "code",
   "execution_count": 63,
   "id": "ed9c52e1",
   "metadata": {},
   "outputs": [
    {
     "name": "stdout",
     "output_type": "stream",
     "text": [
      "[['Chile', 'Rusia', 'Colombia', 'Mexico', 'Argentina', 'Peru'], ['Brasil', 'Ecuador', 'Venezuela'], ['Chile', 'Rusia', 'Colombia', 'Mexico', 'Argentina', 'Peru', 'Brasil', 'Ecuador', 'Venezuela']]\n"
     ]
    }
   ],
   "source": [
    "nueva_lista = [countries, countries_2, countries_3]\n",
    "print(nueva_lista)  "
   ]
  },
  {
   "cell_type": "markdown",
   "id": "50eafe60",
   "metadata": {},
   "source": [
    "4.3 Eliminar elementos"
   ]
  },
  {
   "cell_type": "code",
   "execution_count": 64,
   "id": "d7ab8b6d",
   "metadata": {},
   "outputs": [
    {
     "name": "stdout",
     "output_type": "stream",
     "text": [
      "['Chile', 'Rusia', 'Colombia', 'Argentina', 'Peru']\n"
     ]
    }
   ],
   "source": [
    "countries.remove(\"Mexico\")\n",
    "print(countries)"
   ]
  },
  {
   "cell_type": "code",
   "execution_count": 65,
   "id": "0d52fbb1",
   "metadata": {},
   "outputs": [
    {
     "name": "stdout",
     "output_type": "stream",
     "text": [
      "['Rusia', 'Colombia', 'Argentina', 'Peru']\n"
     ]
    }
   ],
   "source": [
    "countries.pop(0)\n",
    "print(countries)"
   ]
  },
  {
   "cell_type": "code",
   "execution_count": 66,
   "id": "f11ef48e",
   "metadata": {},
   "outputs": [
    {
     "name": "stdout",
     "output_type": "stream",
     "text": [
      "['Colombia', 'Argentina', 'Peru']\n"
     ]
    }
   ],
   "source": [
    "del countries[0]\n",
    "print(countries)"
   ]
  },
  {
   "cell_type": "markdown",
   "id": "2857f21f",
   "metadata": {},
   "source": [
    "4.4 Ordenar elementos de una lista"
   ]
  },
  {
   "cell_type": "code",
   "execution_count": 67,
   "id": "703a9e01",
   "metadata": {},
   "outputs": [
    {
     "name": "stdout",
     "output_type": "stream",
     "text": [
      "[10, 1, 8, 50, 33, 2, 5, 3, 4, 6, 7, 9, 11]\n"
     ]
    }
   ],
   "source": [
    "numbers = [10, 1, 8, 50, 33, 2, 5, 3, 4, 6, 7, 9, 11]\n",
    "print(numbers)"
   ]
  },
  {
   "cell_type": "code",
   "execution_count": 68,
   "id": "07e1c29f",
   "metadata": {},
   "outputs": [
    {
     "name": "stdout",
     "output_type": "stream",
     "text": [
      "[1, 2, 3, 4, 5, 6, 7, 8, 9, 10, 11, 33, 50]\n"
     ]
    }
   ],
   "source": [
    "numbers.sort()\n",
    "print(numbers)"
   ]
  },
  {
   "cell_type": "code",
   "execution_count": 69,
   "id": "64270d3d",
   "metadata": {},
   "outputs": [
    {
     "name": "stdout",
     "output_type": "stream",
     "text": [
      "[50, 33, 11, 10, 9, 8, 7, 6, 5, 4, 3, 2, 1]\n"
     ]
    }
   ],
   "source": [
    "numbers.sort(reverse=True)\n",
    "print(numbers)"
   ]
  },
  {
   "cell_type": "code",
   "execution_count": 70,
   "id": "34ddefd0",
   "metadata": {},
   "outputs": [
    {
     "name": "stdout",
     "output_type": "stream",
     "text": [
      "[100, 33, 11, 10, 9, 8, 7, 6, 5, 4, 3, 2, 1]\n"
     ]
    }
   ],
   "source": [
    "numbers[0] = 100\n",
    "print(numbers)"
   ]
  },
  {
   "cell_type": "markdown",
   "id": "2af1b4b9",
   "metadata": {},
   "source": [
    "4.5 Copiar una lista"
   ]
  },
  {
   "cell_type": "code",
   "execution_count": 71,
   "id": "f9968ad6",
   "metadata": {},
   "outputs": [
    {
     "name": "stdout",
     "output_type": "stream",
     "text": [
      "['Colombia', 'Argentina', 'Peru']\n"
     ]
    }
   ],
   "source": [
    "countries_copy = countries.copy()\n",
    "print(countries_copy)"
   ]
  },
  {
   "cell_type": "code",
   "execution_count": 72,
   "id": "64316774",
   "metadata": {},
   "outputs": [
    {
     "data": {
      "text/plain": [
       "['Colombia']"
      ]
     },
     "execution_count": 72,
     "metadata": {},
     "output_type": "execute_result"
    }
   ],
   "source": [
    "countries_copy[0:1]\n"
   ]
  }
 ],
 "metadata": {
  "kernelspec": {
   "display_name": "venv",
   "language": "python",
   "name": "python3"
  },
  "language_info": {
   "codemirror_mode": {
    "name": "ipython",
    "version": 3
   },
   "file_extension": ".py",
   "mimetype": "text/x-python",
   "name": "python",
   "nbconvert_exporter": "python",
   "pygments_lexer": "ipython3",
   "version": "3.12.3"
  }
 },
 "nbformat": 4,
 "nbformat_minor": 5
}
