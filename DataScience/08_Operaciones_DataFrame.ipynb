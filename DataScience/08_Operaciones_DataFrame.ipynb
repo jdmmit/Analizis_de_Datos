{
 "cells": [
  {
   "cell_type": "markdown",
   "id": "main-title",
   "metadata": {},
   "source": [
    "# 📊 Operaciones con DataFrames en Pandas\n",
    "\n",
    "---\n",
    "\n",
    "## 🎯 Objetivo del Notebook\n",
    "En este notebook aprenderemos a realizar diferentes operaciones matemáticas y estadísticas con DataFrames de Pandas, utilizando un dataset de rendimiento estudiantil.\n",
    "\n",
    "---\n",
    "\n",
    "## 📋 Índice de Contenidos\n",
    "\n",
    "1. [🔧 Configuración Inicial](#configuracion)\n",
    "2. [📁 Carga de Datos](#carga-datos)\n",
    "3. [🔍 Exploración Inicial](#exploracion)\n",
    "4. [📊 Operaciones Estadísticas](#operaciones-estadisticas)\n",
    "   - [📈 Operaciones en Columnas](#operaciones-columnas)\n",
    "   - [🧮 Estadísticas Descriptivas](#estadisticas-descriptivas)\n",
    "5. [🔄 Operaciones en Filas](#operaciones-filas)\n",
    "6. [➕ Creación de Nuevas Columnas](#nuevas-columnas)\n",
    "7. [📝 Resumen y Conclusiones](#resumen)\n",
    "\n",
    "---"
   ]
  },
  {
   "cell_type": "markdown",
   "id": "configuracion",
   "metadata": {},
   "source": [
    "## 🔧 1. Configuración Inicial\n",
    "\n",
    "Importamos las librerías necesarias para trabajar con datos:"
   ]
  },
  {
   "cell_type": "code",
   "execution_count": null,
   "id": "imports",
   "metadata": {},
   "outputs": [],
   "source": [
    "# 📚 Importación de librerías\n",
    "import pandas as pd\n",
    "import numpy as np\n",
    "\n",
    "# 🎨 Configuración para mejor visualización\n",
    "pd.set_option('display.max_columns', None)\n",
    "pd.set_option('display.width', None)\n",
    "pd.set_option('display.max_colwidth', None)\n",
    "\n",
    "print(\"✅ Librerías importadas correctamente\")\n",
    "print(f\"📦 Pandas versión: {pd.__version__}\")\n",
    "print(f\"🔢 NumPy versión: {np.__version__}\")"
   ]
  },
  {
   "cell_type": "markdown",
   "id": "carga-datos",
   "metadata": {},
   "source": [
    "## 📁 2. Carga de Datos\n",
    "\n",
    "Cargamos el dataset de rendimiento estudiantil que contiene información sobre calificaciones en matemáticas, lectura y escritura:"
   ]
  },
  {
   "cell_type": "code",
   "execution_count": null,
   "id": "load-data",
   "metadata": {},
   "outputs": [],
   "source": [
    "# 📂 Carga del dataset\n",
    "df_exams = pd.read_csv(\"StudentsPerformance.csv\")\n",
    "\n",
    "print(\"🎉 Dataset cargado exitosamente!\")\n",
    "print(f\"📏 Dimensiones del dataset: {df_exams.shape[0]} filas x {df_exams.shape[1]} columnas\")"
   ]
  },
  {
   "cell_type": "markdown",
   "id": "exploracion",
   "metadata": {},
   "source": [
    "## 🔍 3. Exploración Inicial\n",
    "\n",
    "Vamos a explorar la estructura y contenido de nuestros datos:"
   ]
  },
  {
   "cell_type": "code",
   "execution_count": null,
   "id": "explore-data",
   "metadata": {},
   "outputs": [],
   "source": [
    "# 👀 Primeras 5 filas del dataset\n",
    "print(\"🔝 Primeras 5 filas del dataset:\")\n",
    "print(\"=\" * 50)\n",
    "df_exams.head()"
   ]
  },
  {
   "cell_type": "code",
   "execution_count": null,
   "id": "data-info",
   "metadata": {},
   "outputs": [],
   "source": [
    "# ℹ️ Información general del dataset\n",
    "print(\"📊 Información del Dataset:\")\n",
    "print(\"=\" * 30)\n",
    "df_exams.info()\n",
    "\n",
    "print(\"\\n🏷️ Nombres de las columnas:\")\n",
    "print(\"=\" * 25)\n",
    "for i, col in enumerate(df_exams.columns, 1):\n",
    "    print(f\"{i}. {col}\")"
   ]
  },
  {
   "cell_type": "markdown",
   "id": "operaciones-estadisticas",
   "metadata": {},
   "source": [
    "## 📊 4. Operaciones Estadísticas\n",
    "\n",
    "Ahora vamos a realizar diferentes operaciones matemáticas y estadísticas con nuestros datos."
   ]
  },
  {
   "cell_type": "markdown",
   "id": "operaciones-columnas",
   "metadata": {},
   "source": [
    "### 📈 4.1 Operaciones en Columnas\n",
    "\n",
    "Comenzamos con operaciones básicas en las columnas numéricas:"
   ]
  },
  {
   "cell_type": "code",
   "execution_count": null,
   "id": "sum-operation",
   "metadata": {},
   "outputs": [],
   "source": [
    "# ➕ Suma total de las calificaciones de matemáticas\n",
    "suma_math = df_exams[\"math score\"].sum()\n",
    "print(f\"🧮 Suma total de calificaciones de matemáticas: {suma_math:,}\")\n",
    "print(f\"💡 Esto representa la suma de todas las {len(df_exams)} calificaciones de matemáticas\")"
   ]
  },
  {
   "cell_type": "markdown",
   "id": "estadisticas-descriptivas",
   "metadata": {},
   "source": [
    "### 🧮 4.2 Estadísticas Descriptivas\n",
    "\n",
    "Calculemos las principales estadísticas descriptivas para las calificaciones de matemáticas:"
   ]
  },
  {
   "cell_type": "code",
   "execution_count": null,
   "id": "count-operation",
   "metadata": {},
   "outputs": [],
   "source": [
    "# 🔢 Contar el número de valores no nulos\n",
    "count_math = df_exams[\"math score\"].count()\n",
    "print(f\"📊 Número de calificaciones de matemáticas: {count_math}\")\n",
    "print(f\"✅ No hay valores faltantes en esta columna\")"
   ]
  },
  {
   "cell_type": "code",
   "execution_count": null,
   "id": "mean-operation",
   "metadata": {},
   "outputs": [],
   "source": [
    "# 📊 Promedio de las calificaciones de matemáticas\n",
    "mean_math = df_exams[\"math score\"].mean()\n",
    "print(f\"📈 Promedio de calificaciones de matemáticas: {mean_math:.2f}\")\n",
    "print(f\"🎯 La calificación promedio está {'por encima' if mean_math > 70 else 'por debajo'} de 70 puntos\")"
   ]
  },
  {
   "cell_type": "code",
   "execution_count": null,
   "id": "std-operation",
   "metadata": {},
   "outputs": [],
   "source": [
    "# 📏 Desviación estándar de las calificaciones de matemáticas\n",
    "std_math = df_exams[\"math score\"].std()\n",
    "print(f\"📐 Desviación estándar de matemáticas: {std_math:.2f}\")\n",
    "print(f\"📊 Esto indica {'alta' if std_math > 15 else 'baja'} variabilidad en las calificaciones\")"
   ]
  },
  {
   "cell_type": "code",
   "execution_count": null,
   "id": "max-operation",
   "metadata": {},
   "outputs": [],
   "source": [
    "# 🏆 Calificación máxima en matemáticas\n",
    "max_math = df_exams[\"math score\"].max()\n",
    "print(f\"🥇 Calificación máxima en matemáticas: {max_math}\")\n",
    "print(f\"🎉 ¡Excelente! Alguien obtuvo la calificación perfecta\" if max_math == 100 else f\"🎯 La mejor calificación fue {max_math}\")"
   ]
  },
  {
   "cell_type": "code",
   "execution_count": null,
   "id": "min-operation",
   "metadata": {},
   "outputs": [],
   "source": [
    "# 📉 Calificación mínima en matemáticas\n",
    "min_math = df_exams[\"math score\"].min()\n",
    "print(f\"📊 Calificación mínima en matemáticas: {min_math}\")\n",
    "print(f\"💪 Rango de calificaciones: {min_math} - {max_math} puntos\")"
   ]
  },
  {
   "cell_type": "code",
   "execution_count": null,
   "id": "describe-operation",
   "metadata": {},
   "outputs": [],
   "source": [
    "# 📋 Resumen estadístico completo de las calificaciones numéricas\n",
    "print(\"📊 RESUMEN ESTADÍSTICO COMPLETO\")\n",
    "print(\"=\" * 40)\n",
    "numeric_columns = ['math score', 'reading score', 'writing score']\n",
    "summary_stats = df_exams[numeric_columns].describe().round(2)\n",
    "print(summary_stats)\n",
    "\n",
    "print(\"\\n🎯 Interpretación:\")\n",
    "print(f\"📈 Matemáticas: Promedio {summary_stats.loc['mean', 'math score']}, Mediana {summary_stats.loc['50%', 'math score']}\")\n",
    "print(f\"📚 Lectura: Promedio {summary_stats.loc['mean', 'reading score']}, Mediana {summary_stats.loc['50%', 'reading score']}\")\n",
    "print(f\"✍️ Escritura: Promedio {summary_stats.loc['mean', 'writing score']}, Mediana {summary_stats.loc['50%', 'writing score']}\")"
   ]
  },
  {
   "cell_type": "markdown",
   "id": "operaciones-filas",
   "metadata": {},
   "source": [
    "## 🔄 5. Operaciones en Filas\n",
    "\n",
    "Ahora vamos a realizar operaciones que involucran múltiples columnas por fila:"
   ]
  },
  {
   "cell_type": "code",
   "execution_count": null,
   "id": "row-sum",
   "metadata": {},
   "outputs": [],
   "source": [
    "# ➕ Calcular la suma total de calificaciones por estudiante\n",
    "total_scores = df_exams[\"math score\"] + df_exams[\"reading score\"] + df_exams[\"writing score\"]\n",
    "\n",
    "print(\"🎯 SUMA TOTAL DE CALIFICACIONES POR ESTUDIANTE\")\n",
    "print(\"=\" * 45)\n",
    "print(f\"📊 Primeros 10 estudiantes:\")\n",
    "for i in range(10):\n",
    "    print(f\"👤 Estudiante {i+1}: {total_scores.iloc[i]} puntos\")\n",
    "\n",
    "print(f\"\\n📈 Estadísticas de la suma total:\")\n",
    "print(f\"🏆 Máximo: {total_scores.max()} puntos\")\n",
    "print(f\"📉 Mínimo: {total_scores.min()} puntos\")\n",
    "print(f\"📊 Promedio: {total_scores.mean():.2f} puntos\")"
   ]
  },
  {
   "cell_type": "markdown",
   "id": "nuevas-columnas",
   "metadata": {},
   "source": [
    "## ➕ 6. Creación de Nuevas Columnas\n",
    "\n",
    "Vamos a crear nuevas columnas calculadas a partir de las existentes:"
   ]
  },
  {
   "cell_type": "code",
   "execution_count": null,
   "id": "average-score",
   "metadata": {},
   "outputs": [],
   "source": [
    "# 🧮 Calcular el promedio de calificaciones por estudiante\n",
    "df_exams[\"average_score\"] = (df_exams[\"math score\"] + df_exams[\"reading score\"] + df_exams[\"writing score\"]) / 3\n",
    "\n",
    "print(\"✅ Nueva columna 'average_score' creada exitosamente!\")\n",
    "print(f\"📊 Promedio general de todos los estudiantes: {df_exams['average_score'].mean():.2f}\")"
   ]
  },
  {
   "cell_type": "code",
   "execution_count": null,
   "id": "performance-category",
   "metadata": {},
   "outputs": [],
   "source": [
    "# 🏷️ Crear categorías de rendimiento basadas en el promedio\n",
    "def categorize_performance(avg_score):\n",
    "    if avg_score >= 90:\n",
    "        return \"🏆 Excelente\"\n",
    "    elif avg_score >= 80:\n",
    "        return \"🥈 Muy Bueno\"\n",
    "    elif avg_score >= 70:\n",
    "        return \"🥉 Bueno\"\n",
    "    elif avg_score >= 60:\n",
    "        return \"📚 Regular\"\n",
    "    else:\n",
    "        return \"💪 Necesita Mejora\"\n",
    "\n",
    "df_exams[\"performance_category\"] = df_exams[\"average_score\"].apply(categorize_performance)\n",
    "\n",
    "print(\"🎯 DISTRIBUCIÓN DE CATEGORÍAS DE RENDIMIENTO\")\n",
    "print(\"=\" * 45)\n",
    "category_counts = df_exams[\"performance_category\"].value_counts()\n",
    "for category, count in category_counts.items():\n",
    "    percentage = (count / len(df_exams)) * 100\n",
    "    print(f\"{category}: {count} estudiantes ({percentage:.1f}%)\")"
   ]
  },
  {
   "cell_type": "code",
   "execution_count": null,
   "id": "final-dataframe",
   "metadata": {},
   "outputs": [],
   "source": [
    "# 👀 Mostrar el DataFrame final con todas las nuevas columnas\n",
    "print(\"📊 DATASET FINAL CON NUEVAS COLUMNAS\")\n",
    "print(\"=\" * 40)\n",
    "print(f\"📏 Nuevas dimensiones: {df_exams.shape[0]} filas x {df_exams.shape[1]} columnas\")\n",
    "print(\"\\n🔝 Primeras 10 filas con promedios redondeados:\")\n",
    "\n",
    "# Crear una copia para mostrar con valores redondeados\n",
    "df_display = df_exams.copy()\n",
    "df_display[\"average_score\"] = df_display[\"average_score\"].round(2)\n",
    "\n",
    "df_display.head(10)"
   ]
  },
  {
   "cell_type": "code",
   "execution_count": null,
   "id": "top-performers",
   "metadata": {},
   "outputs": [],
   "source": [
    "# 🏆 Identificar a los mejores estudiantes\n",
    "print(\"🌟 TOP 5 ESTUDIANTES CON MEJOR RENDIMIENTO\")\n",
    "print(\"=\" * 45)\n",
    "\n",
    "top_students = df_exams.nlargest(5, 'average_score')[['gender', 'math score', 'reading score', 'writing score', 'average_score', 'performance_category']]\n",
    "top_students_display = top_students.copy()\n",
    "top_students_display['average_score'] = top_students_display['average_score'].round(2)\n",
    "\n",
    "for idx, (index, student) in enumerate(top_students_display.iterrows(), 1):\n",
    "    print(f\"🥇 #{idx} - Promedio: {student['average_score']:.2f} | Matemáticas: {student['math score']} | Lectura: {student['reading score']} | Escritura: {student['writing score']} | {student['performance_category']}\")"
   ]
  },
  {
   "cell_type": "markdown",
   "id": "resumen",
   "metadata": {},
   "source": [
    "## 📝 7. Resumen y Conclusiones\n",
    "\n",
    "### 🎯 Lo que hemos aprendido:\n",
    "\n",
    "1. **📊 Operaciones Básicas**: Suma, conteo, promedio, desviación estándar, máximo y mínimo\n",
    "2. **🔄 Operaciones entre Columnas**: Cálculos que involucran múltiples columnas\n",
    "3. **➕ Creación de Nuevas Variables**: Columnas calculadas y categorizadas\n",
    "4. **📈 Análisis Estadístico**: Interpretación de resultados y patrones\n",
    "\n",
    "### 🔍 Principales Hallazgos:\n",
    "\n",
    "- 📚 **Rendimiento General**: El dataset contiene 1,000 estudiantes con calificaciones en tres materias\n",
    "- 📊 **Distribución**: Las calificaciones muestran una distribución variada con diferentes niveles de rendimiento\n",
    "- 🏆 **Excelencia**: Identificamos estudiantes con rendimiento excepcional (promedio ≥ 90)\n",
    "- 💪 **Oportunidades**: También identificamos estudiantes que necesitan apoyo adicional\n",
    "\n",
    "### 🚀 Próximos Pasos:\n",
    "\n",
    "- 📈 Análisis de correlaciones entre materias\n",
    "- 🔍 Análisis por grupos demográficos\n",
    "- 📊 Visualizaciones avanzadas\n",
    "- 🤖 Modelos predictivos\n",
    "\n",
    "---\n",
    "\n",
    "### 🎉 ¡Felicidades!\n",
    "Has completado exitosamente el análisis de operaciones con DataFrames. Ahora tienes las herramientas para realizar análisis estadísticos básicos y crear nuevas variables derivadas.\n",
    "\n",
    "---\n",
    "\n",
    "*📚 Notebook creado para el aprendizaje de Pandas y análisis de datos*"
   ]
  }
 ],
 "metadata": {
  "kernelspec": {
   "display_name": "venv",
   "language": "python",
   "name": "python3"
  },
  "language_info": {
   "codemirror_mode": {
    "name": "ipython",
    "version": 3
   },
   "file_extension": ".py",
   "mimetype": "text/x-python",
   "name": "python",
   "nbconvert_exporter": "python",
   "pygments_lexer": "ipython3",
   "version": "3.12.3"
  }
 },
 "nbformat": 4,
 "nbformat_minor": 5
}