{
 "cells": [
  {
   "cell_type": "markdown",
   "id": "503e3649",
   "metadata": {},
   "source": [
    "# 📊 Selección de Columnas en DataFrames con Pandas\n",
    "\n",
    "## 🎯 Objetivo del Tutorial\n",
    "Aprender las diferentes formas de seleccionar una columna específica de un DataFrame de pandas, entender las diferencias entre los métodos y conocer las mejores prácticas.\n",
    "\n",
    "---\n",
    "\n",
    "## 📋 Índice de Contenidos\n",
    "\n",
    "1. [🚀 Preparación del Entorno](#1-preparacion)\n",
    "2. [📁 Carga de Datos](#2-carga-datos)\n",
    "3. [🔍 Métodos de Selección de Columnas](#3-metodos-seleccion)\n",
    "   - [3.1 📌 Método con Corchetes `[]`](#31-metodo-corchetes)\n",
    "   - [3.2 📌 Método con Punto `.`](#32-metodo-punto)\n",
    "4. [⚠️ Errores Comunes y Limitaciones](#4-errores-comunes)\n",
    "5. [🔬 Explorando las Series de Pandas](#5-explorando-series)\n",
    "6. [💡 Mejores Prácticas](#6-mejores-practicas)\n",
    "7. [📝 Resumen y Conclusiones](#7-resumen)\n",
    "\n",
    "---"
   ]
  },
  {
   "cell_type": "markdown",
   "id": "preparation-section",
   "metadata": {},
   "source": [
    "## 1. 🚀 Preparación del Entorno {#1-preparacion}\n",
    "\n",
    "Comenzamos importando la librería pandas, que es fundamental para el análisis de datos en Python."
   ]
  },
  {
   "cell_type": "code",
   "execution_count": null,
   "id": "6b0269b2",
   "metadata": {},
   "outputs": [],
   "source": [
    "# 📦 Importamos pandas para manipulación de datos\n",
    "import pandas as pd\n",
    "\n",
    "# 🎨 Configuramos pandas para mostrar más columnas\n",
    "pd.set_option('display.max_columns', None)\n",
    "pd.set_option('display.width', None)\n",
    "\n",
    "print(\"✅ Pandas importado correctamente\")\n",
    "print(f\"📊 Versión de pandas: {pd.__version__}\")"
   ]
  },
  {
   "cell_type": "markdown",
   "id": "data-loading-section",
   "metadata": {},
   "source": [
    "## 2. 📁 Carga de Datos {#2-carga-datos}\n",
    "\n",
    "Utilizaremos el dataset **StudentsPerformance.csv** que contiene información sobre el rendimiento académico de estudiantes. Este dataset incluye variables demográficas y puntuaciones en diferentes materias."
   ]
  },
  {
   "cell_type": "code",
   "execution_count": null,
   "id": "5648ec96",
   "metadata": {},
   "outputs": [],
   "source": [
    "# 📖 Cargamos el dataset de rendimiento estudiantil\n",
    "df_exams = pd.read_csv('StudentsPerformance.csv')\n",
    "\n",
    "# 👀 Visualizamos el DataFrame completo\n",
    "print(\"📊 Dataset de Rendimiento Estudiantil\")\n",
    "print(\"=\" * 50)\n",
    "df_exams"
   ]
  },
  {
   "cell_type": "code",
   "execution_count": null,
   "id": "dataset-info",
   "metadata": {},
   "outputs": [],
   "source": [
    "# 📈 Información básica del dataset\n",
    "print(\"📋 Información del Dataset:\")\n",
    "print(f\"   📏 Dimensiones: {df_exams.shape[0]} filas × {df_exams.shape[1]} columnas\")\n",
    "print(f\"   📊 Columnas disponibles:\")\n",
    "for i, col in enumerate(df_exams.columns, 1):\n",
    "    print(f\"      {i}. {col}\")"
   ]
  },
  {
   "cell_type": "markdown",
   "id": "selection-methods-section",
   "metadata": {},
   "source": [
    "## 3. 🔍 Métodos de Selección de Columnas {#3-metodos-seleccion}\n",
    "\n",
    "Pandas ofrece principalmente **dos métodos** para seleccionar una columna específica de un DataFrame. Cada método tiene sus ventajas y limitaciones."
   ]
  },
  {
   "cell_type": "markdown",
   "id": "40f363f2",
   "metadata": {},
   "source": [
    "### 3.1 📌 Método con Corchetes `[]` {#31-metodo-corchetes}\n",
    "\n",
    "Este es el método **más recomendado** y versátil para seleccionar columnas. Funciona con cualquier nombre de columna, incluso si contiene espacios o caracteres especiales."
   ]
  },
  {
   "cell_type": "code",
   "execution_count": null,
   "id": "34bf2b35",
   "metadata": {},
   "outputs": [],
   "source": [
    "# 🎯 Seleccionamos la columna 'gender' usando corchetes\n",
    "columna_gender = df_exams[\"gender\"]\n",
    "\n",
    "print(\"👥 Columna 'gender' seleccionada:\")\n",
    "print(\"=\" * 35)\n",
    "columna_gender"
   ]
  },
  {
   "cell_type": "code",
   "execution_count": null,
   "id": "e39c2d78",
   "metadata": {},
   "outputs": [],
   "source": [
    "# 🔍 Verificamos el tipo de dato que obtenemos\n",
    "tipo_columna = type(df_exams[\"gender\"])\n",
    "\n",
    "print(f\"📊 Tipo de dato obtenido: {tipo_columna}\")\n",
    "print(\"💡 Al seleccionar una columna, obtenemos un objeto Series de pandas\")"
   ]
  },
  {
   "cell_type": "markdown",
   "id": "series-exploration",
   "metadata": {},
   "source": [
    "### 🔬 Explorando las Propiedades de una Series"
   ]
  },
  {
   "cell_type": "code",
   "execution_count": null,
   "id": "bfe9ff90",
   "metadata": {},
   "outputs": [],
   "source": [
    "# 🏷️ Exploramos el índice de la Series\n",
    "indice_series = df_exams[\"gender\"].index\n",
    "\n",
    "print(\"🔢 Índice de la Series:\")\n",
    "print(indice_series)\n",
    "print(f\"\\n📏 Longitud del índice: {len(indice_series)}\")"
   ]
  },
  {
   "cell_type": "code",
   "execution_count": null,
   "id": "d764db3e",
   "metadata": {},
   "outputs": [],
   "source": [
    "# 👀 Visualizamos los primeros 5 elementos\n",
    "print(\"🔝 Primeros 5 elementos de la columna 'gender':\")\n",
    "print(\"=\" * 45)\n",
    "df_exams[\"gender\"].head()"
   ]
  },
  {
   "cell_type": "code",
   "execution_count": null,
   "id": "b5257756",
   "metadata": {},
   "outputs": [],
   "source": [
    "# 🧮 Accedemos a los valores como array de NumPy\n",
    "valores_array = df_exams[\"gender\"].values\n",
    "\n",
    "print(\"🔢 Valores de la columna como array de NumPy:\")\n",
    "print(\"=\" * 45)\n",
    "print(f\"Tipo: {type(valores_array)}\")\n",
    "print(f\"Primeros 10 valores: {valores_array[:10]}\")\n",
    "print(f\"Forma del array: {valores_array.shape}\")"
   ]
  },
  {
   "cell_type": "code",
   "execution_count": null,
   "id": "f843fc0e",
   "metadata": {},
   "outputs": [],
   "source": [
    "# 🏷️ Verificamos el tipo de datos de la columna\n",
    "tipo_datos = df_exams[\"gender\"].dtype\n",
    "\n",
    "print(f\"📊 Tipo de datos de la columna 'gender': {tipo_datos}\")\n",
    "print(\"💡 'O' significa 'object', típicamente strings en pandas\")"
   ]
  },
  {
   "cell_type": "markdown",
   "id": "c29608c4",
   "metadata": {},
   "source": [
    "### 3.2 📌 Método con Punto `.` {#32-metodo-punto}\n",
    "\n",
    "Este método es más **conciso** pero tiene limitaciones importantes. Solo funciona cuando el nombre de la columna:\n",
    "- No contiene espacios\n",
    "- No contiene caracteres especiales\n",
    "- No coincide con métodos existentes de pandas"
   ]
  },
  {
   "cell_type": "code",
   "execution_count": null,
   "id": "46beb278",
   "metadata": {},
   "outputs": [],
   "source": [
    "# ✅ Ejemplo exitoso: seleccionamos 'gender' con punto\n",
    "columna_gender_punto = df_exams.gender\n",
    "\n",
    "print(\"👥 Columna 'gender' seleccionada con punto:\")\n",
    "print(\"=\" * 40)\n",
    "columna_gender_punto"
   ]
  },
  {
   "cell_type": "code",
   "execution_count": null,
   "id": "comparison",
   "metadata": {},
   "outputs": [],
   "source": [
    "# 🔍 Comparamos ambos métodos\n",
    "metodo_corchetes = df_exams[\"gender\"]\n",
    "metodo_punto = df_exams.gender\n",
    "\n",
    "print(\"🆚 Comparación de métodos:\")\n",
    "print(f\"   Método corchetes - Tipo: {type(metodo_corchetes)}\")\n",
    "print(f\"   Método punto - Tipo: {type(metodo_punto)}\")\n",
    "print(f\"   ¿Son iguales? {metodo_corchetes.equals(metodo_punto)}\")"
   ]
  },
  {
   "cell_type": "markdown",
   "id": "errors-section",
   "metadata": {},
   "source": [
    "## 4. ⚠️ Errores Comunes y Limitaciones {#4-errores-comunes}\n",
    "\n",
    "Es importante conocer las limitaciones del método con punto para evitar errores en nuestro código."
   ]
  },
  {
   "cell_type": "code",
   "execution_count": null,
   "id": "7b05cf18",
   "metadata": {},
   "outputs": [],
   "source": [
    "# ❌ Ejemplo de error: columna con espacios usando punto\n",
    "print(\"⚠️ Intentando acceder a 'math score' con punto:\")\n",
    "print(\"Código: df_exams.math score\")\n",
    "print(\"❌ Esto generará un SyntaxError porque 'math score' contiene un espacio\")\n",
    "\n",
    "# Descomenta la siguiente línea para ver el error:\n",
    "# df_exams.math score"
   ]
  },
  {
   "cell_type": "code",
   "execution_count": null,
   "id": "1814dd21",
   "metadata": {},
   "outputs": [],
   "source": [
    "# ✅ Solución correcta: usar corchetes para columnas con espacios\n",
    "columna_math = df_exams[\"math score\"]\n",
    "\n",
    "print(\"✅ Acceso correcto a 'math score' con corchetes:\")\n",
    "print(\"=\" * 45)\n",
    "print(f\"📊 Primeros 5 valores: {columna_math.head().tolist()}\")\n",
    "print(f\"📈 Estadísticas básicas:\")\n",
    "print(f\"   • Promedio: {columna_math.mean():.2f}\")\n",
    "print(f\"   • Mínimo: {columna_math.min()}\")\n",
    "print(f\"   • Máximo: {columna_math.max()}\")"
   ]
  },
  {
   "cell_type": "markdown",
   "id": "series-deep-dive",
   "metadata": {},
   "source": [
    "## 5. 🔬 Explorando las Series de Pandas {#5-explorando-series}\n",
    "\n",
    "Una **Series** es una estructura de datos unidimensional de pandas. Veamos sus características principales:"
   ]
  },
  {
   "cell_type": "code",
   "execution_count": null,
   "id": "series-analysis",
   "metadata": {},
   "outputs": [],
   "source": [
    "# 📊 Análisis completo de una Series\n",
    "serie_gender = df_exams[\"gender\"]\n",
    "\n",
    "print(\"🔍 Análisis de la Series 'gender':\")\n",
    "print(\"=\" * 35)\n",
    "print(f\"📏 Longitud: {len(serie_gender)}\")\n",
    "print(f\"🏷️ Nombre: {serie_gender.name}\")\n",
    "print(f\"📊 Tipo de datos: {serie_gender.dtype}\")\n",
    "print(f\"🔢 Valores únicos: {serie_gender.nunique()}\")\n",
    "print(f\"📋 Lista de valores únicos: {serie_gender.unique().tolist()}\")\n",
    "\n",
    "print(\"\\n📈 Conteo de valores:\")\n",
    "print(serie_gender.value_counts())"
   ]
  },
  {
   "cell_type": "code",
   "execution_count": null,
   "id": "numeric-series",
   "metadata": {},
   "outputs": [],
   "source": [
    "# 🧮 Análisis de una columna numérica\n",
    "serie_math = df_exams[\"math score\"]\n",
    "\n",
    "print(\"🔢 Análisis de la Series 'math score':\")\n",
    "print(\"=\" * 38)\n",
    "print(f\"📊 Estadísticas descriptivas:\")\n",
    "print(serie_math.describe())\n",
    "\n",
    "print(f\"\\n🎯 Información adicional:\")\n",
    "print(f\"   • Mediana: {serie_math.median()}\")\n",
    "print(f\"   • Moda: {serie_math.mode().iloc[0]}\")\n",
    "print(f\"   • Desviación estándar: {serie_math.std():.2f}\")"
   ]
  },
  {
   "cell_type": "markdown",
   "id": "best-practices",
   "metadata": {},
   "source": [
    "## 6. 💡 Mejores Prácticas {#6-mejores-practicas}\n",
    "\n",
    "### ✅ Recomendaciones:\n",
    "\n",
    "1. **Usa siempre corchetes `[]`** para seleccionar columnas - es más seguro y consistente\n",
    "2. **Verifica los nombres** de las columnas antes de seleccionarlas\n",
    "3. **Maneja los espacios** en nombres de columnas apropiadamente\n",
    "4. **Explora las Series** obtenidas para entender mejor tus datos"
   ]
  },
  {
   "cell_type": "code",
   "execution_count": null,
   "id": "best-practices-demo",
   "metadata": {},
   "outputs": [],
   "source": [
    "# 🎯 Ejemplo de buenas prácticas\n",
    "\n",
    "# 1. Verificar columnas disponibles\n",
    "print(\"📋 Columnas disponibles:\")\n",
    "print(df_exams.columns.tolist())\n",
    "\n",
    "# 2. Seleccionar columna de forma segura\n",
    "columna_deseada = \"reading score\"\n",
    "if columna_deseada in df_exams.columns:\n",
    "    serie_reading = df_exams[columna_deseada]\n",
    "    print(f\"\\n✅ Columna '{columna_deseada}' seleccionada exitosamente\")\n",
    "    print(f\"📊 Primeros 3 valores: {serie_reading.head(3).tolist()}\")\n",
    "else:\n",
    "    print(f\"❌ La columna '{columna_deseada}' no existe\")\n",
    "\n",
    "# 3. Exploración rápida\n",
    "print(f\"\\n🔍 Exploración rápida:\")\n",
    "print(f\"   • Tipo: {type(serie_reading)}\")\n",
    "print(f\"   • Forma: {serie_reading.shape}\")\n",
    "print(f\"   • Valores nulos: {serie_reading.isnull().sum()}\")"
   ]
  },
  {
   "cell_type": "markdown",
   "id": "summary-section",
   "metadata": {},
   "source": [
    "## 7. 📝 Resumen y Conclusiones {#7-resumen}\n",
    "\n",
    "### 🎯 Lo que hemos aprendido:\n",
    "\n",
    "| Aspecto | Método `[]` | Método `.` |\n",
    "|---------|-------------|------------|\n",
    "| **Sintaxis** | `df[\"columna\"]` | `df.columna` |\n",
    "| **Espacios en nombres** | ✅ Funciona | ❌ No funciona |\n",
    "| **Caracteres especiales** | ✅ Funciona | ❌ Limitado |\n",
    "| **Consistencia** | ✅ Siempre funciona | ⚠️ Puede fallar |\n",
    "| **Recomendación** | 🌟 **Preferido** | ⚠️ Usar con cuidado |\n",
    "\n",
    "### 🔑 Puntos Clave:\n",
    "\n",
    "1. **Series de pandas**: Al seleccionar una columna obtenemos un objeto Series\n",
    "2. **Flexibilidad**: El método con corchetes es más versátil\n",
    "3. **Exploración**: Las Series tienen muchos métodos útiles para análisis\n",
    "4. **Buenas prácticas**: Siempre verificar y explorar los datos seleccionados\n",
    "\n",
    "### 🚀 Próximos pasos:\n",
    "\n",
    "- Selección de múltiples columnas\n",
    "- Filtrado de datos\n",
    "- Operaciones con Series\n",
    "- Indexación avanzada\n",
    "\n",
    "---\n",
    "\n",
    "### 🎉 ¡Felicitaciones!\n",
    "\n",
    "Has completado exitosamente el tutorial sobre selección de columnas en pandas. Ahora tienes las herramientas necesarias para trabajar con DataFrames de manera eficiente y segura.\n",
    "\n",
    "**¡Sigue practicando y explorando el mundo del análisis de datos! 📊🚀**"
   ]
  }
 ],
 "metadata": {
  "kernelspec": {
   "display_name": "venv",
   "language": "python",
   "name": "python3"
  },
  "language_info": {
   "codemirror_mode": {
    "name": "ipython",
    "version": 3
   },
   "file_extension": ".py",
   "mimetype": "text/x-python",
   "name": "python",
   "nbconvert_exporter": "python",
   "pygments_lexer": "ipython3",
   "version": "3.12.3"
  }
 },
 "nbformat": 4,
 "nbformat_minor": 5
}